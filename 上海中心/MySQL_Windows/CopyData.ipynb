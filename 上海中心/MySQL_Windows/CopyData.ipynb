{
 "cells": [
  {
   "cell_type": "code",
   "execution_count": 1,
   "metadata": {},
   "outputs": [],
   "source": [
    "import os, sys, MySQLdb, warnings\n",
    "import numpy as np\n",
    "import pandas as pd\n",
    "import shutil\n",
    "from datetime import datetime as datetime"
   ]
  },
  {
   "cell_type": "code",
   "execution_count": 2,
   "metadata": {},
   "outputs": [],
   "source": [
    "#文件目录\n",
    "File_download_path='I://百度云下载//'\n",
    "MySQL_DataPath='I://MySQL//Data//aiot//'\n",
    "DateRange=['2018-8-4:2018-8-5','2018-8-7:2018-8-8','2018-8-16:2018-8-17']\n",
    "Code_list=['ZD-124-01','ZD-117-01','ZD-100-01','ZD-83-01','ZD-67-01']"
   ]
  },
  {
   "cell_type": "code",
   "execution_count": 3,
   "metadata": {},
   "outputs": [],
   "source": [
    "#启动SQL服务\n",
    "def Start_MySQL():\n",
    "    conn = MySQLdb.connect(\n",
    "        host = '127.0.0.1',\n",
    "        port = 3306,\n",
    "        user = 'root',\n",
    "        passwd='1234',\n",
    "        db = 'aiot',\n",
    "        charset='utf8'\n",
    "        )\n",
    "    cur = conn.cursor()\n",
    "    return(conn,cur)\n",
    "#退出SQL服务\n",
    "def Stop_MySQL(conn,cur):\n",
    "    cur.close()\n",
    "    conn.close()"
   ]
  },
  {
   "cell_type": "code",
   "execution_count": 4,
   "metadata": {},
   "outputs": [],
   "source": [
    "def get_date_list(DateRange):\n",
    "    Decode_list=pd.DataFrame([x.split(':') for x in DateRange],columns=('Start_Time','End_Time'))\n",
    "    AllPeriod_list=list()\n",
    "    for index, row in Decode_list.iterrows():\n",
    "        OnePeriod_list=[x.strftime('%Y_%m_%d') for x in pd.date_range(row['Start_Time'],row['End_Time'])]\n",
    "        AllPeriod_list=AllPeriod_list+OnePeriod_list\n",
    "    Date_list=pd.DataFrame(AllPeriod_list,columns=['Date'])\n",
    "    Date_list=Date_list.drop_duplicates()\n",
    "    return(Date_list)\n",
    "\n",
    "def convert_date(s_date): # 数据库中的日期是8_13这种而不是08_13，故需做此转换\n",
    "    cells = s_date.split('_')\n",
    "    i_year = cells[0]\n",
    "    i_month = int(cells[1])\n",
    "    i_day = int(cells[2])\n",
    "    s_date = i_year+'_'+str(i_month)+'_'+str(i_day)\n",
    "    return(s_date)\n",
    "\n",
    "\n",
    "def get_file_list(Date_list,Code_list,cur):\n",
    "    Serial_list='exp_'+pd.DataFrame([SQLget_Instru_serial(cur, x) for x in Code_list],columns=['Serial'])+'_'\n",
    "    Serial_list=Serial_list.drop_duplicates()\n",
    "    FileName_list=[]\n",
    "    for x,y in Serial_list.iterrows():\n",
    "       for i,j in Date_list.iterrows():\n",
    "           FileName_list=FileName_list+[y['Serial']+convert_date(j['Date'])]\n",
    "    FileName_list=pd.DataFrame(FileName_list,columns=['FileName'])\n",
    "    return(FileName_list)\n",
    "\n",
    "def File_Path(File_download_path,MySQL_DataPath,FileName_list):\n",
    "    ibd_Old_Path=File_download_path+FileName_list+'.ibd'\n",
    "    ibd_New_Path=MySQL_DataPath+FileName_list+'.ibd'\n",
    "    frm_Old_Path=File_download_path+FileName_list+'.frm'\n",
    "    frm_New_Path=MySQL_DataPath+FileName_list+'.frm'\n",
    "    ibdFile_Path=pd.merge(ibd_Old_Path,ibd_New_Path,left_index=True,right_index=True)\n",
    "    frmFile_Path=pd.merge(frm_Old_Path,frm_New_Path,left_index=True,right_index=True)\n",
    "    File_Path=pd.merge(ibdFile_Path,frmFile_Path,left_index=True,right_index=True)\n",
    "    File_Path.columns=['ibd_Old_Path','ibd_New_Path','frm_Old_Path','frm_New_Path']\n",
    "    return(File_Path)"
   ]
  },
  {
   "cell_type": "code",
   "execution_count": 5,
   "metadata": {},
   "outputs": [],
   "source": [
    "#创建空白表格\n",
    "def Creat_BlankTable(MySQL_DataPath,FileName_list,cur):\n",
    "    for index, row in FileName_list.iterrows():\n",
    "        TargetFilePath=MySQL_DataPath+row['FileName']+'.ibd'\n",
    "        if  os.path.exists(TargetFilePath):\n",
    "            print('文件',row['FileName'],'已存在')\n",
    "        else:\n",
    "            SQLCreat_BlankTable(row['FileName'],cur)\n",
    "            SQLDiscard_ibd_frm(row['FileName'],cur)\n",
    "\n",
    "#连接ibd与frm\n",
    "def Connect_ibd_frm(FileName_list,cur):\n",
    "    for index, row in FileName_list.iterrows():\n",
    "        SQLCombine_ibd_frm(row['FileName'],cur)\n"
   ]
  },
  {
   "cell_type": "code",
   "execution_count": 6,
   "metadata": {},
   "outputs": [],
   "source": [
    "#从楼层传感器编号转换为数据序列编号\n",
    "def SQLget_Instru_serial(cursor, code):\n",
    "    sql = '''select Instru_serial from exp_instrument_info where number = '%s' ''' % ( code)\n",
    "    try:\n",
    "        cursor.execute(sql)\n",
    "        results = cursor.fetchone()\n",
    "        return results\n",
    "    except Exception as ex:\n",
    "        print(Exception, ':', ex)\n",
    "\n",
    "#创建空白表格\n",
    "def SQLCreat_BlankTable(s_code,cur):\n",
    "    sql='''CREATE TABLE `aiot`.`%s` (\n",
    "         `cur_time` char(15) NOT NULL COMMENT 'timeInfo XX:XX:XX.XXXXX',\n",
    "         `data1` double DEFAULT NULL,\n",
    "         `data2` double DEFAULT NULL,\n",
    "         `data3` double DEFAULT NULL,\n",
    "         `data4` double DEFAULT NULL,\n",
    "         `data5` double DEFAULT NULL,\n",
    "         `data6` double DEFAULT NULL,\n",
    "         `data7` double DEFAULT NULL,\n",
    "         `data8` double DEFAULT NULL,\n",
    "         PRIMARY KEY (`cur_time`)\n",
    "    ) ENGINE=InnoDB DEFAULT CHARSET=latin1 ROW_FORMAT=COMPACT;'''%(s_code)\n",
    "    try:\n",
    "        cur.execute(sql)\n",
    "        print(s_code , 'is created')\n",
    "    except Exception as ex:\n",
    "        print(Exception, ':', ex)\n",
    "\n",
    "#将移动后的ibd文件与frm文件合并\n",
    "def SQLCombine_ibd_frm(s_code,cur):\n",
    "    sql='''alter table %s import tablespace;'''%(s_code)\n",
    "    try:\n",
    "        cur.execute(sql)\n",
    "        print(s_code , 'is connetd')\n",
    "    except Exception as ex:\n",
    "        print(Exception, ':', ex)\n",
    "\n",
    "#将ibd与frm文件解耦\n",
    "def SQLDiscard_ibd_frm(s_code,cur):\n",
    "    sql='''alter table %s discard tablespace;''' %(s_code)\n",
    "    try:\n",
    "        cur.execute(sql)\n",
    "        print(s_code , 'is discarded')\n",
    "    except Exception as ex:\n",
    "        print(Exception, ':', ex)"
   ]
  },
  {
   "cell_type": "code",
   "execution_count": 7,
   "metadata": {},
   "outputs": [],
   "source": [
    "#从下载路径复制文件到MySQL数据库\n",
    "def Move_Data(File_Path):\n",
    "    for x,y in File_Path.iterrows():\n",
    "        if os.path.exists(y['ibd_Old_Path']):\n",
    "            shutil.move(y['ibd_Old_Path'],y['ibd_New_Path'])#移动ibd文件\n",
    "            shutil.move(y['frm_Old_Path'],y['frm_New_Path'])#移动frm文件\n",
    "        else :\n",
    "            print('未下载',y['ibd_Old_Path'])"
   ]
  },
  {
   "cell_type": "code",
   "execution_count": 8,
   "metadata": {},
   "outputs": [
    {
     "output_type": "stream",
     "name": "stdout",
     "text": "文件 exp_10496_2018_8_4 已存在\n文件 exp_10496_2018_8_5 已存在\nexp_10496_2018_8_6 is created\nexp_10496_2018_8_6 is discarded\n文件 exp_10496_2018_8_7 已存在\n文件 exp_10496_2018_8_8 已存在\n文件 exp_10496_2018_8_16 已存在\n文件 exp_10496_2018_8_17 已存在\n文件 exp_10108_2018_8_4 已存在\n文件 exp_10108_2018_8_5 已存在\nexp_10108_2018_8_6 is created\nexp_10108_2018_8_6 is discarded\n文件 exp_10108_2018_8_7 已存在\n文件 exp_10108_2018_8_8 已存在\n文件 exp_10108_2018_8_16 已存在\n文件 exp_10108_2018_8_17 已存在\n文件 exp_10087_2018_8_4 已存在\n文件 exp_10087_2018_8_5 已存在\nexp_10087_2018_8_6 is created\nexp_10087_2018_8_6 is discarded\n文件 exp_10087_2018_8_7 已存在\n文件 exp_10087_2018_8_8 已存在\n文件 exp_10087_2018_8_16 已存在\n文件 exp_10087_2018_8_17 已存在\n文件 exp_10129_2018_8_4 已存在\n文件 exp_10129_2018_8_5 已存在\nexp_10129_2018_8_6 is created\nexp_10129_2018_8_6 is discarded\n文件 exp_10129_2018_8_7 已存在\n文件 exp_10129_2018_8_8 已存在\n文件 exp_10129_2018_8_16 已存在\n文件 exp_10129_2018_8_17 已存在\n文件 exp_10131_2018_8_4 已存在\n文件 exp_10131_2018_8_5 已存在\nexp_10131_2018_8_6 is created\nexp_10131_2018_8_6 is discarded\n文件 exp_10131_2018_8_7 已存在\n文件 exp_10131_2018_8_8 已存在\n文件 exp_10131_2018_8_16 已存在\n文件 exp_10131_2018_8_17 已存在\n未下载 I://百度云下载//exp_10496_2018_8_4.ibd\n未下载 I://百度云下载//exp_10496_2018_8_5.ibd\n未下载 I://百度云下载//exp_10496_2018_8_6.ibd\n未下载 I://百度云下载//exp_10496_2018_8_7.ibd\n未下载 I://百度云下载//exp_10496_2018_8_8.ibd\n未下载 I://百度云下载//exp_10496_2018_8_16.ibd\n未下载 I://百度云下载//exp_10496_2018_8_17.ibd\n未下载 I://百度云下载//exp_10108_2018_8_4.ibd\n未下载 I://百度云下载//exp_10108_2018_8_5.ibd\n未下载 I://百度云下载//exp_10108_2018_8_6.ibd\n未下载 I://百度云下载//exp_10108_2018_8_7.ibd\n未下载 I://百度云下载//exp_10108_2018_8_8.ibd\n未下载 I://百度云下载//exp_10108_2018_8_16.ibd\n未下载 I://百度云下载//exp_10108_2018_8_17.ibd\n未下载 I://百度云下载//exp_10087_2018_8_4.ibd\n未下载 I://百度云下载//exp_10087_2018_8_5.ibd\n未下载 I://百度云下载//exp_10087_2018_8_6.ibd\n未下载 I://百度云下载//exp_10087_2018_8_7.ibd\n未下载 I://百度云下载//exp_10087_2018_8_8.ibd\n未下载 I://百度云下载//exp_10087_2018_8_16.ibd\n未下载 I://百度云下载//exp_10087_2018_8_17.ibd\n未下载 I://百度云下载//exp_10129_2018_8_4.ibd\n未下载 I://百度云下载//exp_10129_2018_8_5.ibd\n未下载 I://百度云下载//exp_10129_2018_8_6.ibd\n未下载 I://百度云下载//exp_10129_2018_8_7.ibd\n未下载 I://百度云下载//exp_10129_2018_8_8.ibd\n未下载 I://百度云下载//exp_10129_2018_8_16.ibd\n未下载 I://百度云下载//exp_10129_2018_8_17.ibd\n未下载 I://百度云下载//exp_10131_2018_8_4.ibd\n未下载 I://百度云下载//exp_10131_2018_8_5.ibd\n未下载 I://百度云下载//exp_10131_2018_8_6.ibd\n未下载 I://百度云下载//exp_10131_2018_8_7.ibd\n未下载 I://百度云下载//exp_10131_2018_8_8.ibd\n未下载 I://百度云下载//exp_10131_2018_8_16.ibd\n未下载 I://百度云下载//exp_10131_2018_8_17.ibd\n<class 'Exception'> : (1813, \"Tablespace 'aiot/exp_10496_2018_8_4' exists.\")\n<class 'Exception'> : (1813, \"Tablespace 'aiot/exp_10496_2018_8_5' exists.\")\n<class 'Exception'> : (1812, 'Tablespace is missing for table `aiot`.`exp_10496_2018_8_6`.')\n<class 'Exception'> : (1813, \"Tablespace 'aiot/exp_10496_2018_8_7' exists.\")\n<class 'Exception'> : (1813, \"Tablespace 'aiot/exp_10496_2018_8_8' exists.\")\n<class 'Exception'> : (1813, \"Tablespace 'aiot/exp_10496_2018_8_16' exists.\")\n<class 'Exception'> : (1813, \"Tablespace 'aiot/exp_10496_2018_8_17' exists.\")\n<class 'Exception'> : (1813, \"Tablespace 'aiot/exp_10108_2018_8_4' exists.\")\n<class 'Exception'> : (1813, \"Tablespace 'aiot/exp_10108_2018_8_5' exists.\")\n<class 'Exception'> : (1812, 'Tablespace is missing for table `aiot`.`exp_10108_2018_8_6`.')\n<class 'Exception'> : (1813, \"Tablespace 'aiot/exp_10108_2018_8_7' exists.\")\n<class 'Exception'> : (1813, \"Tablespace 'aiot/exp_10108_2018_8_8' exists.\")\n<class 'Exception'> : (1813, \"Tablespace 'aiot/exp_10108_2018_8_16' exists.\")\n<class 'Exception'> : (1813, \"Tablespace 'aiot/exp_10108_2018_8_17' exists.\")\n<class 'Exception'> : (1813, \"Tablespace 'aiot/exp_10087_2018_8_4' exists.\")\n<class 'Exception'> : (1813, \"Tablespace 'aiot/exp_10087_2018_8_5' exists.\")\n<class 'Exception'> : (1812, 'Tablespace is missing for table `aiot`.`exp_10087_2018_8_6`.')\n<class 'Exception'> : (1813, \"Tablespace 'aiot/exp_10087_2018_8_7' exists.\")\n<class 'Exception'> : (1813, \"Tablespace 'aiot/exp_10087_2018_8_8' exists.\")\n<class 'Exception'> : (1813, \"Tablespace 'aiot/exp_10087_2018_8_16' exists.\")\n<class 'Exception'> : (1813, \"Tablespace 'aiot/exp_10087_2018_8_17' exists.\")\n<class 'Exception'> : (1813, \"Tablespace 'aiot/exp_10129_2018_8_4' exists.\")\n<class 'Exception'> : (1813, \"Tablespace 'aiot/exp_10129_2018_8_5' exists.\")\n<class 'Exception'> : (1812, 'Tablespace is missing for table `aiot`.`exp_10129_2018_8_6`.')\n<class 'Exception'> : (1813, \"Tablespace 'aiot/exp_10129_2018_8_7' exists.\")\n<class 'Exception'> : (1813, \"Tablespace 'aiot/exp_10129_2018_8_8' exists.\")\n<class 'Exception'> : (1813, \"Tablespace 'aiot/exp_10129_2018_8_16' exists.\")\n<class 'Exception'> : (1813, \"Tablespace 'aiot/exp_10129_2018_8_17' exists.\")\n<class 'Exception'> : (1813, \"Tablespace 'aiot/exp_10131_2018_8_4' exists.\")\n<class 'Exception'> : (1813, \"Tablespace 'aiot/exp_10131_2018_8_5' exists.\")\n<class 'Exception'> : (1812, 'Tablespace is missing for table `aiot`.`exp_10131_2018_8_6`.')\n<class 'Exception'> : (1813, \"Tablespace 'aiot/exp_10131_2018_8_7' exists.\")\n<class 'Exception'> : (1813, \"Tablespace 'aiot/exp_10131_2018_8_8' exists.\")\n<class 'Exception'> : (1813, \"Tablespace 'aiot/exp_10131_2018_8_16' exists.\")\n<class 'Exception'> : (1813, \"Tablespace 'aiot/exp_10131_2018_8_17' exists.\")\n"
    }
   ],
   "source": [
    "#启动MySQL\n",
    "conn, cur = Start_MySQL()\n",
    "#生成文件路径\n",
    "Date_list=get_date_list(DateRange)\n",
    "FileName_list=get_file_list(Date_list,Code_list,cur)\n",
    "File_Path=File_Path(File_download_path,MySQL_DataPath,FileName_list)\n",
    "#创建空白表格\n",
    "Creat_BlankTable(MySQL_DataPath,FileName_list,cur)\n",
    "#移动文件\n",
    "Move_Data(File_Path)\n",
    "#关联文件\n",
    "Connect_ibd_frm(FileName_list,cur) \n",
    "#关闭服务\n",
    "Stop_MySQL(conn,cur)"
   ]
  }
 ],
 "metadata": {
  "language_info": {
   "codemirror_mode": {
    "name": "ipython",
    "version": 3
   },
   "file_extension": ".py",
   "mimetype": "text/x-python",
   "name": "python",
   "nbconvert_exporter": "python",
   "pygments_lexer": "ipython3",
   "version": "3.6.4-final"
  },
  "orig_nbformat": 2,
  "kernelspec": {
   "name": "python36464bitbasecondad0c0c8db60d4412aa8d31efb665cea69",
   "display_name": "Python 3.6.4 64-bit ('base': conda)"
  }
 },
 "nbformat": 4,
 "nbformat_minor": 2
}