{
 "cells": [
  {
   "cell_type": "code",
   "execution_count": 1,
   "metadata": {
    "scrolled": true
   },
   "outputs": [],
   "source": [
    "import pandas as pd\n",
    "import altair as alt\n",
    "alt.data_transformers.enable('default', max_rows = None) # 避免警告数据量超过5000\n",
    "\n",
    "data = pd.DataFrame([])\n",
    "for date in pd.date_range('20180815140000','20180817165500',freq='5T'):\n",
    "    file_path = '/home/zht/大论文/世博风廓线/5/CMAWIND/Z_RADA_I_58367_%s_P_WPRD_LC_ROBS.TXT'%date.strftime('%Y%m%d%H%M%S')\n",
    "    with open(file_path, 'r') as f:\n",
    "        i_data = pd.read_csv(f, sep=' ', skiprows=3, usecols=[0,1,2,3], header=None)\n",
    "        i_data['time'] = date+pd.Timedelta('8H')\n",
    "    data = data.append(i_data)\n",
    "\n",
    "data.columns = ['height', 'direction', 'speed_H', 'speed_V', 'time']\n",
    "data = data[data['height']!='NNNN'] \n",
    "data['height'] = [float(x) for x in data['height']]"
   ]
  },
  {
   "cell_type": "code",
   "execution_count": 2,
   "metadata": {},
   "outputs": [
    {
     "data": {
      "text/html": [
       "<div>\n",
       "<style scoped>\n",
       "    .dataframe tbody tr th:only-of-type {\n",
       "        vertical-align: middle;\n",
       "    }\n",
       "\n",
       "    .dataframe tbody tr th {\n",
       "        vertical-align: top;\n",
       "    }\n",
       "\n",
       "    .dataframe thead th {\n",
       "        text-align: right;\n",
       "    }\n",
       "</style>\n",
       "<table border=\"1\" class=\"dataframe\">\n",
       "  <thead>\n",
       "    <tr style=\"text-align: right;\">\n",
       "      <th></th>\n",
       "      <th>height</th>\n",
       "      <th>direction</th>\n",
       "      <th>speed_H</th>\n",
       "      <th>speed_V</th>\n",
       "      <th>time</th>\n",
       "    </tr>\n",
       "  </thead>\n",
       "  <tbody>\n",
       "    <tr>\n",
       "      <th>0</th>\n",
       "      <td>100.0</td>\n",
       "      <td>061.0</td>\n",
       "      <td>000.5</td>\n",
       "      <td>0.0</td>\n",
       "      <td>2018-08-15 22:00:00</td>\n",
       "    </tr>\n",
       "    <tr>\n",
       "      <th>1</th>\n",
       "      <td>160.0</td>\n",
       "      <td>065.0</td>\n",
       "      <td>002.8</td>\n",
       "      <td>0.0</td>\n",
       "      <td>2018-08-15 22:00:00</td>\n",
       "    </tr>\n",
       "    <tr>\n",
       "      <th>2</th>\n",
       "      <td>220.0</td>\n",
       "      <td>055.0</td>\n",
       "      <td>004.4</td>\n",
       "      <td>0.0</td>\n",
       "      <td>2018-08-15 22:00:00</td>\n",
       "    </tr>\n",
       "    <tr>\n",
       "      <th>3</th>\n",
       "      <td>280.0</td>\n",
       "      <td>032.0</td>\n",
       "      <td>006.4</td>\n",
       "      <td>0.0</td>\n",
       "      <td>2018-08-15 22:00:00</td>\n",
       "    </tr>\n",
       "    <tr>\n",
       "      <th>4</th>\n",
       "      <td>340.0</td>\n",
       "      <td>047.0</td>\n",
       "      <td>006.4</td>\n",
       "      <td>-0.1</td>\n",
       "      <td>2018-08-15 22:00:00</td>\n",
       "    </tr>\n",
       "    <tr>\n",
       "      <th>...</th>\n",
       "      <td>...</td>\n",
       "      <td>...</td>\n",
       "      <td>...</td>\n",
       "      <td>...</td>\n",
       "      <td>...</td>\n",
       "    </tr>\n",
       "    <tr>\n",
       "      <th>94</th>\n",
       "      <td>5740.0</td>\n",
       "      <td>/////</td>\n",
       "      <td>/////</td>\n",
       "      <td>0.0</td>\n",
       "      <td>2018-08-15 22:00:00</td>\n",
       "    </tr>\n",
       "    <tr>\n",
       "      <th>95</th>\n",
       "      <td>5800.0</td>\n",
       "      <td>/////</td>\n",
       "      <td>/////</td>\n",
       "      <td>0.0</td>\n",
       "      <td>2018-08-15 22:00:00</td>\n",
       "    </tr>\n",
       "    <tr>\n",
       "      <th>96</th>\n",
       "      <td>5860.0</td>\n",
       "      <td>/////</td>\n",
       "      <td>/////</td>\n",
       "      <td>0.0</td>\n",
       "      <td>2018-08-15 22:00:00</td>\n",
       "    </tr>\n",
       "    <tr>\n",
       "      <th>97</th>\n",
       "      <td>5920.0</td>\n",
       "      <td>/////</td>\n",
       "      <td>/////</td>\n",
       "      <td>0.0</td>\n",
       "      <td>2018-08-15 22:00:00</td>\n",
       "    </tr>\n",
       "    <tr>\n",
       "      <th>98</th>\n",
       "      <td>5980.0</td>\n",
       "      <td>/////</td>\n",
       "      <td>/////</td>\n",
       "      <td>0.0</td>\n",
       "      <td>2018-08-15 22:00:00</td>\n",
       "    </tr>\n",
       "  </tbody>\n",
       "</table>\n",
       "<p>99 rows × 5 columns</p>\n",
       "</div>"
      ],
      "text/plain": [
       "    height direction speed_H  speed_V                time\n",
       "0    100.0     061.0   000.5      0.0 2018-08-15 22:00:00\n",
       "1    160.0     065.0   002.8      0.0 2018-08-15 22:00:00\n",
       "2    220.0     055.0   004.4      0.0 2018-08-15 22:00:00\n",
       "3    280.0     032.0   006.4      0.0 2018-08-15 22:00:00\n",
       "4    340.0     047.0   006.4     -0.1 2018-08-15 22:00:00\n",
       "..     ...       ...     ...      ...                 ...\n",
       "94  5740.0     /////   /////      0.0 2018-08-15 22:00:00\n",
       "95  5800.0     /////   /////      0.0 2018-08-15 22:00:00\n",
       "96  5860.0     /////   /////      0.0 2018-08-15 22:00:00\n",
       "97  5920.0     /////   /////      0.0 2018-08-15 22:00:00\n",
       "98  5980.0     /////   /////      0.0 2018-08-15 22:00:00\n",
       "\n",
       "[99 rows x 5 columns]"
      ]
     },
     "execution_count": 2,
     "metadata": {},
     "output_type": "execute_result"
    }
   ],
   "source": [
    "data[data['time']=='2018-08-15 22:00:00']"
   ]
  },
  {
   "cell_type": "code",
   "execution_count": 3,
   "metadata": {},
   "outputs": [
    {
     "data": {
      "application/vnd.vegalite.v3+json": {
       "$schema": "https://vega.github.io/schema/vega-lite/v3.4.0.json",
       "config": {
        "axis": {
         "labelFont": "Times New Roman",
         "labelFontSize": 12,
         "titleFont": "Times New Roman",
         "titleFontSize": 16
        },
        "legend": {
         "labelFont": "Times New Roman",
         "labelFontSize": 15,
         "labelFontWeight": "bold",
         "labelLimit": 400,
         "orient": "top-left",
         "rowPadding": 15,
         "symbolOffset": 15,
         "symbolSize": 300,
         "symbolStrokeWidth": 4,
         "title": null
        },
        "mark": {
         "tooltip": null
        },
        "title": {
         "font": "Times New Roman",
         "fontSize": 18,
         "fontWeight": "bold"
        },
        "view": {
         "height": 300,
         "width": 400
        }
       },
       "data": {
        "name": "data-d6b8374eb56e272810a66fd84d964eff"
       },
       "datasets": {
        "data-d6b8374eb56e272810a66fd84d964eff": [
         {
          "direction": "061.0",
          "height": 100,
          "speed_H": "000.5",
          "speed_V": 0,
          "time": "2018-08-15T22:00:00"
         },
         {
          "direction": "065.0",
          "height": 160,
          "speed_H": "002.8",
          "speed_V": 0,
          "time": "2018-08-15T22:00:00"
         },
         {
          "direction": "055.0",
          "height": 220,
          "speed_H": "004.4",
          "speed_V": 0,
          "time": "2018-08-15T22:00:00"
         },
         {
          "direction": "032.0",
          "height": 280,
          "speed_H": "006.4",
          "speed_V": 0,
          "time": "2018-08-15T22:00:00"
         },
         {
          "direction": "047.0",
          "height": 340,
          "speed_H": "006.4",
          "speed_V": -0.1,
          "time": "2018-08-15T22:00:00"
         },
         {
          "direction": "044.0",
          "height": 400,
          "speed_H": "005.2",
          "speed_V": 0.1,
          "time": "2018-08-15T22:00:00"
         },
         {
          "direction": "043.0",
          "height": 460,
          "speed_H": "008.3",
          "speed_V": -0.1,
          "time": "2018-08-15T22:00:00"
         },
         {
          "direction": "029.0",
          "height": 520,
          "speed_H": "005.4",
          "speed_V": 0,
          "time": "2018-08-15T22:00:00"
         },
         {
          "direction": "029.0",
          "height": 580,
          "speed_H": "006.6",
          "speed_V": -0.1,
          "time": "2018-08-15T22:00:00"
         },
         {
          "direction": "039.0",
          "height": 640,
          "speed_H": "006.7",
          "speed_V": -0.2,
          "time": "2018-08-15T22:00:00"
         },
         {
          "direction": "035.0",
          "height": 700,
          "speed_H": "007.6",
          "speed_V": -0.1,
          "time": "2018-08-15T22:00:00"
         },
         {
          "direction": "035.0",
          "height": 760,
          "speed_H": "007.4",
          "speed_V": 0.7,
          "time": "2018-08-15T22:00:00"
         },
         {
          "direction": "035.0",
          "height": 820,
          "speed_H": "008.0",
          "speed_V": 2.8,
          "time": "2018-08-15T22:00:00"
         },
         {
          "direction": "033.0",
          "height": 880,
          "speed_H": "013.7",
          "speed_V": 0.1,
          "time": "2018-08-15T22:00:00"
         },
         {
          "direction": "031.0",
          "height": 940,
          "speed_H": "015.1",
          "speed_V": -0.1,
          "time": "2018-08-15T22:00:00"
         },
         {
          "direction": "034.0",
          "height": 1000,
          "speed_H": "009.8",
          "speed_V": -3.7,
          "time": "2018-08-15T22:00:00"
         },
         {
          "direction": "056.0",
          "height": 1060,
          "speed_H": "015.6",
          "speed_V": 1,
          "time": "2018-08-15T22:00:00"
         },
         {
          "direction": "059.0",
          "height": 1120,
          "speed_H": "013.6",
          "speed_V": -0.1,
          "time": "2018-08-15T22:00:00"
         },
         {
          "direction": "055.0",
          "height": 1180,
          "speed_H": "009.4",
          "speed_V": -0.3,
          "time": "2018-08-15T22:00:00"
         },
         {
          "direction": "061.0",
          "height": 1240,
          "speed_H": "008.8",
          "speed_V": 0.1,
          "time": "2018-08-15T22:00:00"
         },
         {
          "direction": "054.0",
          "height": 1300,
          "speed_H": "009.0",
          "speed_V": -0.1,
          "time": "2018-08-15T22:00:00"
         },
         {
          "direction": "057.0",
          "height": 1360,
          "speed_H": "010.7",
          "speed_V": -0.2,
          "time": "2018-08-15T22:00:00"
         },
         {
          "direction": "057.0",
          "height": 1420,
          "speed_H": "010.7",
          "speed_V": -0.2,
          "time": "2018-08-15T22:00:00"
         },
         {
          "direction": "053.0",
          "height": 1480,
          "speed_H": "010.2",
          "speed_V": -0.2,
          "time": "2018-08-15T22:00:00"
         },
         {
          "direction": "053.0",
          "height": 1540,
          "speed_H": "010.0",
          "speed_V": -0.2,
          "time": "2018-08-15T22:00:00"
         },
         {
          "direction": "062.0",
          "height": 1600,
          "speed_H": "011.0",
          "speed_V": 0.1,
          "time": "2018-08-15T22:00:00"
         },
         {
          "direction": "053.0",
          "height": 1660,
          "speed_H": "010.6",
          "speed_V": 0,
          "time": "2018-08-15T22:00:00"
         },
         {
          "direction": "055.0",
          "height": 1720,
          "speed_H": "010.5",
          "speed_V": -0.5,
          "time": "2018-08-15T22:00:00"
         },
         {
          "direction": "056.0",
          "height": 1780,
          "speed_H": "010.0",
          "speed_V": -0.1,
          "time": "2018-08-15T22:00:00"
         },
         {
          "direction": "055.0",
          "height": 1840,
          "speed_H": "008.6",
          "speed_V": -0.1,
          "time": "2018-08-15T22:00:00"
         },
         {
          "direction": "048.0",
          "height": 1900,
          "speed_H": "008.7",
          "speed_V": 0.1,
          "time": "2018-08-15T22:00:00"
         },
         {
          "direction": "049.0",
          "height": 1960,
          "speed_H": "008.5",
          "speed_V": -0.1,
          "time": "2018-08-15T22:00:00"
         },
         {
          "direction": "049.0",
          "height": 2020,
          "speed_H": "008.8",
          "speed_V": 0,
          "time": "2018-08-15T22:00:00"
         },
         {
          "direction": "035.0",
          "height": 2080,
          "speed_H": "008.0",
          "speed_V": -0.4,
          "time": "2018-08-15T22:00:00"
         },
         {
          "direction": "034.0",
          "height": 2140,
          "speed_H": "008.0",
          "speed_V": -0.1,
          "time": "2018-08-15T22:00:00"
         },
         {
          "direction": "038.0",
          "height": 2200,
          "speed_H": "008.1",
          "speed_V": 0.2,
          "time": "2018-08-15T22:00:00"
         },
         {
          "direction": "042.0",
          "height": 2260,
          "speed_H": "008.6",
          "speed_V": 0.3,
          "time": "2018-08-15T22:00:00"
         },
         {
          "direction": "040.0",
          "height": 2320,
          "speed_H": "007.9",
          "speed_V": 0.1,
          "time": "2018-08-15T22:00:00"
         },
         {
          "direction": "044.0",
          "height": 2380,
          "speed_H": "007.4",
          "speed_V": 0.1,
          "time": "2018-08-15T22:00:00"
         },
         {
          "direction": "044.0",
          "height": 2440,
          "speed_H": "008.9",
          "speed_V": 0.2,
          "time": "2018-08-15T22:00:00"
         },
         {
          "direction": "035.0",
          "height": 2500,
          "speed_H": "007.7",
          "speed_V": 0.3,
          "time": "2018-08-15T22:00:00"
         },
         {
          "direction": "045.0",
          "height": 2560,
          "speed_H": "009.5",
          "speed_V": 0,
          "time": "2018-08-15T22:00:00"
         },
         {
          "direction": "033.5",
          "height": 2620,
          "speed_H": "009.1",
          "speed_V": 0,
          "time": "2018-08-15T22:00:00"
         },
         {
          "direction": "035.0",
          "height": 2680,
          "speed_H": "009.9",
          "speed_V": 0,
          "time": "2018-08-15T22:00:00"
         },
         {
          "direction": "036.0",
          "height": 2740,
          "speed_H": "009.9",
          "speed_V": 0,
          "time": "2018-08-15T22:00:00"
         },
         {
          "direction": "036.4",
          "height": 2800,
          "speed_H": "009.9",
          "speed_V": 0,
          "time": "2018-08-15T22:00:00"
         },
         {
          "direction": "036.8",
          "height": 2860,
          "speed_H": "009.0",
          "speed_V": 0,
          "time": "2018-08-15T22:00:00"
         },
         {
          "direction": "039.3",
          "height": 2920,
          "speed_H": "009.0",
          "speed_V": 0,
          "time": "2018-08-15T22:00:00"
         },
         {
          "direction": "039.3",
          "height": 2980,
          "speed_H": "009.0",
          "speed_V": 0,
          "time": "2018-08-15T22:00:00"
         },
         {
          "direction": "040.3",
          "height": 3040,
          "speed_H": "008.9",
          "speed_V": 0,
          "time": "2018-08-15T22:00:00"
         },
         {
          "direction": "045.7",
          "height": 3100,
          "speed_H": "008.3",
          "speed_V": 0,
          "time": "2018-08-15T22:00:00"
         },
         {
          "direction": "047.0",
          "height": 3160,
          "speed_H": "008.3",
          "speed_V": 0,
          "time": "2018-08-15T22:00:00"
         },
         {
          "direction": "048.7",
          "height": 3220,
          "speed_H": "008.2",
          "speed_V": 0,
          "time": "2018-08-15T22:00:00"
         },
         {
          "direction": "050.6",
          "height": 3280,
          "speed_H": "008.2",
          "speed_V": 0,
          "time": "2018-08-15T22:00:00"
         },
         {
          "direction": "051.0",
          "height": 3340,
          "speed_H": "007.3",
          "speed_V": 0,
          "time": "2018-08-15T22:00:00"
         },
         {
          "direction": "052.0",
          "height": 3400,
          "speed_H": "007.2",
          "speed_V": 0.1,
          "time": "2018-08-15T22:00:00"
         },
         {
          "direction": "054.0",
          "height": 3460,
          "speed_H": "005.5",
          "speed_V": -0.1,
          "time": "2018-08-15T22:00:00"
         },
         {
          "direction": "050.0",
          "height": 3520,
          "speed_H": "007.8",
          "speed_V": 0,
          "time": "2018-08-15T22:00:00"
         },
         {
          "direction": "030.0",
          "height": 3580,
          "speed_H": "006.6",
          "speed_V": 0,
          "time": "2018-08-15T22:00:00"
         },
         {
          "direction": "049.0",
          "height": 3640,
          "speed_H": "009.0",
          "speed_V": 0.3,
          "time": "2018-08-15T22:00:00"
         },
         {
          "direction": "042.0",
          "height": 3700,
          "speed_H": "007.4",
          "speed_V": 0,
          "time": "2018-08-15T22:00:00"
         },
         {
          "direction": "045.0",
          "height": 3760,
          "speed_H": "007.3",
          "speed_V": 0,
          "time": "2018-08-15T22:00:00"
         },
         {
          "direction": "040.0",
          "height": 3820,
          "speed_H": "007.1",
          "speed_V": 0,
          "time": "2018-08-15T22:00:00"
         },
         {
          "direction": "/////",
          "height": 3880,
          "speed_H": "/////",
          "speed_V": 0,
          "time": "2018-08-15T22:00:00"
         },
         {
          "direction": "/////",
          "height": 3940,
          "speed_H": "/////",
          "speed_V": 0,
          "time": "2018-08-15T22:00:00"
         },
         {
          "direction": "/////",
          "height": 4000,
          "speed_H": "/////",
          "speed_V": 0,
          "time": "2018-08-15T22:00:00"
         },
         {
          "direction": "/////",
          "height": 4060,
          "speed_H": "/////",
          "speed_V": 0,
          "time": "2018-08-15T22:00:00"
         },
         {
          "direction": "/////",
          "height": 4120,
          "speed_H": "/////",
          "speed_V": 0,
          "time": "2018-08-15T22:00:00"
         },
         {
          "direction": "/////",
          "height": 4180,
          "speed_H": "/////",
          "speed_V": 0,
          "time": "2018-08-15T22:00:00"
         },
         {
          "direction": "/////",
          "height": 4240,
          "speed_H": "/////",
          "speed_V": 0,
          "time": "2018-08-15T22:00:00"
         },
         {
          "direction": "/////",
          "height": 4300,
          "speed_H": "/////",
          "speed_V": 0,
          "time": "2018-08-15T22:00:00"
         },
         {
          "direction": "/////",
          "height": 4360,
          "speed_H": "/////",
          "speed_V": 0,
          "time": "2018-08-15T22:00:00"
         },
         {
          "direction": "/////",
          "height": 4420,
          "speed_H": "/////",
          "speed_V": 0,
          "time": "2018-08-15T22:00:00"
         },
         {
          "direction": "/////",
          "height": 4480,
          "speed_H": "/////",
          "speed_V": 0,
          "time": "2018-08-15T22:00:00"
         },
         {
          "direction": "/////",
          "height": 4540,
          "speed_H": "/////",
          "speed_V": 0,
          "time": "2018-08-15T22:00:00"
         },
         {
          "direction": "/////",
          "height": 4600,
          "speed_H": "/////",
          "speed_V": 0,
          "time": "2018-08-15T22:00:00"
         },
         {
          "direction": "/////",
          "height": 4660,
          "speed_H": "/////",
          "speed_V": 0,
          "time": "2018-08-15T22:00:00"
         },
         {
          "direction": "/////",
          "height": 4720,
          "speed_H": "/////",
          "speed_V": 0,
          "time": "2018-08-15T22:00:00"
         },
         {
          "direction": "/////",
          "height": 4780,
          "speed_H": "/////",
          "speed_V": 0,
          "time": "2018-08-15T22:00:00"
         },
         {
          "direction": "/////",
          "height": 4840,
          "speed_H": "/////",
          "speed_V": 0,
          "time": "2018-08-15T22:00:00"
         },
         {
          "direction": "/////",
          "height": 4900,
          "speed_H": "/////",
          "speed_V": 0,
          "time": "2018-08-15T22:00:00"
         },
         {
          "direction": "/////",
          "height": 4960,
          "speed_H": "/////",
          "speed_V": 0,
          "time": "2018-08-15T22:00:00"
         },
         {
          "direction": "/////",
          "height": 5020,
          "speed_H": "/////",
          "speed_V": 0,
          "time": "2018-08-15T22:00:00"
         },
         {
          "direction": "/////",
          "height": 5080,
          "speed_H": "/////",
          "speed_V": 0,
          "time": "2018-08-15T22:00:00"
         },
         {
          "direction": "/////",
          "height": 5140,
          "speed_H": "/////",
          "speed_V": 0,
          "time": "2018-08-15T22:00:00"
         },
         {
          "direction": "/////",
          "height": 5200,
          "speed_H": "/////",
          "speed_V": 0,
          "time": "2018-08-15T22:00:00"
         },
         {
          "direction": "/////",
          "height": 5260,
          "speed_H": "/////",
          "speed_V": 0,
          "time": "2018-08-15T22:00:00"
         },
         {
          "direction": "/////",
          "height": 5320,
          "speed_H": "/////",
          "speed_V": 0,
          "time": "2018-08-15T22:00:00"
         },
         {
          "direction": "/////",
          "height": 5380,
          "speed_H": "/////",
          "speed_V": 0,
          "time": "2018-08-15T22:00:00"
         },
         {
          "direction": "/////",
          "height": 5440,
          "speed_H": "/////",
          "speed_V": 0,
          "time": "2018-08-15T22:00:00"
         },
         {
          "direction": "/////",
          "height": 5500,
          "speed_H": "/////",
          "speed_V": 0,
          "time": "2018-08-15T22:00:00"
         },
         {
          "direction": "/////",
          "height": 5560,
          "speed_H": "/////",
          "speed_V": 0,
          "time": "2018-08-15T22:00:00"
         },
         {
          "direction": "/////",
          "height": 5620,
          "speed_H": "/////",
          "speed_V": 0,
          "time": "2018-08-15T22:00:00"
         },
         {
          "direction": "/////",
          "height": 5680,
          "speed_H": "/////",
          "speed_V": 0,
          "time": "2018-08-15T22:00:00"
         },
         {
          "direction": "/////",
          "height": 5740,
          "speed_H": "/////",
          "speed_V": 0,
          "time": "2018-08-15T22:00:00"
         },
         {
          "direction": "/////",
          "height": 5800,
          "speed_H": "/////",
          "speed_V": 0,
          "time": "2018-08-15T22:00:00"
         },
         {
          "direction": "/////",
          "height": 5860,
          "speed_H": "/////",
          "speed_V": 0,
          "time": "2018-08-15T22:00:00"
         },
         {
          "direction": "/////",
          "height": 5920,
          "speed_H": "/////",
          "speed_V": 0,
          "time": "2018-08-15T22:00:00"
         },
         {
          "direction": "/////",
          "height": 5980,
          "speed_H": "/////",
          "speed_V": 0,
          "time": "2018-08-15T22:00:00"
         },
         {
          "direction": "004.0",
          "height": 100,
          "speed_H": "006.1",
          "speed_V": 0,
          "time": "2018-08-15T22:05:00"
         },
         {
          "direction": "010.0",
          "height": 160,
          "speed_H": "006.2",
          "speed_V": 0,
          "time": "2018-08-15T22:05:00"
         },
         {
          "direction": "031.0",
          "height": 220,
          "speed_H": "008.2",
          "speed_V": -0.3,
          "time": "2018-08-15T22:05:00"
         },
         {
          "direction": "040.0",
          "height": 280,
          "speed_H": "007.2",
          "speed_V": 0.3,
          "time": "2018-08-15T22:05:00"
         },
         {
          "direction": "019.0",
          "height": 340,
          "speed_H": "004.6",
          "speed_V": -0.2,
          "time": "2018-08-15T22:05:00"
         },
         {
          "direction": "032.0",
          "height": 400,
          "speed_H": "004.5",
          "speed_V": -0.8,
          "time": "2018-08-15T22:05:00"
         },
         {
          "direction": "038.0",
          "height": 460,
          "speed_H": "004.4",
          "speed_V": -0.9,
          "time": "2018-08-15T22:05:00"
         },
         {
          "direction": "044.0",
          "height": 520,
          "speed_H": "008.5",
          "speed_V": -0.9,
          "time": "2018-08-15T22:05:00"
         },
         {
          "direction": "034.0",
          "height": 580,
          "speed_H": "006.6",
          "speed_V": -1.2,
          "time": "2018-08-15T22:05:00"
         },
         {
          "direction": "048.0",
          "height": 640,
          "speed_H": "009.6",
          "speed_V": 0,
          "time": "2018-08-15T22:05:00"
         },
         {
          "direction": "049.0",
          "height": 700,
          "speed_H": "009.2",
          "speed_V": -0.2,
          "time": "2018-08-15T22:05:00"
         },
         {
          "direction": "047.0",
          "height": 760,
          "speed_H": "009.6",
          "speed_V": -0.6,
          "time": "2018-08-15T22:05:00"
         },
         {
          "direction": "053.0",
          "height": 820,
          "speed_H": "010.7",
          "speed_V": -0.6,
          "time": "2018-08-15T22:05:00"
         },
         {
          "direction": "030.0",
          "height": 880,
          "speed_H": "010.8",
          "speed_V": -0.8,
          "time": "2018-08-15T22:05:00"
         },
         {
          "direction": "053.0",
          "height": 940,
          "speed_H": "007.0",
          "speed_V": -0.4,
          "time": "2018-08-15T22:05:00"
         },
         {
          "direction": "057.0",
          "height": 1000,
          "speed_H": "010.3",
          "speed_V": 0,
          "time": "2018-08-15T22:05:00"
         },
         {
          "direction": "055.0",
          "height": 1060,
          "speed_H": "010.8",
          "speed_V": 0,
          "time": "2018-08-15T22:05:00"
         },
         {
          "direction": "056.0",
          "height": 1120,
          "speed_H": "007.9",
          "speed_V": 0.3,
          "time": "2018-08-15T22:05:00"
         },
         {
          "direction": "053.0",
          "height": 1180,
          "speed_H": "008.3",
          "speed_V": 0.1,
          "time": "2018-08-15T22:05:00"
         },
         {
          "direction": "056.0",
          "height": 1240,
          "speed_H": "009.1",
          "speed_V": 0.1,
          "time": "2018-08-15T22:05:00"
         },
         {
          "direction": "053.0",
          "height": 1300,
          "speed_H": "010.2",
          "speed_V": 0,
          "time": "2018-08-15T22:05:00"
         },
         {
          "direction": "056.0",
          "height": 1360,
          "speed_H": "011.1",
          "speed_V": -0.1,
          "time": "2018-08-15T22:05:00"
         },
         {
          "direction": "058.0",
          "height": 1420,
          "speed_H": "011.9",
          "speed_V": -0.3,
          "time": "2018-08-15T22:05:00"
         },
         {
          "direction": "067.0",
          "height": 1480,
          "speed_H": "010.7",
          "speed_V": 0,
          "time": "2018-08-15T22:05:00"
         },
         {
          "direction": "066.0",
          "height": 1540,
          "speed_H": "011.2",
          "speed_V": 0,
          "time": "2018-08-15T22:05:00"
         },
         {
          "direction": "063.0",
          "height": 1600,
          "speed_H": "010.4",
          "speed_V": -0.8,
          "time": "2018-08-15T22:05:00"
         },
         {
          "direction": "059.0",
          "height": 1660,
          "speed_H": "009.2",
          "speed_V": -0.2,
          "time": "2018-08-15T22:05:00"
         },
         {
          "direction": "059.5",
          "height": 1720,
          "speed_H": "007.3",
          "speed_V": 0,
          "time": "2018-08-15T22:05:00"
         },
         {
          "direction": "053.0",
          "height": 1780,
          "speed_H": "009.7",
          "speed_V": -0.6,
          "time": "2018-08-15T22:05:00"
         },
         {
          "direction": "056.0",
          "height": 1840,
          "speed_H": "009.0",
          "speed_V": 0.3,
          "time": "2018-08-15T22:05:00"
         },
         {
          "direction": "051.5",
          "height": 1900,
          "speed_H": "008.8",
          "speed_V": 0.3,
          "time": "2018-08-15T22:05:00"
         },
         {
          "direction": "049.0",
          "height": 1960,
          "speed_H": "008.8",
          "speed_V": 0.1,
          "time": "2018-08-15T22:05:00"
         },
         {
          "direction": "043.0",
          "height": 2020,
          "speed_H": "008.3",
          "speed_V": 0.3,
          "time": "2018-08-15T22:05:00"
         },
         {
          "direction": "041.0",
          "height": 2080,
          "speed_H": "008.2",
          "speed_V": 0.6,
          "time": "2018-08-15T22:05:00"
         },
         {
          "direction": "044.0",
          "height": 2140,
          "speed_H": "007.4",
          "speed_V": 0.1,
          "time": "2018-08-15T22:05:00"
         },
         {
          "direction": "041.0",
          "height": 2200,
          "speed_H": "007.9",
          "speed_V": 0.1,
          "time": "2018-08-15T22:05:00"
         },
         {
          "direction": "041.0",
          "height": 2260,
          "speed_H": "007.1",
          "speed_V": 0.1,
          "time": "2018-08-15T22:05:00"
         },
         {
          "direction": "043.0",
          "height": 2320,
          "speed_H": "008.3",
          "speed_V": 0.1,
          "time": "2018-08-15T22:05:00"
         },
         {
          "direction": "042.0",
          "height": 2380,
          "speed_H": "008.3",
          "speed_V": 0.1,
          "time": "2018-08-15T22:05:00"
         },
         {
          "direction": "038.0",
          "height": 2440,
          "speed_H": "008.1",
          "speed_V": 0.2,
          "time": "2018-08-15T22:05:00"
         },
         {
          "direction": "039.0",
          "height": 2500,
          "speed_H": "008.8",
          "speed_V": -0.1,
          "time": "2018-08-15T22:05:00"
         },
         {
          "direction": "038.0",
          "height": 2560,
          "speed_H": "009.0",
          "speed_V": 1,
          "time": "2018-08-15T22:05:00"
         },
         {
          "direction": "035.0",
          "height": 2620,
          "speed_H": "009.3",
          "speed_V": 0,
          "time": "2018-08-15T22:05:00"
         },
         {
          "direction": "035.5",
          "height": 2680,
          "speed_H": "009.9",
          "speed_V": 0,
          "time": "2018-08-15T22:05:00"
         },
         {
          "direction": "036.0",
          "height": 2740,
          "speed_H": "009.9",
          "speed_V": 0.3,
          "time": "2018-08-15T22:05:00"
         },
         {
          "direction": "036.4",
          "height": 2800,
          "speed_H": "009.9",
          "speed_V": 0,
          "time": "2018-08-15T22:05:00"
         },
         {
          "direction": "036.8",
          "height": 2860,
          "speed_H": "009.0",
          "speed_V": 0,
          "time": "2018-08-15T22:05:00"
         },
         {
          "direction": "039.3",
          "height": 2920,
          "speed_H": "009.0",
          "speed_V": 0,
          "time": "2018-08-15T22:05:00"
         },
         {
          "direction": "039.3",
          "height": 2980,
          "speed_H": "009.0",
          "speed_V": 0,
          "time": "2018-08-15T22:05:00"
         },
         {
          "direction": "040.3",
          "height": 3040,
          "speed_H": "008.9",
          "speed_V": 0,
          "time": "2018-08-15T22:05:00"
         },
         {
          "direction": "045.7",
          "height": 3100,
          "speed_H": "008.3",
          "speed_V": 0,
          "time": "2018-08-15T22:05:00"
         },
         {
          "direction": "047.0",
          "height": 3160,
          "speed_H": "008.3",
          "speed_V": 0,
          "time": "2018-08-15T22:05:00"
         },
         {
          "direction": "048.7",
          "height": 3220,
          "speed_H": "008.2",
          "speed_V": 0,
          "time": "2018-08-15T22:05:00"
         },
         {
          "direction": "050.3",
          "height": 3280,
          "speed_H": "008.2",
          "speed_V": 0,
          "time": "2018-08-15T22:05:00"
         },
         {
          "direction": "051.0",
          "height": 3340,
          "speed_H": "007.6",
          "speed_V": 0,
          "time": "2018-08-15T22:05:00"
         },
         {
          "direction": "051.2",
          "height": 3400,
          "speed_H": "007.5",
          "speed_V": 0.2,
          "time": "2018-08-15T22:05:00"
         },
         {
          "direction": "051.0",
          "height": 3460,
          "speed_H": "007.4",
          "speed_V": -0.8,
          "time": "2018-08-15T22:05:00"
         },
         {
          "direction": "050.0",
          "height": 3520,
          "speed_H": "007.4",
          "speed_V": 0,
          "time": "2018-08-15T22:05:00"
         },
         {
          "direction": "047.5",
          "height": 3580,
          "speed_H": "007.4",
          "speed_V": 0,
          "time": "2018-08-15T22:05:00"
         },
         {
          "direction": "043.0",
          "height": 3640,
          "speed_H": "007.4",
          "speed_V": 0,
          "time": "2018-08-15T22:05:00"
         },
         {
          "direction": "041.5",
          "height": 3700,
          "speed_H": "007.6",
          "speed_V": 0,
          "time": "2018-08-15T22:05:00"
         },
         {
          "direction": "045.0",
          "height": 3760,
          "speed_H": "007.9",
          "speed_V": -0.3,
          "time": "2018-08-15T22:05:00"
         },
         {
          "direction": "041.5",
          "height": 3820,
          "speed_H": "007.0",
          "speed_V": 0,
          "time": "2018-08-15T22:05:00"
         },
         {
          "direction": "045.0",
          "height": 3880,
          "speed_H": "007.9",
          "speed_V": -0.7,
          "time": "2018-08-15T22:05:00"
         },
         {
          "direction": "/////",
          "height": 3940,
          "speed_H": "/////",
          "speed_V": 0,
          "time": "2018-08-15T22:05:00"
         },
         {
          "direction": "/////",
          "height": 4000,
          "speed_H": "/////",
          "speed_V": 0,
          "time": "2018-08-15T22:05:00"
         },
         {
          "direction": "/////",
          "height": 4060,
          "speed_H": "/////",
          "speed_V": 0,
          "time": "2018-08-15T22:05:00"
         },
         {
          "direction": "/////",
          "height": 4120,
          "speed_H": "/////",
          "speed_V": 0,
          "time": "2018-08-15T22:05:00"
         },
         {
          "direction": "/////",
          "height": 4180,
          "speed_H": "/////",
          "speed_V": 0,
          "time": "2018-08-15T22:05:00"
         },
         {
          "direction": "/////",
          "height": 4240,
          "speed_H": "/////",
          "speed_V": 0,
          "time": "2018-08-15T22:05:00"
         },
         {
          "direction": "/////",
          "height": 4300,
          "speed_H": "/////",
          "speed_V": 0,
          "time": "2018-08-15T22:05:00"
         },
         {
          "direction": "/////",
          "height": 4360,
          "speed_H": "/////",
          "speed_V": 0,
          "time": "2018-08-15T22:05:00"
         },
         {
          "direction": "/////",
          "height": 4420,
          "speed_H": "/////",
          "speed_V": 0,
          "time": "2018-08-15T22:05:00"
         },
         {
          "direction": "/////",
          "height": 4480,
          "speed_H": "/////",
          "speed_V": 0,
          "time": "2018-08-15T22:05:00"
         },
         {
          "direction": "/////",
          "height": 4540,
          "speed_H": "/////",
          "speed_V": 0,
          "time": "2018-08-15T22:05:00"
         },
         {
          "direction": "/////",
          "height": 4600,
          "speed_H": "/////",
          "speed_V": 0,
          "time": "2018-08-15T22:05:00"
         },
         {
          "direction": "/////",
          "height": 4660,
          "speed_H": "/////",
          "speed_V": 0,
          "time": "2018-08-15T22:05:00"
         },
         {
          "direction": "/////",
          "height": 4720,
          "speed_H": "/////",
          "speed_V": 0,
          "time": "2018-08-15T22:05:00"
         },
         {
          "direction": "/////",
          "height": 4780,
          "speed_H": "/////",
          "speed_V": 0,
          "time": "2018-08-15T22:05:00"
         },
         {
          "direction": "/////",
          "height": 4840,
          "speed_H": "/////",
          "speed_V": 0,
          "time": "2018-08-15T22:05:00"
         },
         {
          "direction": "/////",
          "height": 4900,
          "speed_H": "/////",
          "speed_V": 0,
          "time": "2018-08-15T22:05:00"
         },
         {
          "direction": "/////",
          "height": 4960,
          "speed_H": "/////",
          "speed_V": 0,
          "time": "2018-08-15T22:05:00"
         },
         {
          "direction": "/////",
          "height": 5020,
          "speed_H": "/////",
          "speed_V": 0,
          "time": "2018-08-15T22:05:00"
         },
         {
          "direction": "/////",
          "height": 5080,
          "speed_H": "/////",
          "speed_V": 0,
          "time": "2018-08-15T22:05:00"
         },
         {
          "direction": "/////",
          "height": 5140,
          "speed_H": "/////",
          "speed_V": 0,
          "time": "2018-08-15T22:05:00"
         },
         {
          "direction": "/////",
          "height": 5200,
          "speed_H": "/////",
          "speed_V": 0,
          "time": "2018-08-15T22:05:00"
         },
         {
          "direction": "/////",
          "height": 5260,
          "speed_H": "/////",
          "speed_V": 0,
          "time": "2018-08-15T22:05:00"
         },
         {
          "direction": "/////",
          "height": 5320,
          "speed_H": "/////",
          "speed_V": 0,
          "time": "2018-08-15T22:05:00"
         },
         {
          "direction": "/////",
          "height": 5380,
          "speed_H": "/////",
          "speed_V": 0,
          "time": "2018-08-15T22:05:00"
         },
         {
          "direction": "/////",
          "height": 5440,
          "speed_H": "/////",
          "speed_V": 0,
          "time": "2018-08-15T22:05:00"
         },
         {
          "direction": "/////",
          "height": 5500,
          "speed_H": "/////",
          "speed_V": 0,
          "time": "2018-08-15T22:05:00"
         },
         {
          "direction": "/////",
          "height": 5560,
          "speed_H": "/////",
          "speed_V": 0,
          "time": "2018-08-15T22:05:00"
         },
         {
          "direction": "/////",
          "height": 5620,
          "speed_H": "/////",
          "speed_V": 0,
          "time": "2018-08-15T22:05:00"
         },
         {
          "direction": "/////",
          "height": 5680,
          "speed_H": "/////",
          "speed_V": 0,
          "time": "2018-08-15T22:05:00"
         },
         {
          "direction": "/////",
          "height": 5740,
          "speed_H": "/////",
          "speed_V": 0,
          "time": "2018-08-15T22:05:00"
         },
         {
          "direction": "/////",
          "height": 5800,
          "speed_H": "/////",
          "speed_V": 0,
          "time": "2018-08-15T22:05:00"
         },
         {
          "direction": "/////",
          "height": 5860,
          "speed_H": "/////",
          "speed_V": 0,
          "time": "2018-08-15T22:05:00"
         },
         {
          "direction": "/////",
          "height": 5920,
          "speed_H": "/////",
          "speed_V": 0,
          "time": "2018-08-15T22:05:00"
         },
         {
          "direction": "/////",
          "height": 5980,
          "speed_H": "/////",
          "speed_V": 0,
          "time": "2018-08-15T22:05:00"
         }
        ]
       },
       "encoding": {
        "color": {
         "field": "direction",
         "type": "quantitative"
        },
        "x": {
         "field": "time",
         "type": "ordinal"
        },
        "y": {
         "field": "height",
         "type": "quantitative"
        }
       },
       "height": 1000,
       "mark": "rect",
       "selection": {
        "selector001": {
         "bind": "scales",
         "encodings": [
          "x",
          "y"
         ],
         "type": "interval"
        }
       },
       "width": 2000
      },
      "image/png": "[encoded data removed]",
      "text/plain": [
       "<VegaLite 3 object>\n",
       "\n",
       "If you see this message, it means the renderer has not been properly enabled\n",
       "for the frontend that you are using. For more information, see\n",
       "https://altair-viz.github.io/user_guide/troubleshooting.html\n"
      ]
     },
     "execution_count": 3,
     "metadata": {},
     "output_type": "execute_result"
    }
   ],
   "source": [
    "def alt_configure(chart):\n",
    "    chart = (chart\n",
    "             .properties(width=2000, height=1000)\n",
    "             .configure_title(font='Times New Roman', fontSize=18, fontWeight='bold')\n",
    "             .configure_axis(titleFontSize=16, labelFontSize=12, labelFont='Times New Roman', titleFont='Times New Roman')\n",
    "             .configure_legend(title=None, labelFont='Times New Roman',labelFontSize=15, labelFontWeight='bold',\n",
    "                               orient='top-left', symbolStrokeWidth=4, symbolSize=300,\n",
    "                               rowPadding=15, labelLimit=400, symbolOffset=15)\n",
    "             .interactive(bind_x = True) # 交互性设置\n",
    "            )\n",
    "    return(chart)\n",
    "\n",
    "chart = alt.Chart(data[(data['time']=='2018-08-15 22:00:00')|(data['time']=='2018-08-15 22:05:00')]).mark_rect().encode(\n",
    "    alt.X('time:O'),\n",
    "    alt.Y('height:Q'),\n",
    "    color='direction:Q'\n",
    ")\n",
    "alt_configure(chart)"
   ]
  }
 ],
 "metadata": {
  "kernelspec": {
   "display_name": "SHZX",
   "language": "python",
   "name": "shzx"
  },
  "language_info": {
   "codemirror_mode": {
    "name": "ipython",
    "version": 3
   },
   "file_extension": ".py",
   "mimetype": "text/x-python",
   "name": "python",
   "nbconvert_exporter": "python",
   "pygments_lexer": "ipython3",
   "version": "3.7.6"
  }
 },
 "nbformat": 4,
 "nbformat_minor": 4
}
