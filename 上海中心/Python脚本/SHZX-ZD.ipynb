{
 "cells": [
  {
   "cell_type": "markdown",
   "metadata": {},
   "source": [
    "# Prepare"
   ]
  },
  {
   "cell_type": "code",
   "execution_count": 1,
   "metadata": {},
   "outputs": [],
   "source": [
    "from SHZX_Modal_identification import *"
   ]
  },
  {
   "cell_type": "markdown",
   "metadata": {
    "heading_collapsed": true
   },
   "source": [
    "## 数据批量导出"
   ]
  },
  {
   "cell_type": "code",
   "execution_count": null,
   "metadata": {
    "hidden": true,
    "scrolled": true
   },
   "outputs": [],
   "source": [
    "# 数据展示可以对单测点进行导出，此处是为了方便批量导出\n",
    "date_start = '2018-07-11'; date_end = '2018-07-11'\n",
    "code_list = ['ZD-117-01','ZD-117-02','ZD-117-03','ZD-117-04',\n",
    "             'ZD-124-01','ZD-124-02','ZD-124-03','ZD-124-04',\n",
    "             'ZD-125-01','ZD-125-02','ZD-125-03','ZD-125-04',\n",
    "             'FS-132-01','FS-132-02'\n",
    "              ]\n",
    "date_list = get_date_list(date_start, date_end)\n",
    "data_export(code_list, date_list)"
   ]
  },
  {
   "cell_type": "markdown",
   "metadata": {},
   "source": [
    "## 绘制设备可用性视图"
   ]
  },
  {
   "cell_type": "code",
   "execution_count": null,
   "metadata": {},
   "outputs": [],
   "source": [
    "equipment_availability()"
   ]
  },
  {
   "cell_type": "markdown",
   "metadata": {},
   "source": [
    "## 绘制测点可用性视图"
   ]
  },
  {
   "cell_type": "code",
   "execution_count": null,
   "metadata": {},
   "outputs": [],
   "source": [
    "i_code = 'ZD-117-01'\n",
    "which_dates_are_good(i_code)"
   ]
  },
  {
   "cell_type": "markdown",
   "metadata": {},
   "source": [
    "# 数据分析"
   ]
  },
  {
   "cell_type": "markdown",
   "metadata": {},
   "source": [
    "## ZD_std"
   ]
  },
  {
   "cell_type": "code",
   "execution_count": null,
   "metadata": {},
   "outputs": [],
   "source": [
    "i_code_list = ['ZD-124-01']\n",
    "date_start = '2018-8-16'\n",
    "date_end = '2018-8-17'\n",
    "resample_frequency = '2T'\n",
    "for i_code in i_code_list:\n",
    "    # which_dates_are_good(i_code) # 查看该测点的哪些时间段可用\n",
    "    data = get_data_std(i_code, date_start, date_end, resample_frequency)\n",
    "    draw_ZD(data, i_code)"
   ]
  },
  {
   "cell_type": "markdown",
   "metadata": {},
   "source": [
    "## Peak-Picking"
   ]
  },
  {
   "cell_type": "code",
   "execution_count": null,
   "metadata": {},
   "outputs": [],
   "source": [
    "# 参数设置\n",
    "long = 5                    # 按分钟计，用于计算的数据长度\n",
    "Fs = 100                    # 采样频率\n",
    "new_f = 100                 # 降采样频率（避免滤波时数据溢出），也可用于增采样\n",
    "filtering = [10,20]         # 通带频率、阻带频率\n",
    "PSDfangfa = 1               # 1为周期图法，2为多个周期图平均法\n",
    "m = 2                       # 平均周期图法的平分数\n",
    "if_log = 0                  # 是否对结果取对数\n",
    "draw = 1                    # 是否绘图\n",
    "draw_matlab = 0             # 是否用matlab作图\n",
    "percent = 10                # 峰值下限取最高点的百分之几\n",
    "minpeakdist = 0.05          # 峰值之间最小距离\n",
    "\n",
    "i_code_list = ['ZD-124-01', 'ZD-124-03'] # 一个也行\n",
    "date_start = '2018-8-16 5:0:0'; date_end = '2018-8-18 5:0:0'\n",
    "f = Peak_Picking(i_code_list,date_start,date_end,long,Fs,new_f,filtering,PSDfangfa,m,if_log,draw,draw_matlab,percent,minpeakdist)\n",
    "f"
   ]
  },
  {
   "cell_type": "markdown",
   "metadata": {},
   "source": [
    "## SSICOV"
   ]
  },
  {
   "cell_type": "code",
   "execution_count": null,
   "metadata": {},
   "outputs": [],
   "source": [
    "# 参数设置\n",
    "long = 5                # 按分钟计，用于计算的数据长度\n",
    "Ts = 10                 # 按秒计 time lag for covariance calculation\n",
    "Fs = 100                # 采样频率\n",
    "new_f = 100             # 降采样频率（避免滤波时数据溢出），也可用于增采样\n",
    "filtering = [10,20]   # 通带频率、阻带频率\n",
    "if_log = 0              # 是否取对数\n",
    "draw = 0                # 是否绘图\n",
    "draw_matlab = 0         # 是否用matlab绘图\n",
    "Xrange = [0,1]          # 绘图x轴范围\n",
    "eps_freq = 1e-3         # 相对误差(频率)\n",
    "\n",
    "i_code_list = ['ZD-124-01', 'ZD-124-03'] # 起码有两个\n",
    "date_start = '2018-8-16 5:0:0'; date_end = '2018-8-18 5:0:0'\n",
    "f = SSICOV(i_code_list,date_start,date_end,long,Ts,Fs,new_f,filtering,if_log,draw,draw_matlab,Xrange,eps_freq)\n",
    "f"
   ]
  }
 ],
 "metadata": {
  "hide_input": false,
  "kernelspec": {
   "display_name": "Python [conda env:HB]",
   "language": "python",
   "name": "conda-env-HB-py"
  },
  "language_info": {
   "codemirror_mode": {
    "name": "ipython",
    "version": 3
   },
   "file_extension": ".py",
   "mimetype": "text/x-python",
   "name": "python",
   "nbconvert_exporter": "python",
   "pygments_lexer": "ipython3",
   "version": "3.7.3"
  },
  "toc": {
   "base_numbering": 1,
   "nav_menu": {},
   "number_sections": true,
   "sideBar": true,
   "skip_h1_title": false,
   "title_cell": "Table of Contents",
   "title_sidebar": "Contents",
   "toc_cell": false,
   "toc_position": {
    "height": "588px",
    "left": "36px",
    "top": "78px",
    "width": "247px"
   },
   "toc_section_display": true,
   "toc_window_display": true
  },
  "varInspector": {
   "cols": {
    "lenName": 16,
    "lenType": 16,
    "lenVar": 40
   },
   "kernels_config": {
    "python": {
     "delete_cmd_postfix": "",
     "delete_cmd_prefix": "del ",
     "library": "var_list.py",
     "varRefreshCmd": "print(var_dic_list())"
    },
    "r": {
     "delete_cmd_postfix": ") ",
     "delete_cmd_prefix": "rm(",
     "library": "var_list.r",
     "varRefreshCmd": "cat(var_dic_list()) "
    }
   },
   "position": {
    "height": "592px",
    "left": "854px",
    "right": "20px",
    "top": "151px",
    "width": "453px"
   },
   "types_to_exclude": [
    "module",
    "function",
    "builtin_function_or_method",
    "instance",
    "_Feature"
   ],
   "window_display": false
  }
 },
 "nbformat": 4,
 "nbformat_minor": 4
}
