{
 "cells": [
  {
   "cell_type": "code",
   "execution_count": 28,
   "metadata": {},
   "outputs": [],
   "source": [
    "import requests\n",
    "\n",
    "timeRange = '[20191126000000,20191203000000]'\n",
    "url = 'http://api.data.cma.cn:8090/api?userId=5752667291406W03b&pwd=DUqRZif&dataFormat=json&interfaceId=getSurfEleByTimeRangeAndStaID&dataCode=SURF_CHN_MUL_HOR&timeRange=%s&staIDs=58361,58362,58365,58366,58367,58369,58370,58460,58461,58462,58463&elements=Station_Id_C,Year,Mon,Day,Hour,CLO_COV_LM,CLO_Cov_Low,CLO_Cov,VIS,windpower,tigan,WIN_S_Inst_Max,WEP_Now,WIN_D_Avg_2mi,WIN_S_Avg_2mi,WIN_D_S_Max,WIN_S_Max,WIN_D_INST_Max,PRE_1h,VAP,RHU_Min,RHU,TEM_Min,TEM_Max,TEM,PRS_Min,PRS_Max,PRS_Sea,PRS'%timeRange\n",
    "download_path = r'E:\\【论文】\\【大论文】\\气象资料收集\\数据\\国家气象数据中心数据\\%s.json'%timeRange.replace('0','')\n",
    "req = requests.get(url)\n",
    "data = json.loads(req.content)\n",
    "# 字典转换成json 存入本地文件\n",
    "with open(download_path,'w', encoding='utf8') as f:\n",
    "    # 设置不转换成ascii  json字符串首缩进\n",
    "    f.write( json.dumps(data, ensure_ascii=False, indent=2) )"
   ]
  }
 ],
 "metadata": {
  "hide_input": false,
  "kernelspec": {
   "display_name": "Python [conda env:HB]",
   "language": "python",
   "name": "conda-env-HB-py"
  },
  "language_info": {
   "codemirror_mode": {
    "name": "ipython",
    "version": 3
   },
   "file_extension": ".py",
   "mimetype": "text/x-python",
   "name": "python",
   "nbconvert_exporter": "python",
   "pygments_lexer": "ipython3",
   "version": "3.7.3"
  },
  "toc": {
   "base_numbering": 1,
   "nav_menu": {},
   "number_sections": true,
   "sideBar": true,
   "skip_h1_title": false,
   "title_cell": "Table of Contents",
   "title_sidebar": "Contents",
   "toc_cell": false,
   "toc_position": {},
   "toc_section_display": true,
   "toc_window_display": false
  },
  "varInspector": {
   "cols": {
    "lenName": 16,
    "lenType": 16,
    "lenVar": 40
   },
   "kernels_config": {
    "python": {
     "delete_cmd_postfix": "",
     "delete_cmd_prefix": "del ",
     "library": "var_list.py",
     "varRefreshCmd": "print(var_dic_list())"
    },
    "r": {
     "delete_cmd_postfix": ") ",
     "delete_cmd_prefix": "rm(",
     "library": "var_list.r",
     "varRefreshCmd": "cat(var_dic_list()) "
    }
   },
   "types_to_exclude": [
    "module",
    "function",
    "builtin_function_or_method",
    "instance",
    "_Feature"
   ],
   "window_display": false
  }
 },
 "nbformat": 4,
 "nbformat_minor": 4
}
