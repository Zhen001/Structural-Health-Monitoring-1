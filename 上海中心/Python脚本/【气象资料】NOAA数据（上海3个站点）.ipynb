{
 "cells": [
  {
   "cell_type": "markdown",
   "metadata": {},
   "source": [
    "## 爬虫—NOAA数据（上海3个站点）"
   ]
  },
  {
   "cell_type": "code",
   "execution_count": 12,
   "metadata": {
    "run_control": {
     "marked": true
    },
    "scrolled": true
   },
   "outputs": [],
   "source": [
    "import urllib, os, bs4\n",
    "import subprocess\n",
    "import requests\n",
    "import shutil\n",
    "import time\n",
    "\n",
    "main_path = r'E:\\【论文】\\【大论文】\\气象资料收集\\数据\\NOAA气象站点数据'\n",
    "url_prefix = r'https://www.ncei.noaa.gov/data/global-hourly/access/'\n",
    "station_dict = {'583211':'PUDONG', '583620':'SHANGHAI', '583670':'HONGQIAO INTL'}\n",
    "\n",
    "for year in range(2000,2020):\n",
    "    for station in ['583211', '583620', '583670']:\n",
    "        url = url_prefix + '%s/%s99999.csv'%(year,station)\n",
    "        filename = '%s-%s-%s'%(year,station,station_dict.get(station))\n",
    "        download_path = main_path + '\\\\%s.csv' % filename\n",
    "        try:\n",
    "            urllib.request.urlretrieve(url, download_path)\n",
    "        except:\n",
    "            continue"
   ]
  }
 ],
 "metadata": {
  "hide_input": false,
  "kernelspec": {
   "display_name": "Python [conda env:HB]",
   "language": "python",
   "name": "conda-env-HB-py"
  },
  "language_info": {
   "codemirror_mode": {
    "name": "ipython",
    "version": 3
   },
   "file_extension": ".py",
   "mimetype": "text/x-python",
   "name": "python",
   "nbconvert_exporter": "python",
   "pygments_lexer": "ipython3",
   "version": "3.7.3"
  },
  "toc": {
   "base_numbering": 1,
   "nav_menu": {},
   "number_sections": true,
   "sideBar": true,
   "skip_h1_title": false,
   "title_cell": "Table of Contents",
   "title_sidebar": "Contents",
   "toc_cell": false,
   "toc_position": {},
   "toc_section_display": true,
   "toc_window_display": false
  },
  "varInspector": {
   "cols": {
    "lenName": 16,
    "lenType": 16,
    "lenVar": 40
   },
   "kernels_config": {
    "python": {
     "delete_cmd_postfix": "",
     "delete_cmd_prefix": "del ",
     "library": "var_list.py",
     "varRefreshCmd": "print(var_dic_list())"
    },
    "r": {
     "delete_cmd_postfix": ") ",
     "delete_cmd_prefix": "rm(",
     "library": "var_list.r",
     "varRefreshCmd": "cat(var_dic_list()) "
    }
   },
   "types_to_exclude": [
    "module",
    "function",
    "builtin_function_or_method",
    "instance",
    "_Feature"
   ],
   "window_display": false
  }
 },
 "nbformat": 4,
 "nbformat_minor": 4
}
