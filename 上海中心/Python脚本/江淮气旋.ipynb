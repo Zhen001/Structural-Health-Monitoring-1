{
 "cells": [
  {
   "cell_type": "markdown",
   "metadata": {},
   "source": [
    "# 通过网页新闻确定大致时间段"
   ]
  },
  {
   "cell_type": "code",
   "execution_count": null,
   "metadata": {},
   "outputs": [],
   "source": [
    "import time\n",
    "import pandas as pd\n",
    "from selenium import webdriver\n",
    "from datetime import datetime as datetime\n",
    "from selenium.webdriver.chrome.options import Options\n",
    "from selenium.webdriver.support.ui import WebDriverWait\n",
    "from selenium.webdriver.support import expected_conditions as EC\n",
    "from selenium.webdriver.common.by import By\n",
    "from selenium.webdriver.common.keys import Keys\n",
    "import time,json,string,requests,urllib.parse,eventlet,random\n",
    "from requests.adapters import HTTPAdapter\n",
    "pd.set_option('max_colwidth',100)\n",
    "pd.set_option('display.max_rows', None)\n",
    "\n",
    "# proxy = '125.108.112.49:9000'\n",
    "# user_agent = \"Mozilla/4.0 (compatible; MSIE 7.0; Windows NT 6.0)\"\n",
    "# chrome_options = webdriver.ChromeOptions()\n",
    "# chrome_options.add_argument('--proxy-server=' + proxy)\n",
    "# chrome_options.add_argument('--user-agent=%s' % user_agent)\n",
    "driver = webdriver.Chrome(executable_path=r'D:\\Anaconda3\\chromedriver.exe')\n",
    "driver.implicitly_wait(10)  # 隐式等待，防止网络不稳定引起的报错\n",
    "\n",
    "# Google\n",
    "key_word = '\"江淮气旋\" -道客 -资料 -考试 -上学吧 -百科 -文库 -摘要 -学术'\n",
    "url_google = 'https://www.google.com/search?q=%s&tbs=cdr:1,cd_min:1/1/2018,cd_max:12/31/2018'%key_word\n",
    "\n",
    "data = pd.DataFrame({'date':[], 'title':[], 'content':[]})\n",
    "driver.get(url_google)\n",
    "WebDriverWait(driver, 1000).until(EC.presence_of_element_located((By.XPATH, '//tbody//td/a[@class=\"fl\"]')))\n",
    "page_element = len(driver.find_elements(By.XPATH, '//tbody//td/a[@class=\"fl\"]'))\n",
    "for i in range(page_element+1):\n",
    "    temp =pd.DataFrame([])\n",
    "    WebDriverWait(driver, 1000).until(EC.presence_of_element_located((By.XPATH, '//div[@id=\"rso\"]/div//span[@class=\"f\"]')))\n",
    "    date = driver.find_elements(By.XPATH,'//div[@id=\"rso\"]/div//span[@class=\"f\"]')\n",
    "    title = driver.find_elements(By.XPATH,'//div[@id=\"rso\"]/div//h3[@class=\"LC20lb DKV0Md\"]')\n",
    "    content = driver.find_elements(By.XPATH,'//div[@id=\"rso\"]/div//span[@class=\"st\"]')\n",
    "    temp['date'] = [x.text.split(' ')[0] for x in date]\n",
    "    temp['title'] = [x.text for x in title]\n",
    "    temp['content'] = [x.text for x in content]\n",
    "    data = data.append(temp)\n",
    "    if i < page_element:\n",
    "        next_page = driver.find_element(By.XPATH, \"//span[text()='下一页']\")\n",
    "        next_page.click()\n",
    "data['date'] = data['date'].apply(lambda x:datetime.strptime(x,'%Y年%m月%d日'))\n",
    "data['value'] = 1"
   ]
  },
  {
   "cell_type": "code",
   "execution_count": 34,
   "metadata": {},
   "outputs": [
    {
     "data": {
      "application/vnd.vegalite.v3+json": {
       "$schema": "https://vega.github.io/schema/vega-lite/v3.3.0.json",
       "config": {
        "mark": {
         "tooltip": null
        },
        "view": {
         "height": 300,
         "width": 400
        }
       },
       "data": {
        "name": "data-c18cb4deebfae6894f23c746469cfba4"
       },
       "datasets": {
        "data-c18cb4deebfae6894f23c746469cfba4": [
         {
          "content": "2018年3月1日 - 受江淮气旋入海的影响，上海昨日白天风力较大，上海中心气象台9时59分发布大风蓝色预警信号，上午11时33分上海中心气象台又将预警信号升级为大风黄色预警 ...",
          "date": "2018-03-01T00:00:00",
          "title": "申城双休日最高温度或超20℃ 下周一骤降至9℃_新浪上海_新浪网",
          "value": 1
         },
         {
          "content": "2018年3月1日 - “江淮气旋”什么鬼？ 2月最后一天，虽然降水逐渐停止，但风力不减！上海中心气象台昨天9时59分发布大风蓝色预警信号 ...",
          "date": "2018-03-01T00:00:00",
          "title": "过山车！元宵节阴雨+降温，双休日大回暖！下周又降温！",
          "value": 1
         },
         {
          "content": "2018年2月28日 - 27日最高气温更是达到了16.6℃，走在街上的人们纷纷脱去外套，彷如初春一般。相比27日白天的好天气，受江淮气旋发展影响，27日夜里开始迎来一次明显降水和 ...",
          "date": "2018-02-28T00:00:00",
          "title": "16.6℃暖如初春，江淮气旋送来夜雨！3月初的天气变得快_新闻 ...",
          "value": 1
         },
         {
          "content": "2018年2月28日 - 受江淮气旋影响，预计今天白天本市大部地区将出现7-8级西到西北阵风，局地阵风可达9级，大风蓝色预警信号更新为大风黄色预警信号。 防御指引：. 1、政府及相关部门 ...",
          "date": "2018-02-28T00:00:00",
          "title": "上海发布大风黄色预警，局地阵风可达9级",
          "value": 1
         },
         {
          "content": "2018年6月6日 - 江淮气旋在淮河流域和长江中下游一带形成并发展的锋面气旋,春季最为多见。其路径多沿长江、淮河一带东移出海,然后掠过日本列岛或朝鲜半岛向东北移去。",
          "date": "2018-06-06T00:00:00",
          "title": "低压与高压怎样区分台风是气旋吗-看点快报",
          "value": 1
         },
         {
          "content": "2018年5月6日 - 然而，暖湿气流影响下的上海虽然又热又潮，但却没在暴雨范围内。 中国气象爱好者科普微博指出，这是因为江淮气旋雨带又偏北，上海一直没“吃”到雨带 ...",
          "date": "2018-05-06T00:00:00",
          "title": "大雨夜里入沪！周二起又要连晴啦，气温总体升升升 - 周到上海",
          "value": 1
         },
         {
          "content": "2018年2月27日 - 上海中心气象台2018年02月27日21时30分发布大风蓝色预警[Ⅳ级/一般]：受江淮气旋影响，预计今天下半夜到明天早晨本市的浦东、崇明东部、奉贤、金山等地将 ...",
          "date": "2018-02-27T00:00:00",
          "title": "申城刚刚发布大风蓝色预警！-手机新民网 - 新民晚报",
          "value": 1
         },
         {
          "content": "2018年4月23日 - 4月23日，在制造江浙沪大范围大到暴雨后，江淮气旋出海。云图为中气爱根据H-8数据制作. 这个五一，副热带高压很想来我国，南方天气可能有点热闹！ 4月23日， ...",
          "date": "2018-04-23T00:00:00",
          "title": "这个五一，副热带高压很想来我国，南方天气可能有点热闹！",
          "value": 1
         },
         {
          "content": "2018年5月4日 - 距离小麦成熟收获还有30天左右的时间，即将进入“三夏”大忙，是夺取夏粮丰收的最后关头和打牢秋粮生产基础的关键时期。据气象部门预测，受江淮气旋东移影响，预计 ...",
          "date": "2018-05-04T00:00:00",
          "title": "5-6日江苏将迎强降水过程农业部门紧急通知确保夏粮生产_我苏网",
          "value": 1
         },
         {
          "content": "2018年5月4日 - 距离小麦成熟收获还有30天左右的时间，即将进入“三夏”大忙，是夺取夏粮丰收的最后关头和打牢秋粮生产基础的关键时期。据气象部门预测，受江淮气旋东移影响，预计 ...",
          "date": "2018-05-04T00:00:00",
          "title": "5-6日江苏将迎强降水过程农业部门紧急通知确保夏粮生产_我苏网",
          "value": 1
         },
         {
          "content": "2018年7月16日 - 昨天夜間起，本市出現降水，截止今天8時，崇明站出現中雨，其它站的雨量在10毫米以下。受江淮氣旋入海的影響，上海今天白天風力較大，上海中心氣象台9時59分 ...",
          "date": "2018-07-16T00:00:00",
          "title": "世界「風力」最大的地方，一年300天8級大風，被巨大冰塊所覆蓋 ...",
          "value": 1
         },
         {
          "content": "2018年9月26日 - ... 時間長，颱風破壞力並不比龍捲風遜色襲擊美國俄克拉荷馬的龍捲風造成的破壞還未遠去，昨天，@中國氣象愛好者發帖稱，在我國，一個強大的江淮氣旋將於明天橫 ...",
          "date": "2018-09-26T00:00:00",
          "title": "龍捲風和颱風相比，哪個威力更大？ - 每日頭條",
          "value": 1
         },
         {
          "content": "2018年3月22日 - 正是因为有这个冷涡，明天的冷空气将和暖湿气流'追尾'，搞出一个江淮气旋来”，也正是因为这个江淮气旋，江浙沪沿海地区这两天的风力都很大，“甚至可能超过冷 ...",
          "date": "2018-03-22T00:00:00",
          "title": "昨天春分杭州居然下雪了？今天强势升温周末最高23℃ - 杭州 ...",
          "value": 1
         },
         {
          "content": "2018年11月16日 - 受江淮气旋东移北上影响，自11月8日夜间开始，黑龙江省双鸭山市迎来了入冬的首场强降雪天气。截至11月9日16时，双鸭山市区降水量21.0毫米，达到暴雪量级，多 ...",
          "date": "2018-11-16T00:00:00",
          "title": "fun88客户端_乐天堂fun88老虎机_乐天堂fun88手机版- 双鸭山 ...",
          "value": 1
         },
         {
          "content": "2018年5月7日 - 江淮气旋是造成江淮地区大风、暴雨和雷暴的主要天气系统之一。 据介绍，这次暴雨是今年第一场季风暴雨，其雨量也是今年以来最大的一次。降雨带横 ...",
          "date": "2018-05-07T00:00:00",
          "title": "季风暴雨来袭，信阳看海……河南这周还有中到大雨！ - 河南一 ...",
          "value": 1
         },
         {
          "content": "2018年4月19日 - 谷雨节气，东亚高空西风急流会再一次发生明显减弱和北移，华南暖湿气团比较活跃，西风带自西向东环流波动比较频繁，低气压和江淮气旋活动逐渐增多。受其影响， ...",
          "date": "2018-04-19T00:00:00",
          "title": "雨生百谷，万物更新！今日谷雨，习俗诗词一并送上！ - 简书",
          "value": 1
         },
         {
          "content": "2018年5月16日 - ... 雷阵雨期间可能伴有强雷电、雷暴大风和短时强降水等强对流天气。19日至20日地面有江淮气旋过境，将伴有内陆5到7级、沿海海面7到9级的东北风。 盐城天气预报.",
          "date": "2018-05-16T00:00:00",
          "title": "今日盐城雷阵雨转阵雨明后气温跌至28℃ - 天气网",
          "value": 1
         },
         {
          "content": "2018年3月3日 - 俗语说“三月天，娃娃脸，说变就变”，意指三月气温不稳定，天气变化较大。但申城这次“过山车”有点猛。今明两天一波升温后，周日到下周一，受江淮气旋东移 ...",
          "date": "2018-03-03T00:00:00",
          "title": "风雨雷雾\"轮番上阵\" 周末上海这波天气\"过山车\"有点猛-申城,沿海 ...",
          "value": 1
         },
         {
          "content": "2018年5月29日 - 谷雨节气，东亚高空西风急流会再一次发生明显减弱和北移，华南暖湿气团比较活跃，西风带自西向东环流波动比较频繁，低气压和江淮气旋活动逐渐增多。受其影响， ...",
          "date": "2018-05-29T00:00:00",
          "title": "谷雨 - 涞源职教中心",
          "value": 1
         },
         {
          "content": "2018年10月29日 - 根据发源地的不同，还有蒙古气旋、江淮气旋和东海气旋。主要靠西风带提供的斜压来运行和加强，一年四季都可出现，陆地和海洋上均能生成。是造成大范围天气变化 ...",
          "date": "2018-10-29T00:00:00",
          "title": "厉害了！这些气象术语赶紧记下！_冷涡 - 搜狐",
          "value": 1
         },
         {
          "content": "2018年5月29日 - 谷雨节气，东亚高空西风急流会再一次发生明显减弱和北移，华南暖湿气团比较活跃，西风带自西向东环流波动比较频繁，低气压和江淮气旋活动逐渐增多。受其影响， ...",
          "date": "2018-05-29T00:00:00",
          "title": "谷雨 - 涞源职教中心",
          "value": 1
         },
         {
          "content": "2018年4月16日 - 谷雨节气，东亚高空西风急流会再一次发生明显减弱和北移，华南暖湿气团比较活跃，西风带自西向东环流波动比较频繁，低气压和江淮气旋活动逐渐增多。受其影响， ...",
          "date": "2018-04-16T00:00:00",
          "title": "谷雨时节 - 无锡爱齿一生科技有限公司",
          "value": 1
         },
         {
          "content": "2018年5月20日 - 首先回答你，是的，特别是华南地区。 根据自己所在区域的老预报员，以及我本人自己统计的本地数据，发现夜间（晚上20点到次日的08点）的强对流（公众所说的 ...",
          "date": "2018-05-20T00:00:00",
          "title": "为什么感觉雷阵雨会发生在中午、下午、傍晚、深夜，就是不会 ...",
          "value": 1
         },
         {
          "content": "2018年4月20日 - 谷雨节气，东亚高空西风急流会再一次发生明显减弱和北移，华南暖湿气团比较活跃，西风带自西向东环流波动比较频繁，低气压和江淮气旋活动逐渐增多。受其影响， ...",
          "date": "2018-04-20T00:00:00",
          "title": "正当谷雨弄晴时，一年弹指又春归|高达.祝福- 高达投资| 微信 ...",
          "value": 1
         },
         {
          "content": "2018年11月19日 - 在其他方面：因船舶设备日常维护不到位，机器设备故障，造成船舶失控，引发碰撞事故2起，触碰事故1起。 四、安全形势研判. 二季度，长江水位将逐步上升，江淮气旋等 ...",
          "date": "2018-11-19T00:00:00",
          "title": "江苏海事局2018年一季度水上交通事故分析报告",
          "value": 1
         },
         {
          "content": "2018年4月7日 - 通常说来，谷雨节气，东亚高空西风急流会再一次发生明显减弱和北移，华南暖湿气团比较活跃，西风带自西向东环流波动比较频繁，低气压和江淮气旋活动逐渐增多。",
          "date": "2018-04-07T00:00:00",
          "title": "2018谷雨前后天气怎样不一定会下雨但要注意增减衣物(2)_秀目网",
          "value": 1
         },
         {
          "content": "2018年9月30日 - 热带气旋、热带风暴、强热带风暴及台风来临时一般风力为9级、最大风力10级。 该港受江淮气旋影响较大。年平均约有15.5个江准气旋影响该地区，主要发生在4月－6 ...",
          "date": "2018-09-30T00:00:00",
          "title": "江阴港-中国港口网",
          "value": 1
         },
         {
          "content": "2018年7月4日 - 受江淮气旋影响，9日夜里到10日我市将有一次强降水过程，其中10日雨量可达暴雨，并伴有6~8级东到东北大风. 预计过程累积雨量50~80毫米，局部可达100~120 ...",
          "date": "2018-07-04T00:00:00",
          "title": "【注意安全】明天天气恶劣，亲子班的家长雨天注意慢行！ - 雪花 ...",
          "value": 1
         },
         {
          "content": "2018年11月12日 - A：岳西翠兰产地位于安徽省岳西县，是安徽特产，国家地理标志产品。安徽省岳西县属北亚热带季风区，受江淮气旋及梅雨控制、以岳西翠兰及副热带高压进退的影响， ...",
          "date": "2018-11-12T00:00:00",
          "title": "岳西翠兰- 茶叶问答 - 第一茶叶网",
          "value": 1
         },
         {
          "content": "2018年2月1日 - 在太原市任务的詹先生2016年回江西老家换领身份证时往返跑了4趟，前后... 本座魔葫. 1夜之间，天空开端“大变脸”。据浙江气候猜测，受江淮气旋进海 ...",
          "date": "2018-02-01T00:00:00",
          "title": "在家挣钱的工作_江苏快三",
          "value": 1
         },
         {
          "content": "2018年2月11日 - 而西分中的短波成員則會爬上高原形成高原槽，移下高原在地面形成西南渦系統，西南渦隨著南支槽的移動而移動，有時會向東形成江淮氣旋，有時會向東南進入華南， ...",
          "date": "2018-02-11T00:00:00",
          "title": "[觀天]正是雨季來臨時- GetIt01",
          "value": 1
         },
         {
          "content": "2018年1月28日 - 1、有些時候由於一些天氣系統的影響，比如冷鋒後的東北低壓、江淮氣旋、偏北大風等會使風向相對跑道突然變成側風，如果側風值超過了航空公司工作手冊中規定的機 ...",
          "date": "2018-01-28T00:00:00",
          "title": "飛機起飛時間到了，卻突然通知延誤，這是什麼原因？ - iFuun",
          "value": 1
         },
         {
          "content": "2018年9月16日 - 陈扶宜）受江淮气旋影响人平易近网沈阳7月22日电，送来一次强降雨过程辽宁昨日大部门地域。统计据，20日8—19时2016年7月，水57。1毫米葫芦岛市平均降， ...",
          "date": "2018-09-16T00:00:00",
          "title": "4！bbin丛林 - 皇浦国际_百尊娱乐城_彩票搖獎機_皇家金堡_ ...",
          "value": 1
         },
         {
          "content": "2018年3月5日 - 受江淮气旋影响，今天（3月5日）上海有明显降温和大风天气，雷暴、短时强降水陆续登场，最高温仅11℃，相比昨天骤降12.5℃。 昨天，中心城区最高温一度逼近24℃， ...",
          "date": "2018-03-05T00:00:00",
          "title": "2018惊蛰图片下载-惊蛰图片手绘简笔画高清无水印版下载_东 ...",
          "value": 1
         }
        ]
       },
       "encoding": {
        "tooltip": [
         {
          "field": "content",
          "title": "类型",
          "type": "ordinal"
         }
        ],
        "x": {
         "axis": {
          "format": "%Y-%m-%d"
         },
         "field": "date",
         "title": null,
         "type": "temporal"
        },
        "y": {
         "field": "value",
         "scale": {
          "domain": [
           0,
           2
          ]
         },
         "type": "quantitative"
        }
       },
       "height": 200,
       "mark": {
        "size": 300,
        "type": "circle"
       },
       "width": 1000
      },
      "image/png": "[encoded data removed]",
      "text/plain": [
       "<VegaLite 3 object>\n",
       "\n",
       "If you see this message, it means the renderer has not been properly enabled\n",
       "for the frontend that you are using. For more information, see\n",
       "https://altair-viz.github.io/user_guide/troubleshooting.html\n"
      ]
     },
     "execution_count": 34,
     "metadata": {},
     "output_type": "execute_result"
    }
   ],
   "source": [
    "import altair as alt\n",
    "alt.data_transformers.enable('default', max_rows = None) # 避免警告数据量超过5000\n",
    "\n",
    "chart = (alt\n",
    "         .Chart(data)\n",
    "         .mark_circle(size=300)\n",
    "         .encode(\n",
    "             alt.X(\"date:T\", title=None, axis=alt.Axis(format='%Y-%m-%d')),\n",
    "             alt.Y(\"value:Q\", scale=alt.Scale(domain=[0,2])),\n",
    "             tooltip=[alt.Tooltip('content:O', title='类型')],\n",
    "         )\n",
    "         .properties(width=1000, height=200)\n",
    "         \n",
    "        )\n",
    "chart\n",
    "         "
   ]
  },
  {
   "cell_type": "markdown",
   "metadata": {},
   "source": [
    "# 展示"
   ]
  },
  {
   "cell_type": "code",
   "execution_count": 1,
   "metadata": {},
   "outputs": [],
   "source": [
    "import pandas as pd\n",
    "from IPython.display import IFrame, display\n",
    "def display_earth(date, orthographic):\n",
    "    date = date.strftime('%Y/%m/%d')\n",
    "    string = '\\n%s：\\n'%date\n",
    "    print(\"\\033[1;31m%s\\033[0m\"%string)\n",
    "    url = 'https://earth.nullschool.net/zh-cn/#%s/0000Z/wind/surface/level/orthographic=%s/loc=-120.000,0.000'%(date, orthographic)\n",
    "    display(IFrame(url, width=1000, height=400))\n",
    "    return(None)\n",
    "orthographic = '-242.74,31.02,3000'"
   ]
  },
  {
   "cell_type": "markdown",
   "metadata": {},
   "source": [
    "## ('2018/01/21', '2018/01/26')"
   ]
  },
  {
   "cell_type": "code",
   "execution_count": 9,
   "metadata": {},
   "outputs": [
    {
     "name": "stdout",
     "output_type": "stream",
     "text": [
      "\u001b[1;31m\n",
      "2018/01/21：\n",
      "\u001b[0m\n"
     ]
    },
    {
     "data": {
      "text/html": [
       "\n",
       "        <iframe\n",
       "            width=\"1000\"\n",
       "            height=\"400\"\n",
       "            src=\"https://earth.nullschool.net/zh-cn/#2018/01/21/0000Z/wind/surface/level/orthographic=-242.74,31.02,3000/loc=-120.000,0.000\"\n",
       "            frameborder=\"0\"\n",
       "            allowfullscreen\n",
       "        ></iframe>\n",
       "        "
      ],
      "text/plain": [
       "<IPython.lib.display.IFrame at 0x1a9c3545d68>"
      ]
     },
     "metadata": {},
     "output_type": "display_data"
    },
    {
     "name": "stdout",
     "output_type": "stream",
     "text": [
      "\u001b[1;31m\n",
      "2018/01/22：\n",
      "\u001b[0m\n"
     ]
    },
    {
     "data": {
      "text/html": [
       "\n",
       "        <iframe\n",
       "            width=\"1000\"\n",
       "            height=\"400\"\n",
       "            src=\"https://earth.nullschool.net/zh-cn/#2018/01/22/0000Z/wind/surface/level/orthographic=-242.74,31.02,3000/loc=-120.000,0.000\"\n",
       "            frameborder=\"0\"\n",
       "            allowfullscreen\n",
       "        ></iframe>\n",
       "        "
      ],
      "text/plain": [
       "<IPython.lib.display.IFrame at 0x1a9c3545780>"
      ]
     },
     "metadata": {},
     "output_type": "display_data"
    },
    {
     "name": "stdout",
     "output_type": "stream",
     "text": [
      "\u001b[1;31m\n",
      "2018/01/23：\n",
      "\u001b[0m\n"
     ]
    },
    {
     "data": {
      "text/html": [
       "\n",
       "        <iframe\n",
       "            width=\"1000\"\n",
       "            height=\"400\"\n",
       "            src=\"https://earth.nullschool.net/zh-cn/#2018/01/23/0000Z/wind/surface/level/orthographic=-242.74,31.02,3000/loc=-120.000,0.000\"\n",
       "            frameborder=\"0\"\n",
       "            allowfullscreen\n",
       "        ></iframe>\n",
       "        "
      ],
      "text/plain": [
       "<IPython.lib.display.IFrame at 0x1a9c3519588>"
      ]
     },
     "metadata": {},
     "output_type": "display_data"
    },
    {
     "name": "stdout",
     "output_type": "stream",
     "text": [
      "\u001b[1;31m\n",
      "2018/01/24：\n",
      "\u001b[0m\n"
     ]
    },
    {
     "data": {
      "text/html": [
       "\n",
       "        <iframe\n",
       "            width=\"1000\"\n",
       "            height=\"400\"\n",
       "            src=\"https://earth.nullschool.net/zh-cn/#2018/01/24/0000Z/wind/surface/level/orthographic=-242.74,31.02,3000/loc=-120.000,0.000\"\n",
       "            frameborder=\"0\"\n",
       "            allowfullscreen\n",
       "        ></iframe>\n",
       "        "
      ],
      "text/plain": [
       "<IPython.lib.display.IFrame at 0x1a9c3519588>"
      ]
     },
     "metadata": {},
     "output_type": "display_data"
    },
    {
     "name": "stdout",
     "output_type": "stream",
     "text": [
      "\u001b[1;31m\n",
      "2018/01/25：\n",
      "\u001b[0m\n"
     ]
    },
    {
     "data": {
      "text/html": [
       "\n",
       "        <iframe\n",
       "            width=\"1000\"\n",
       "            height=\"400\"\n",
       "            src=\"https://earth.nullschool.net/zh-cn/#2018/01/25/0000Z/wind/surface/level/orthographic=-242.74,31.02,3000/loc=-120.000,0.000\"\n",
       "            frameborder=\"0\"\n",
       "            allowfullscreen\n",
       "        ></iframe>\n",
       "        "
      ],
      "text/plain": [
       "<IPython.lib.display.IFrame at 0x1a9c3519588>"
      ]
     },
     "metadata": {},
     "output_type": "display_data"
    },
    {
     "name": "stdout",
     "output_type": "stream",
     "text": [
      "\u001b[1;31m\n",
      "2018/01/26：\n",
      "\u001b[0m\n"
     ]
    },
    {
     "data": {
      "text/html": [
       "\n",
       "        <iframe\n",
       "            width=\"1000\"\n",
       "            height=\"400\"\n",
       "            src=\"https://earth.nullschool.net/zh-cn/#2018/01/26/0000Z/wind/surface/level/orthographic=-242.74,31.02,3000/loc=-120.000,0.000\"\n",
       "            frameborder=\"0\"\n",
       "            allowfullscreen\n",
       "        ></iframe>\n",
       "        "
      ],
      "text/plain": [
       "<IPython.lib.display.IFrame at 0x1a9c3519588>"
      ]
     },
     "metadata": {},
     "output_type": "display_data"
    }
   ],
   "source": [
    "date_range = pd.date_range('2018/01/21', '2018/01/26')\n",
    "for date in date_range:\n",
    "    display_earth(date, orthographic)"
   ]
  },
  {
   "cell_type": "markdown",
   "metadata": {},
   "source": [
    "## ('2018/02/28', '2018/03/04')"
   ]
  },
  {
   "cell_type": "code",
   "execution_count": 10,
   "metadata": {},
   "outputs": [
    {
     "name": "stdout",
     "output_type": "stream",
     "text": [
      "\u001b[1;31m\n",
      "2018/02/26：\n",
      "\u001b[0m\n"
     ]
    },
    {
     "data": {
      "text/html": [
       "\n",
       "        <iframe\n",
       "            width=\"1000\"\n",
       "            height=\"400\"\n",
       "            src=\"https://earth.nullschool.net/zh-cn/#2018/02/26/0000Z/wind/surface/level/orthographic=-242.74,31.02,3000/loc=-120.000,0.000\"\n",
       "            frameborder=\"0\"\n",
       "            allowfullscreen\n",
       "        ></iframe>\n",
       "        "
      ],
      "text/plain": [
       "<IPython.lib.display.IFrame at 0x1a9c357fef0>"
      ]
     },
     "metadata": {},
     "output_type": "display_data"
    },
    {
     "name": "stdout",
     "output_type": "stream",
     "text": [
      "\u001b[1;31m\n",
      "2018/02/27：\n",
      "\u001b[0m\n"
     ]
    },
    {
     "data": {
      "text/html": [
       "\n",
       "        <iframe\n",
       "            width=\"1000\"\n",
       "            height=\"400\"\n",
       "            src=\"https://earth.nullschool.net/zh-cn/#2018/02/27/0000Z/wind/surface/level/orthographic=-242.74,31.02,3000/loc=-120.000,0.000\"\n",
       "            frameborder=\"0\"\n",
       "            allowfullscreen\n",
       "        ></iframe>\n",
       "        "
      ],
      "text/plain": [
       "<IPython.lib.display.IFrame at 0x1a9c3545470>"
      ]
     },
     "metadata": {},
     "output_type": "display_data"
    },
    {
     "name": "stdout",
     "output_type": "stream",
     "text": [
      "\u001b[1;31m\n",
      "2018/02/28：\n",
      "\u001b[0m\n"
     ]
    },
    {
     "data": {
      "text/html": [
       "\n",
       "        <iframe\n",
       "            width=\"1000\"\n",
       "            height=\"400\"\n",
       "            src=\"https://earth.nullschool.net/zh-cn/#2018/02/28/0000Z/wind/surface/level/orthographic=-242.74,31.02,3000/loc=-120.000,0.000\"\n",
       "            frameborder=\"0\"\n",
       "            allowfullscreen\n",
       "        ></iframe>\n",
       "        "
      ],
      "text/plain": [
       "<IPython.lib.display.IFrame at 0x1a9bc89a780>"
      ]
     },
     "metadata": {},
     "output_type": "display_data"
    },
    {
     "name": "stdout",
     "output_type": "stream",
     "text": [
      "\u001b[1;31m\n",
      "2018/03/01：\n",
      "\u001b[0m\n"
     ]
    },
    {
     "data": {
      "text/html": [
       "\n",
       "        <iframe\n",
       "            width=\"1000\"\n",
       "            height=\"400\"\n",
       "            src=\"https://earth.nullschool.net/zh-cn/#2018/03/01/0000Z/wind/surface/level/orthographic=-242.74,31.02,3000/loc=-120.000,0.000\"\n",
       "            frameborder=\"0\"\n",
       "            allowfullscreen\n",
       "        ></iframe>\n",
       "        "
      ],
      "text/plain": [
       "<IPython.lib.display.IFrame at 0x1a9bc89a780>"
      ]
     },
     "metadata": {},
     "output_type": "display_data"
    },
    {
     "name": "stdout",
     "output_type": "stream",
     "text": [
      "\u001b[1;31m\n",
      "2018/03/02：\n",
      "\u001b[0m\n"
     ]
    },
    {
     "data": {
      "text/html": [
       "\n",
       "        <iframe\n",
       "            width=\"1000\"\n",
       "            height=\"400\"\n",
       "            src=\"https://earth.nullschool.net/zh-cn/#2018/03/02/0000Z/wind/surface/level/orthographic=-242.74,31.02,3000/loc=-120.000,0.000\"\n",
       "            frameborder=\"0\"\n",
       "            allowfullscreen\n",
       "        ></iframe>\n",
       "        "
      ],
      "text/plain": [
       "<IPython.lib.display.IFrame at 0x1a9bc89a780>"
      ]
     },
     "metadata": {},
     "output_type": "display_data"
    },
    {
     "name": "stdout",
     "output_type": "stream",
     "text": [
      "\u001b[1;31m\n",
      "2018/03/03：\n",
      "\u001b[0m\n"
     ]
    },
    {
     "data": {
      "text/html": [
       "\n",
       "        <iframe\n",
       "            width=\"1000\"\n",
       "            height=\"400\"\n",
       "            src=\"https://earth.nullschool.net/zh-cn/#2018/03/03/0000Z/wind/surface/level/orthographic=-242.74,31.02,3000/loc=-120.000,0.000\"\n",
       "            frameborder=\"0\"\n",
       "            allowfullscreen\n",
       "        ></iframe>\n",
       "        "
      ],
      "text/plain": [
       "<IPython.lib.display.IFrame at 0x1a9bc89a780>"
      ]
     },
     "metadata": {},
     "output_type": "display_data"
    },
    {
     "name": "stdout",
     "output_type": "stream",
     "text": [
      "\u001b[1;31m\n",
      "2018/03/04：\n",
      "\u001b[0m\n"
     ]
    },
    {
     "data": {
      "text/html": [
       "\n",
       "        <iframe\n",
       "            width=\"1000\"\n",
       "            height=\"400\"\n",
       "            src=\"https://earth.nullschool.net/zh-cn/#2018/03/04/0000Z/wind/surface/level/orthographic=-242.74,31.02,3000/loc=-120.000,0.000\"\n",
       "            frameborder=\"0\"\n",
       "            allowfullscreen\n",
       "        ></iframe>\n",
       "        "
      ],
      "text/plain": [
       "<IPython.lib.display.IFrame at 0x1a9bc89a780>"
      ]
     },
     "metadata": {},
     "output_type": "display_data"
    }
   ],
   "source": [
    "date_range = pd.date_range('2018/02/26', '2018/03/04')\n",
    "for date in date_range:\n",
    "    display_earth(date, orthographic)"
   ]
  },
  {
   "cell_type": "markdown",
   "metadata": {},
   "source": [
    "## ('2018/03/16', '2018/03/22')"
   ]
  },
  {
   "cell_type": "code",
   "execution_count": 11,
   "metadata": {},
   "outputs": [
    {
     "name": "stdout",
     "output_type": "stream",
     "text": [
      "\u001b[1;31m\n",
      "2018/03/16：\n",
      "\u001b[0m\n"
     ]
    },
    {
     "data": {
      "text/html": [
       "\n",
       "        <iframe\n",
       "            width=\"1000\"\n",
       "            height=\"400\"\n",
       "            src=\"https://earth.nullschool.net/zh-cn/#2018/03/16/0000Z/wind/surface/level/orthographic=-242.74,31.02,3000/loc=-120.000,0.000\"\n",
       "            frameborder=\"0\"\n",
       "            allowfullscreen\n",
       "        ></iframe>\n",
       "        "
      ],
      "text/plain": [
       "<IPython.lib.display.IFrame at 0x1a9c357f208>"
      ]
     },
     "metadata": {},
     "output_type": "display_data"
    },
    {
     "name": "stdout",
     "output_type": "stream",
     "text": [
      "\u001b[1;31m\n",
      "2018/03/17：\n",
      "\u001b[0m\n"
     ]
    },
    {
     "data": {
      "text/html": [
       "\n",
       "        <iframe\n",
       "            width=\"1000\"\n",
       "            height=\"400\"\n",
       "            src=\"https://earth.nullschool.net/zh-cn/#2018/03/17/0000Z/wind/surface/level/orthographic=-242.74,31.02,3000/loc=-120.000,0.000\"\n",
       "            frameborder=\"0\"\n",
       "            allowfullscreen\n",
       "        ></iframe>\n",
       "        "
      ],
      "text/plain": [
       "<IPython.lib.display.IFrame at 0x1a9c3545400>"
      ]
     },
     "metadata": {},
     "output_type": "display_data"
    },
    {
     "name": "stdout",
     "output_type": "stream",
     "text": [
      "\u001b[1;31m\n",
      "2018/03/18：\n",
      "\u001b[0m\n"
     ]
    },
    {
     "data": {
      "text/html": [
       "\n",
       "        <iframe\n",
       "            width=\"1000\"\n",
       "            height=\"400\"\n",
       "            src=\"https://earth.nullschool.net/zh-cn/#2018/03/18/0000Z/wind/surface/level/orthographic=-242.74,31.02,3000/loc=-120.000,0.000\"\n",
       "            frameborder=\"0\"\n",
       "            allowfullscreen\n",
       "        ></iframe>\n",
       "        "
      ],
      "text/plain": [
       "<IPython.lib.display.IFrame at 0x1a9bc89a780>"
      ]
     },
     "metadata": {},
     "output_type": "display_data"
    },
    {
     "name": "stdout",
     "output_type": "stream",
     "text": [
      "\u001b[1;31m\n",
      "2018/03/19：\n",
      "\u001b[0m\n"
     ]
    },
    {
     "data": {
      "text/html": [
       "\n",
       "        <iframe\n",
       "            width=\"1000\"\n",
       "            height=\"400\"\n",
       "            src=\"https://earth.nullschool.net/zh-cn/#2018/03/19/0000Z/wind/surface/level/orthographic=-242.74,31.02,3000/loc=-120.000,0.000\"\n",
       "            frameborder=\"0\"\n",
       "            allowfullscreen\n",
       "        ></iframe>\n",
       "        "
      ],
      "text/plain": [
       "<IPython.lib.display.IFrame at 0x1a9bc89a780>"
      ]
     },
     "metadata": {},
     "output_type": "display_data"
    },
    {
     "name": "stdout",
     "output_type": "stream",
     "text": [
      "\u001b[1;31m\n",
      "2018/03/20：\n",
      "\u001b[0m\n"
     ]
    },
    {
     "data": {
      "text/html": [
       "\n",
       "        <iframe\n",
       "            width=\"1000\"\n",
       "            height=\"400\"\n",
       "            src=\"https://earth.nullschool.net/zh-cn/#2018/03/20/0000Z/wind/surface/level/orthographic=-242.74,31.02,3000/loc=-120.000,0.000\"\n",
       "            frameborder=\"0\"\n",
       "            allowfullscreen\n",
       "        ></iframe>\n",
       "        "
      ],
      "text/plain": [
       "<IPython.lib.display.IFrame at 0x1a9bc89a780>"
      ]
     },
     "metadata": {},
     "output_type": "display_data"
    },
    {
     "name": "stdout",
     "output_type": "stream",
     "text": [
      "\u001b[1;31m\n",
      "2018/03/21：\n",
      "\u001b[0m\n"
     ]
    },
    {
     "data": {
      "text/html": [
       "\n",
       "        <iframe\n",
       "            width=\"1000\"\n",
       "            height=\"400\"\n",
       "            src=\"https://earth.nullschool.net/zh-cn/#2018/03/21/0000Z/wind/surface/level/orthographic=-242.74,31.02,3000/loc=-120.000,0.000\"\n",
       "            frameborder=\"0\"\n",
       "            allowfullscreen\n",
       "        ></iframe>\n",
       "        "
      ],
      "text/plain": [
       "<IPython.lib.display.IFrame at 0x1a9bc89a780>"
      ]
     },
     "metadata": {},
     "output_type": "display_data"
    },
    {
     "name": "stdout",
     "output_type": "stream",
     "text": [
      "\u001b[1;31m\n",
      "2018/03/22：\n",
      "\u001b[0m\n"
     ]
    },
    {
     "data": {
      "text/html": [
       "\n",
       "        <iframe\n",
       "            width=\"1000\"\n",
       "            height=\"400\"\n",
       "            src=\"https://earth.nullschool.net/zh-cn/#2018/03/22/0000Z/wind/surface/level/orthographic=-242.74,31.02,3000/loc=-120.000,0.000\"\n",
       "            frameborder=\"0\"\n",
       "            allowfullscreen\n",
       "        ></iframe>\n",
       "        "
      ],
      "text/plain": [
       "<IPython.lib.display.IFrame at 0x1a9bc89a780>"
      ]
     },
     "metadata": {},
     "output_type": "display_data"
    }
   ],
   "source": [
    "date_range = pd.date_range('2018/03/16', '2018/03/22')\n",
    "for date in date_range:\n",
    "    display_earth(date, orthographic)"
   ]
  },
  {
   "cell_type": "markdown",
   "metadata": {},
   "source": [
    "## ('2018/06/12', '2018/06/16')"
   ]
  },
  {
   "cell_type": "code",
   "execution_count": 14,
   "metadata": {},
   "outputs": [
    {
     "name": "stdout",
     "output_type": "stream",
     "text": [
      "\u001b[1;31m\n",
      "2018/06/12：\n",
      "\u001b[0m\n"
     ]
    },
    {
     "data": {
      "text/html": [
       "\n",
       "        <iframe\n",
       "            width=\"1000\"\n",
       "            height=\"400\"\n",
       "            src=\"https://earth.nullschool.net/zh-cn/#2018/06/12/0000Z/wind/surface/level/orthographic=-242.74,31.02,3000/loc=-120.000,0.000\"\n",
       "            frameborder=\"0\"\n",
       "            allowfullscreen\n",
       "        ></iframe>\n",
       "        "
      ],
      "text/plain": [
       "<IPython.lib.display.IFrame at 0x20e553d95c0>"
      ]
     },
     "metadata": {},
     "output_type": "display_data"
    },
    {
     "name": "stdout",
     "output_type": "stream",
     "text": [
      "\u001b[1;31m\n",
      "2018/06/13：\n",
      "\u001b[0m\n"
     ]
    },
    {
     "data": {
      "text/html": [
       "\n",
       "        <iframe\n",
       "            width=\"1000\"\n",
       "            height=\"400\"\n",
       "            src=\"https://earth.nullschool.net/zh-cn/#2018/06/13/0000Z/wind/surface/level/orthographic=-242.74,31.02,3000/loc=-120.000,0.000\"\n",
       "            frameborder=\"0\"\n",
       "            allowfullscreen\n",
       "        ></iframe>\n",
       "        "
      ],
      "text/plain": [
       "<IPython.lib.display.IFrame at 0x20e553d95c0>"
      ]
     },
     "metadata": {},
     "output_type": "display_data"
    },
    {
     "name": "stdout",
     "output_type": "stream",
     "text": [
      "\u001b[1;31m\n",
      "2018/06/14：\n",
      "\u001b[0m\n"
     ]
    },
    {
     "data": {
      "text/html": [
       "\n",
       "        <iframe\n",
       "            width=\"1000\"\n",
       "            height=\"400\"\n",
       "            src=\"https://earth.nullschool.net/zh-cn/#2018/06/14/0000Z/wind/surface/level/orthographic=-242.74,31.02,3000/loc=-120.000,0.000\"\n",
       "            frameborder=\"0\"\n",
       "            allowfullscreen\n",
       "        ></iframe>\n",
       "        "
      ],
      "text/plain": [
       "<IPython.lib.display.IFrame at 0x20e553d95c0>"
      ]
     },
     "metadata": {},
     "output_type": "display_data"
    },
    {
     "name": "stdout",
     "output_type": "stream",
     "text": [
      "\u001b[1;31m\n",
      "2018/06/15：\n",
      "\u001b[0m\n"
     ]
    },
    {
     "data": {
      "text/html": [
       "\n",
       "        <iframe\n",
       "            width=\"1000\"\n",
       "            height=\"400\"\n",
       "            src=\"https://earth.nullschool.net/zh-cn/#2018/06/15/0000Z/wind/surface/level/orthographic=-242.74,31.02,3000/loc=-120.000,0.000\"\n",
       "            frameborder=\"0\"\n",
       "            allowfullscreen\n",
       "        ></iframe>\n",
       "        "
      ],
      "text/plain": [
       "<IPython.lib.display.IFrame at 0x20e553d95c0>"
      ]
     },
     "metadata": {},
     "output_type": "display_data"
    },
    {
     "name": "stdout",
     "output_type": "stream",
     "text": [
      "\u001b[1;31m\n",
      "2018/06/16：\n",
      "\u001b[0m\n"
     ]
    },
    {
     "data": {
      "text/html": [
       "\n",
       "        <iframe\n",
       "            width=\"1000\"\n",
       "            height=\"400\"\n",
       "            src=\"https://earth.nullschool.net/zh-cn/#2018/06/16/0000Z/wind/surface/level/orthographic=-242.74,31.02,3000/loc=-120.000,0.000\"\n",
       "            frameborder=\"0\"\n",
       "            allowfullscreen\n",
       "        ></iframe>\n",
       "        "
      ],
      "text/plain": [
       "<IPython.lib.display.IFrame at 0x20e553d95c0>"
      ]
     },
     "metadata": {},
     "output_type": "display_data"
    },
    {
     "name": "stdout",
     "output_type": "stream",
     "text": [
      "\u001b[1;31m\n",
      "2018/06/17：\n",
      "\u001b[0m\n"
     ]
    },
    {
     "data": {
      "text/html": [
       "\n",
       "        <iframe\n",
       "            width=\"1000\"\n",
       "            height=\"400\"\n",
       "            src=\"https://earth.nullschool.net/zh-cn/#2018/06/17/0000Z/wind/surface/level/orthographic=-242.74,31.02,3000/loc=-120.000,0.000\"\n",
       "            frameborder=\"0\"\n",
       "            allowfullscreen\n",
       "        ></iframe>\n",
       "        "
      ],
      "text/plain": [
       "<IPython.lib.display.IFrame at 0x20e553d95c0>"
      ]
     },
     "metadata": {},
     "output_type": "display_data"
    },
    {
     "name": "stdout",
     "output_type": "stream",
     "text": [
      "\u001b[1;31m\n",
      "2018/06/18：\n",
      "\u001b[0m\n"
     ]
    },
    {
     "data": {
      "text/html": [
       "\n",
       "        <iframe\n",
       "            width=\"1000\"\n",
       "            height=\"400\"\n",
       "            src=\"https://earth.nullschool.net/zh-cn/#2018/06/18/0000Z/wind/surface/level/orthographic=-242.74,31.02,3000/loc=-120.000,0.000\"\n",
       "            frameborder=\"0\"\n",
       "            allowfullscreen\n",
       "        ></iframe>\n",
       "        "
      ],
      "text/plain": [
       "<IPython.lib.display.IFrame at 0x20e553d95c0>"
      ]
     },
     "metadata": {},
     "output_type": "display_data"
    },
    {
     "name": "stdout",
     "output_type": "stream",
     "text": [
      "\u001b[1;31m\n",
      "2018/06/19：\n",
      "\u001b[0m\n"
     ]
    },
    {
     "data": {
      "text/html": [
       "\n",
       "        <iframe\n",
       "            width=\"1000\"\n",
       "            height=\"400\"\n",
       "            src=\"https://earth.nullschool.net/zh-cn/#2018/06/19/0000Z/wind/surface/level/orthographic=-242.74,31.02,3000/loc=-120.000,0.000\"\n",
       "            frameborder=\"0\"\n",
       "            allowfullscreen\n",
       "        ></iframe>\n",
       "        "
      ],
      "text/plain": [
       "<IPython.lib.display.IFrame at 0x20e553d95c0>"
      ]
     },
     "metadata": {},
     "output_type": "display_data"
    }
   ],
   "source": [
    "date_range = pd.date_range('2018/06/12', '2018/06/19')\n",
    "for date in date_range:\n",
    "    display_earth(date, orthographic)"
   ]
  },
  {
   "cell_type": "markdown",
   "metadata": {},
   "source": [
    "## ('2018/06/12', '2018/06/16')"
   ]
  },
  {
   "cell_type": "code",
   "execution_count": 15,
   "metadata": {},
   "outputs": [
    {
     "name": "stdout",
     "output_type": "stream",
     "text": [
      "\u001b[1;31m\n",
      "2018/06/12：\n",
      "\u001b[0m\n"
     ]
    },
    {
     "data": {
      "text/html": [
       "\n",
       "        <iframe\n",
       "            width=\"1000\"\n",
       "            height=\"400\"\n",
       "            src=\"https://earth.nullschool.net/zh-cn/#2018/06/12/0000Z/wind/surface/level/orthographic=-242.74,31.02,3000/loc=-120.000,0.000\"\n",
       "            frameborder=\"0\"\n",
       "            allowfullscreen\n",
       "        ></iframe>\n",
       "        "
      ],
      "text/plain": [
       "<IPython.lib.display.IFrame at 0x20e5598ae80>"
      ]
     },
     "metadata": {},
     "output_type": "display_data"
    },
    {
     "name": "stdout",
     "output_type": "stream",
     "text": [
      "\u001b[1;31m\n",
      "2018/06/13：\n",
      "\u001b[0m\n"
     ]
    },
    {
     "data": {
      "text/html": [
       "\n",
       "        <iframe\n",
       "            width=\"1000\"\n",
       "            height=\"400\"\n",
       "            src=\"https://earth.nullschool.net/zh-cn/#2018/06/13/0000Z/wind/surface/level/orthographic=-242.74,31.02,3000/loc=-120.000,0.000\"\n",
       "            frameborder=\"0\"\n",
       "            allowfullscreen\n",
       "        ></iframe>\n",
       "        "
      ],
      "text/plain": [
       "<IPython.lib.display.IFrame at 0x20e5598ae80>"
      ]
     },
     "metadata": {},
     "output_type": "display_data"
    },
    {
     "name": "stdout",
     "output_type": "stream",
     "text": [
      "\u001b[1;31m\n",
      "2018/06/14：\n",
      "\u001b[0m\n"
     ]
    },
    {
     "data": {
      "text/html": [
       "\n",
       "        <iframe\n",
       "            width=\"1000\"\n",
       "            height=\"400\"\n",
       "            src=\"https://earth.nullschool.net/zh-cn/#2018/06/14/0000Z/wind/surface/level/orthographic=-242.74,31.02,3000/loc=-120.000,0.000\"\n",
       "            frameborder=\"0\"\n",
       "            allowfullscreen\n",
       "        ></iframe>\n",
       "        "
      ],
      "text/plain": [
       "<IPython.lib.display.IFrame at 0x20e5598ae80>"
      ]
     },
     "metadata": {},
     "output_type": "display_data"
    },
    {
     "name": "stdout",
     "output_type": "stream",
     "text": [
      "\u001b[1;31m\n",
      "2018/06/15：\n",
      "\u001b[0m\n"
     ]
    },
    {
     "data": {
      "text/html": [
       "\n",
       "        <iframe\n",
       "            width=\"1000\"\n",
       "            height=\"400\"\n",
       "            src=\"https://earth.nullschool.net/zh-cn/#2018/06/15/0000Z/wind/surface/level/orthographic=-242.74,31.02,3000/loc=-120.000,0.000\"\n",
       "            frameborder=\"0\"\n",
       "            allowfullscreen\n",
       "        ></iframe>\n",
       "        "
      ],
      "text/plain": [
       "<IPython.lib.display.IFrame at 0x20e5598ab70>"
      ]
     },
     "metadata": {},
     "output_type": "display_data"
    },
    {
     "name": "stdout",
     "output_type": "stream",
     "text": [
      "\u001b[1;31m\n",
      "2018/06/16：\n",
      "\u001b[0m\n"
     ]
    },
    {
     "data": {
      "text/html": [
       "\n",
       "        <iframe\n",
       "            width=\"1000\"\n",
       "            height=\"400\"\n",
       "            src=\"https://earth.nullschool.net/zh-cn/#2018/06/16/0000Z/wind/surface/level/orthographic=-242.74,31.02,3000/loc=-120.000,0.000\"\n",
       "            frameborder=\"0\"\n",
       "            allowfullscreen\n",
       "        ></iframe>\n",
       "        "
      ],
      "text/plain": [
       "<IPython.lib.display.IFrame at 0x20e55968b38>"
      ]
     },
     "metadata": {},
     "output_type": "display_data"
    },
    {
     "name": "stdout",
     "output_type": "stream",
     "text": [
      "\u001b[1;31m\n",
      "2018/06/17：\n",
      "\u001b[0m\n"
     ]
    },
    {
     "data": {
      "text/html": [
       "\n",
       "        <iframe\n",
       "            width=\"1000\"\n",
       "            height=\"400\"\n",
       "            src=\"https://earth.nullschool.net/zh-cn/#2018/06/17/0000Z/wind/surface/level/orthographic=-242.74,31.02,3000/loc=-120.000,0.000\"\n",
       "            frameborder=\"0\"\n",
       "            allowfullscreen\n",
       "        ></iframe>\n",
       "        "
      ],
      "text/plain": [
       "<IPython.lib.display.IFrame at 0x20e55968b38>"
      ]
     },
     "metadata": {},
     "output_type": "display_data"
    },
    {
     "name": "stdout",
     "output_type": "stream",
     "text": [
      "\u001b[1;31m\n",
      "2018/06/18：\n",
      "\u001b[0m\n"
     ]
    },
    {
     "data": {
      "text/html": [
       "\n",
       "        <iframe\n",
       "            width=\"1000\"\n",
       "            height=\"400\"\n",
       "            src=\"https://earth.nullschool.net/zh-cn/#2018/06/18/0000Z/wind/surface/level/orthographic=-242.74,31.02,3000/loc=-120.000,0.000\"\n",
       "            frameborder=\"0\"\n",
       "            allowfullscreen\n",
       "        ></iframe>\n",
       "        "
      ],
      "text/plain": [
       "<IPython.lib.display.IFrame at 0x20e55968b38>"
      ]
     },
     "metadata": {},
     "output_type": "display_data"
    },
    {
     "name": "stdout",
     "output_type": "stream",
     "text": [
      "\u001b[1;31m\n",
      "2018/06/19：\n",
      "\u001b[0m\n"
     ]
    },
    {
     "data": {
      "text/html": [
       "\n",
       "        <iframe\n",
       "            width=\"1000\"\n",
       "            height=\"400\"\n",
       "            src=\"https://earth.nullschool.net/zh-cn/#2018/06/19/0000Z/wind/surface/level/orthographic=-242.74,31.02,3000/loc=-120.000,0.000\"\n",
       "            frameborder=\"0\"\n",
       "            allowfullscreen\n",
       "        ></iframe>\n",
       "        "
      ],
      "text/plain": [
       "<IPython.lib.display.IFrame at 0x20e55968b38>"
      ]
     },
     "metadata": {},
     "output_type": "display_data"
    }
   ],
   "source": [
    "date_range = pd.date_range('2018/06/12', '2018/06/19')\n",
    "for date in date_range:\n",
    "    display_earth(date, orthographic)"
   ]
  },
  {
   "cell_type": "markdown",
   "metadata": {},
   "source": [
    "## ('2018/09/24', '2018/09/30')"
   ]
  },
  {
   "cell_type": "code",
   "execution_count": 16,
   "metadata": {},
   "outputs": [
    {
     "name": "stdout",
     "output_type": "stream",
     "text": [
      "\u001b[1;31m\n",
      "2018/09/24：\n",
      "\u001b[0m\n"
     ]
    },
    {
     "data": {
      "text/html": [
       "\n",
       "        <iframe\n",
       "            width=\"1000\"\n",
       "            height=\"400\"\n",
       "            src=\"https://earth.nullschool.net/zh-cn/#2018/09/24/0000Z/wind/surface/level/orthographic=-242.74,31.02,3000/loc=-120.000,0.000\"\n",
       "            frameborder=\"0\"\n",
       "            allowfullscreen\n",
       "        ></iframe>\n",
       "        "
      ],
      "text/plain": [
       "<IPython.lib.display.IFrame at 0x20e553d9a58>"
      ]
     },
     "metadata": {},
     "output_type": "display_data"
    },
    {
     "name": "stdout",
     "output_type": "stream",
     "text": [
      "\u001b[1;31m\n",
      "2018/09/25：\n",
      "\u001b[0m\n"
     ]
    },
    {
     "data": {
      "text/html": [
       "\n",
       "        <iframe\n",
       "            width=\"1000\"\n",
       "            height=\"400\"\n",
       "            src=\"https://earth.nullschool.net/zh-cn/#2018/09/25/0000Z/wind/surface/level/orthographic=-242.74,31.02,3000/loc=-120.000,0.000\"\n",
       "            frameborder=\"0\"\n",
       "            allowfullscreen\n",
       "        ></iframe>\n",
       "        "
      ],
      "text/plain": [
       "<IPython.lib.display.IFrame at 0x20e553d9a58>"
      ]
     },
     "metadata": {},
     "output_type": "display_data"
    },
    {
     "name": "stdout",
     "output_type": "stream",
     "text": [
      "\u001b[1;31m\n",
      "2018/09/26：\n",
      "\u001b[0m\n"
     ]
    },
    {
     "data": {
      "text/html": [
       "\n",
       "        <iframe\n",
       "            width=\"1000\"\n",
       "            height=\"400\"\n",
       "            src=\"https://earth.nullschool.net/zh-cn/#2018/09/26/0000Z/wind/surface/level/orthographic=-242.74,31.02,3000/loc=-120.000,0.000\"\n",
       "            frameborder=\"0\"\n",
       "            allowfullscreen\n",
       "        ></iframe>\n",
       "        "
      ],
      "text/plain": [
       "<IPython.lib.display.IFrame at 0x20e553d9a58>"
      ]
     },
     "metadata": {},
     "output_type": "display_data"
    },
    {
     "name": "stdout",
     "output_type": "stream",
     "text": [
      "\u001b[1;31m\n",
      "2018/09/27：\n",
      "\u001b[0m\n"
     ]
    },
    {
     "data": {
      "text/html": [
       "\n",
       "        <iframe\n",
       "            width=\"1000\"\n",
       "            height=\"400\"\n",
       "            src=\"https://earth.nullschool.net/zh-cn/#2018/09/27/0000Z/wind/surface/level/orthographic=-242.74,31.02,3000/loc=-120.000,0.000\"\n",
       "            frameborder=\"0\"\n",
       "            allowfullscreen\n",
       "        ></iframe>\n",
       "        "
      ],
      "text/plain": [
       "<IPython.lib.display.IFrame at 0x20e553d9a58>"
      ]
     },
     "metadata": {},
     "output_type": "display_data"
    },
    {
     "name": "stdout",
     "output_type": "stream",
     "text": [
      "\u001b[1;31m\n",
      "2018/09/28：\n",
      "\u001b[0m\n"
     ]
    },
    {
     "data": {
      "text/html": [
       "\n",
       "        <iframe\n",
       "            width=\"1000\"\n",
       "            height=\"400\"\n",
       "            src=\"https://earth.nullschool.net/zh-cn/#2018/09/28/0000Z/wind/surface/level/orthographic=-242.74,31.02,3000/loc=-120.000,0.000\"\n",
       "            frameborder=\"0\"\n",
       "            allowfullscreen\n",
       "        ></iframe>\n",
       "        "
      ],
      "text/plain": [
       "<IPython.lib.display.IFrame at 0x20e553d9a58>"
      ]
     },
     "metadata": {},
     "output_type": "display_data"
    },
    {
     "name": "stdout",
     "output_type": "stream",
     "text": [
      "\u001b[1;31m\n",
      "2018/09/29：\n",
      "\u001b[0m\n"
     ]
    },
    {
     "data": {
      "text/html": [
       "\n",
       "        <iframe\n",
       "            width=\"1000\"\n",
       "            height=\"400\"\n",
       "            src=\"https://earth.nullschool.net/zh-cn/#2018/09/29/0000Z/wind/surface/level/orthographic=-242.74,31.02,3000/loc=-120.000,0.000\"\n",
       "            frameborder=\"0\"\n",
       "            allowfullscreen\n",
       "        ></iframe>\n",
       "        "
      ],
      "text/plain": [
       "<IPython.lib.display.IFrame at 0x20e5596ae48>"
      ]
     },
     "metadata": {},
     "output_type": "display_data"
    },
    {
     "name": "stdout",
     "output_type": "stream",
     "text": [
      "\u001b[1;31m\n",
      "2018/09/30：\n",
      "\u001b[0m\n"
     ]
    },
    {
     "data": {
      "text/html": [
       "\n",
       "        <iframe\n",
       "            width=\"1000\"\n",
       "            height=\"400\"\n",
       "            src=\"https://earth.nullschool.net/zh-cn/#2018/09/30/0000Z/wind/surface/level/orthographic=-242.74,31.02,3000/loc=-120.000,0.000\"\n",
       "            frameborder=\"0\"\n",
       "            allowfullscreen\n",
       "        ></iframe>\n",
       "        "
      ],
      "text/plain": [
       "<IPython.lib.display.IFrame at 0x20e553d9a58>"
      ]
     },
     "metadata": {},
     "output_type": "display_data"
    }
   ],
   "source": [
    "date_range = pd.date_range('2018/09/24', '2018/09/30')\n",
    "for date in date_range:\n",
    "    display_earth(date, orthographic)"
   ]
  },
  {
   "cell_type": "markdown",
   "metadata": {},
   "source": [
    "## ('2018/09/24', '2018/09/30')"
   ]
  },
  {
   "cell_type": "code",
   "execution_count": 19,
   "metadata": {},
   "outputs": [
    {
     "name": "stdout",
     "output_type": "stream",
     "text": [
      "\u001b[1;31m\n",
      "2018/09/24：\n",
      "\u001b[0m\n"
     ]
    },
    {
     "data": {
      "text/html": [
       "\n",
       "        <iframe\n",
       "            width=\"1000\"\n",
       "            height=\"400\"\n",
       "            src=\"https://earth.nullschool.net/zh-cn/#2018/09/24/0000Z/wind/surface/level/orthographic=-242.74,31.02,3000/loc=-120.000,0.000\"\n",
       "            frameborder=\"0\"\n",
       "            allowfullscreen\n",
       "        ></iframe>\n",
       "        "
      ],
      "text/plain": [
       "<IPython.lib.display.IFrame at 0x20e559e7eb8>"
      ]
     },
     "metadata": {},
     "output_type": "display_data"
    },
    {
     "name": "stdout",
     "output_type": "stream",
     "text": [
      "\u001b[1;31m\n",
      "2018/09/25：\n",
      "\u001b[0m\n"
     ]
    },
    {
     "data": {
      "text/html": [
       "\n",
       "        <iframe\n",
       "            width=\"1000\"\n",
       "            height=\"400\"\n",
       "            src=\"https://earth.nullschool.net/zh-cn/#2018/09/25/0000Z/wind/surface/level/orthographic=-242.74,31.02,3000/loc=-120.000,0.000\"\n",
       "            frameborder=\"0\"\n",
       "            allowfullscreen\n",
       "        ></iframe>\n",
       "        "
      ],
      "text/plain": [
       "<IPython.lib.display.IFrame at 0x20e559e7e10>"
      ]
     },
     "metadata": {},
     "output_type": "display_data"
    },
    {
     "name": "stdout",
     "output_type": "stream",
     "text": [
      "\u001b[1;31m\n",
      "2018/09/26：\n",
      "\u001b[0m\n"
     ]
    },
    {
     "data": {
      "text/html": [
       "\n",
       "        <iframe\n",
       "            width=\"1000\"\n",
       "            height=\"400\"\n",
       "            src=\"https://earth.nullschool.net/zh-cn/#2018/09/26/0000Z/wind/surface/level/orthographic=-242.74,31.02,3000/loc=-120.000,0.000\"\n",
       "            frameborder=\"0\"\n",
       "            allowfullscreen\n",
       "        ></iframe>\n",
       "        "
      ],
      "text/plain": [
       "<IPython.lib.display.IFrame at 0x20e559e7e10>"
      ]
     },
     "metadata": {},
     "output_type": "display_data"
    },
    {
     "name": "stdout",
     "output_type": "stream",
     "text": [
      "\u001b[1;31m\n",
      "2018/09/27：\n",
      "\u001b[0m\n"
     ]
    },
    {
     "data": {
      "text/html": [
       "\n",
       "        <iframe\n",
       "            width=\"1000\"\n",
       "            height=\"400\"\n",
       "            src=\"https://earth.nullschool.net/zh-cn/#2018/09/27/0000Z/wind/surface/level/orthographic=-242.74,31.02,3000/loc=-120.000,0.000\"\n",
       "            frameborder=\"0\"\n",
       "            allowfullscreen\n",
       "        ></iframe>\n",
       "        "
      ],
      "text/plain": [
       "<IPython.lib.display.IFrame at 0x20e559e7e10>"
      ]
     },
     "metadata": {},
     "output_type": "display_data"
    },
    {
     "name": "stdout",
     "output_type": "stream",
     "text": [
      "\u001b[1;31m\n",
      "2018/09/28：\n",
      "\u001b[0m\n"
     ]
    },
    {
     "data": {
      "text/html": [
       "\n",
       "        <iframe\n",
       "            width=\"1000\"\n",
       "            height=\"400\"\n",
       "            src=\"https://earth.nullschool.net/zh-cn/#2018/09/28/0000Z/wind/surface/level/orthographic=-242.74,31.02,3000/loc=-120.000,0.000\"\n",
       "            frameborder=\"0\"\n",
       "            allowfullscreen\n",
       "        ></iframe>\n",
       "        "
      ],
      "text/plain": [
       "<IPython.lib.display.IFrame at 0x20e559e7e10>"
      ]
     },
     "metadata": {},
     "output_type": "display_data"
    },
    {
     "name": "stdout",
     "output_type": "stream",
     "text": [
      "\u001b[1;31m\n",
      "2018/09/29：\n",
      "\u001b[0m\n"
     ]
    },
    {
     "data": {
      "text/html": [
       "\n",
       "        <iframe\n",
       "            width=\"1000\"\n",
       "            height=\"400\"\n",
       "            src=\"https://earth.nullschool.net/zh-cn/#2018/09/29/0000Z/wind/surface/level/orthographic=-242.74,31.02,3000/loc=-120.000,0.000\"\n",
       "            frameborder=\"0\"\n",
       "            allowfullscreen\n",
       "        ></iframe>\n",
       "        "
      ],
      "text/plain": [
       "<IPython.lib.display.IFrame at 0x20e559e7e10>"
      ]
     },
     "metadata": {},
     "output_type": "display_data"
    },
    {
     "name": "stdout",
     "output_type": "stream",
     "text": [
      "\u001b[1;31m\n",
      "2018/09/30：\n",
      "\u001b[0m\n"
     ]
    },
    {
     "data": {
      "text/html": [
       "\n",
       "        <iframe\n",
       "            width=\"1000\"\n",
       "            height=\"400\"\n",
       "            src=\"https://earth.nullschool.net/zh-cn/#2018/09/30/0000Z/wind/surface/level/orthographic=-242.74,31.02,3000/loc=-120.000,0.000\"\n",
       "            frameborder=\"0\"\n",
       "            allowfullscreen\n",
       "        ></iframe>\n",
       "        "
      ],
      "text/plain": [
       "<IPython.lib.display.IFrame at 0x20e559e7e10>"
      ]
     },
     "metadata": {},
     "output_type": "display_data"
    }
   ],
   "source": [
    "date_range = pd.date_range('2018/09/24', '2018/09/30')\n",
    "for date in date_range:\n",
    "    display_earth(date, orthographic)"
   ]
  }
 ],
 "metadata": {
  "kernelspec": {
   "display_name": "Python [conda env:HB]",
   "language": "python",
   "name": "conda-env-HB-py"
  },
  "language_info": {
   "codemirror_mode": {
    "name": "ipython",
    "version": 3
   },
   "file_extension": ".py",
   "mimetype": "text/x-python",
   "name": "python",
   "nbconvert_exporter": "python",
   "pygments_lexer": "ipython3",
   "version": "3.7.3"
  },
  "toc-autonumbering": true
 },
 "nbformat": 4,
 "nbformat_minor": 4
}
