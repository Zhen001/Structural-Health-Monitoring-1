{
 "cells": [
  {
   "cell_type": "code",
   "execution_count": 1,
   "metadata": {},
   "outputs": [],
   "source": [
    "import os\n",
    "import pickle\n",
    "import subprocess\n",
    "import numpy as np\n",
    "import pandas as pd\n",
    "import scipy.io as scio\n",
    "\n",
    "# 选择数据\n",
    "direction = 'South' # North、South\n",
    "\n",
    "# 框定时间范围\n",
    "start_time = pd.Timestamp('2011-08-06 13:00')\n",
    "end_time = pd.Timestamp('2011-08-07 05:10')  # 数据过饱和十分钟，画图时只用到5:00"
   ]
  },
  {
   "cell_type": "code",
   "execution_count": 2,
   "metadata": {},
   "outputs": [],
   "source": [
    "acc = pd.DataFrame([])\n",
    "for ii in [1, 2, 3]:\n",
    "    file_input = r'E:\\【论文】\\【小论文】\\航博\\航博数据\\accelerate\\%s\\原始数据\\第一步提取：matlab\\acc%d.mat' % (direction,ii)\n",
    "    data = scio.loadmat(file_input)\n",
    "    temp = pd.DataFrame(data['acc'])\n",
    "    temp.index = pd.to_datetime(data['timestamp'], unit='ns')\n",
    "    temp = temp[start_time:end_time]\n",
    "    acc = pd.concat([acc,temp])\n",
    "    del data, temp\n",
    "with open(r'E:/【论文】/【小论文】/航博/航博数据/accelerate/%s/原始数据/第二步提取：python/acc.pkl'%direction, 'wb') as f:\n",
    "    pickle.dump(acc, f)"
   ]
  }
 ],
 "metadata": {
  "hide_input": false,
  "kernelspec": {
   "display_name": "Python [conda env:HB]",
   "language": "python",
   "name": "conda-env-HB-py"
  },
  "language_info": {
   "codemirror_mode": {
    "name": "ipython",
    "version": 3
   },
   "file_extension": ".py",
   "mimetype": "text/x-python",
   "name": "python",
   "nbconvert_exporter": "python",
   "pygments_lexer": "ipython3",
   "version": "3.7.3"
  },
  "toc": {
   "base_numbering": 1,
   "nav_menu": {},
   "number_sections": true,
   "sideBar": true,
   "skip_h1_title": false,
   "title_cell": "Table of Contents",
   "title_sidebar": "Contents",
   "toc_cell": false,
   "toc_position": {},
   "toc_section_display": true,
   "toc_window_display": false
  },
  "varInspector": {
   "cols": {
    "lenName": 16,
    "lenType": 16,
    "lenVar": 40
   },
   "kernels_config": {
    "python": {
     "delete_cmd_postfix": "",
     "delete_cmd_prefix": "del ",
     "library": "var_list.py",
     "varRefreshCmd": "print(var_dic_list())"
    },
    "r": {
     "delete_cmd_postfix": ") ",
     "delete_cmd_prefix": "rm(",
     "library": "var_list.r",
     "varRefreshCmd": "cat(var_dic_list()) "
    }
   },
   "position": {
    "height": "429.5px",
    "left": "1010px",
    "right": "20px",
    "top": "85px",
    "width": "363px"
   },
   "types_to_exclude": [
    "module",
    "function",
    "builtin_function_or_method",
    "instance",
    "_Feature"
   ],
   "window_display": false
  }
 },
 "nbformat": 4,
 "nbformat_minor": 2
}
