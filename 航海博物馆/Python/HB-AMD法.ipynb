{
 "cells": [
  {
   "cell_type": "markdown",
   "metadata": {
    "colab_type": "text",
    "id": "IQ7IwouCF0MQ"
   },
   "source": [
    "# 参数设定"
   ]
  },
  {
   "cell_type": "code",
   "execution_count": 1,
   "metadata": {
    "ExecuteTime": {
     "start_time": "2019-05-11T17:40:41.473Z"
    },
    "colab": {},
    "colab_type": "code",
    "id": "B_JjPHi_Fx9S",
    "run_control": {
     "marked": true
    }
   },
   "outputs": [],
   "source": [
    "import os\n",
    "import numpy as np\n",
    "import pandas as pd\n",
    "from scipy import stats\n",
    "import matplotlib.pyplot as plt\n",
    "\n",
    "Fs = 10 # 采样频率\n",
    "interval = 10  # 时程10分钟\n",
    "interval_gust = 3  # 阵风持续时间3秒\n",
    "start_time_main = '2011-08-06 13:00'\n",
    "end_time_main = '2011-08-07 05:10' # 数据过饱和十分钟，画图时只用到5:00\n",
    "\n",
    "original_data_path = 'E:/【论文】/【小论文】/航博/航博数据/Wind/TJHBG-E.csv' # 原始数据\n",
    "pkl_path = 'E:/【论文】/【小论文】/航博/航博数据/Wind/Wind(East)(AMD)/' # pkl保存位置\n",
    "if not os.path.exists(pkl_path): os.makedirs(pkl_path)\n",
    "\n",
    "# 如果已经存在会话，就不必新开一个\n",
    "import matlab.engine\n",
    "engine_list = matlab.engine.find_matlab()\n",
    "if len(engine_list):\n",
    "    try:\n",
    "        engine = matlab.engine.connect_matlab(engine_list[-1])\n",
    "    except:\n",
    "        engine = matlab.engine.start_matlab()\n",
    "else:\n",
    "    engine = matlab.engine.start_matlab()"
   ]
  },
  {
   "cell_type": "markdown",
   "metadata": {
    "colab_type": "text",
    "id": "xnk_MfQF1CDK"
   },
   "source": [
    "# 计算"
   ]
  },
  {
   "cell_type": "code",
   "execution_count": 2,
   "metadata": {
    "ExecuteTime": {
     "start_time": "2019-05-11T17:40:41.481Z"
    },
    "code_folding": [],
    "colab": {},
    "colab_type": "code",
    "id": "BetREDN5B9je",
    "run_control": {
     "marked": false
    }
   },
   "outputs": [],
   "source": [
    "# 读取文件\n",
    "with open(original_data_path) as f:\n",
    "    data = pd.read_csv(f, index_col='Date', parse_dates=True) # 将Date作索引，并且使日期可解析\n",
    "\n",
    "# 更正日期索引并增加数字时间项'time2number'\n",
    "date = data.index; temp, new_date = date[0], [date[0]]\n",
    "for ii in range(1,len(data)):\n",
    "    if date[ii] == date[ii-1]:\n",
    "        temp += pd.Timedelta('0.1 seconds')\n",
    "    else:\n",
    "        temp = date[ii]\n",
    "    new_date.append(temp)\n",
    "data.index = new_date\n",
    "\n",
    "# 框定时间范围\n",
    "start_time = np.datetime64(start_time_main); end_time = np.datetime64(end_time_main)\n",
    "data = data[start_time: end_time]\n",
    "data['time2number'] = pd.to_numeric(data.index)/100000000\n",
    "data['time2number'] = data['time2number'] - data['time2number'][0]\n",
    "\n",
    "# 计算实时风速 ux,uy,uz,uxy,uxyz\n",
    "data.rename(columns = {'A.3D Wind Speed u':'uxyz'}, inplace = True); data = data[['time2number', 'uxyz', 'Offset','Schedule','A.Azimuth','A.Elevation','A.Sonic Temp']]\n",
    "data['uxy'] = data['uxyz'] * np.cos(np.deg2rad(data['A.Elevation']))\n",
    "data['ux'] = data['uxyz'] * np.cos(np.deg2rad(data['A.Elevation'])) * np.sin(np.deg2rad(data['A.Azimuth']))\n",
    "data['uy'] = data['uxyz'] * np.cos(np.deg2rad(data['A.Elevation'])) * np.cos(np.deg2rad(data['A.Azimuth']))\n",
    "data['uz'] = data['uxyz'] * np.sin(np.deg2rad(data['A.Elevation']))\n",
    "data = data.drop(['Offset','Schedule','A.Azimuth','A.Elevation','A.Sonic Temp'], axis=1) # 删除不需要的数据\n",
    "\n",
    "# 计算时变平均风速 ux_mean,uy_mean,uz_mean,uxy_mean,uxyz_mean（AMD_trend）\n",
    "time_series = data['time2number']\n",
    "w = float(5000/len(time_series)); # 1500或5000\n",
    "Fs = float(Fs); nbsym1 = float(10000); nbsym2 = float(10000); if_draw = float(0)\n",
    "engine.cd(r'E:\\【论文】\\【小论文】\\模态识别\\Matlab脚本\\Method_Functions\\Regression')\n",
    "for ii in ['uxyz', 'uxy', 'ux', 'uy', 'uz']:\n",
    "    speed = data[ii]\n",
    "    IMF = engine.AMD_trend_py(matlab.double(speed.tolist())[0], Fs, w, nbsym1, nbsym2, ii, if_draw)\n",
    "    exec('data[\"'+ii+'_mean\"] = list(IMF[0])')\n",
    "\n",
    "# 计算水平时变平均风向角Angle、竖向时变平均风向角Angle_z\n",
    "cos_theta = (data['uy_mean'] / data['uxy_mean'])\n",
    "sin_theta = (data['ux_mean'] / data['uxy_mean'])\n",
    "Angle = np.zeros(len(time_series))\n",
    "Angle[cos_theta>=0] = np.rad2deg(np.arcsin(sin_theta[cos_theta>=0]))\n",
    "Angle[cos_theta<0] = 180 - np.rad2deg(np.arcsin(sin_theta[cos_theta<0]))\n",
    "Angle[Angle<0] = Angle[Angle<0] + 360\n",
    "Angle_z = np.rad2deg(np.arcsin(data['uz_mean'] / data['uxyz_mean']))\n",
    "data['Angle'] = Angle; data['Angle_z'] = Angle_z\n",
    "\n",
    "# 计算顺风向脉动风速u，横风向脉动风速v，竖向脉动风速w\n",
    "data['u'] = data['ux'] * np.sin(np.deg2rad(data['Angle'])) + data['uy'] * np.cos(np.deg2rad(data['Angle'])) - data['uxy_mean']\n",
    "data['v'] = data['ux'] * np.cos(np.deg2rad(data['Angle'])) - data['uy'] * np.sin(np.deg2rad(data['Angle']))\n",
    "data['w'] = data['uz'] - data['uz_mean']\n",
    "\n",
    "# 计算湍流度 Turbulence intensity\n",
    "turbulence_intensity = pd.DataFrame([])\n",
    "uxy_mean_temp = data['uxy_mean'].resample('%dT'%interval).mean()\n",
    "turbulence_intensity['turbulence_intensity_u'] = data['u'].resample('%dT'%interval).std()/uxy_mean_temp\n",
    "turbulence_intensity['turbulence_intensity_v'] = data['v'].resample('%dT'%interval).std()/uxy_mean_temp\n",
    "turbulence_intensity['turbulence_intensity_w'] = data['w'].resample('%dT'%interval).std()/uxy_mean_temp\n",
    "\n",
    "# 计算偏度系数 Skewness\n",
    "Skewness = pd.DataFrame([])\n",
    "Skewness['Skewness_u'] = data['u'].resample('%dT'%interval).apply(lambda x: stats.skew(x))\n",
    "Skewness['Skewness_v'] = data['v'].resample('%dT'%interval).apply(lambda x: stats.skew(x))\n",
    "Skewness['Skewness_w'] = data['w'].resample('%dT'%interval).apply(lambda x: stats.skew(x))\n",
    "\n",
    "# 计算峰度系数 Kurtosis\n",
    "Kurtosis = pd.DataFrame([])\n",
    "Kurtosis['Kurtosis_u'] = data['u'].resample('%dT'%interval).apply(lambda x: stats.kurtosis(x,fisher=False))\n",
    "Kurtosis['Kurtosis_v'] = data['v'].resample('%dT'%interval).apply(lambda x: stats.kurtosis(x,fisher=False))\n",
    "Kurtosis['Kurtosis_w'] = data['w'].resample('%dT'%interval).apply(lambda x: stats.kurtosis(x,fisher=False))\n",
    "\n",
    "# 计算阵风因子 Gust factor\n",
    "gust_factor = pd.DataFrame([])\n",
    "gust_factor['gust_factor_u'] = 1 + data['u'].resample('%dT'%interval).apply(lambda x: x.resample('%dS'%interval_gust).mean().max())/data['uxy_mean'].resample('%dT'%interval).mean()\n",
    "gust_factor['gust_factor_v'] = data['v'].resample('%dT'%interval).apply(lambda x: x.resample('%dS'%interval_gust).mean().max())/data['uxy_mean'].resample('%dT'%interval).mean()\n",
    "gust_factor['gust_factor_w'] = data['w'].resample('%dT'%interval).apply(lambda x: x.resample('%dS'%interval_gust).mean().max())/data['uxy_mean'].resample('%dT'%interval).mean()\n",
    "\n",
    "# 计算湍流积分尺度 Turbulence integral scale\n",
    "engine.cd(r'E:\\【论文】\\【小论文】\\模态识别\\Matlab脚本\\Method_Functions\\Wind')\n",
    "def calculate_turbulence_integral_scale(x,Fs,U,method='DirectInt'):\n",
    "    turbulence_integral_scale = engine.turbulence_integral_scale_py(matlab.double(x.tolist())[0],float(Fs),float(U),method)\n",
    "    return turbulence_integral_scale\n",
    "turbulence_integral_scale = pd.DataFrame([])\n",
    "temp = data[['u','v','w','uxy_mean']]\n",
    "turbulence_integral_scale['turbulence_integral_scale_u'] = temp.resample('%dT'%interval).apply(lambda x : calculate_turbulence_integral_scale(x['u'],Fs,x['uxy_mean'].mean()))\n",
    "turbulence_integral_scale['turbulence_integral_scale_v'] = temp.resample('%dT'%interval).apply(lambda x : calculate_turbulence_integral_scale(x['v'],Fs,x['uxy_mean'].mean()))\n",
    "turbulence_integral_scale['turbulence_integral_scale_w'] = temp.resample('%dT'%interval).apply(lambda x : calculate_turbulence_integral_scale(x['w'],Fs,x['uxy_mean'].mean()))"
   ]
  },
  {
   "cell_type": "markdown",
   "metadata": {},
   "source": [
    "# 保存"
   ]
  },
  {
   "cell_type": "code",
   "execution_count": 15,
   "metadata": {},
   "outputs": [],
   "source": [
    "columns = pd.DataFrame({'turbulence_intensity':turbulence_intensity.keys(),'gust_factor':gust_factor.keys(),\n",
    "          'turbulence_integral_scale':turbulence_integral_scale.keys(),'Skewness':Skewness.keys(),'Kurtosis':Kurtosis.keys()})\n",
    "columns = pd.MultiIndex.from_frame(columns.melt(var_name='type', value_name='direction'))\n",
    "data1 = pd.concat([turbulence_intensity,gust_factor,turbulence_integral_scale,Skewness,Kurtosis],axis=1)\n",
    "data1.columns = columns\n",
    "data0 = data\n",
    "\n",
    "import pickle\n",
    "with open(pkl_path+'data0.pkl','wb') as f:\n",
    "    pickle.dump(data0, f)\n",
    "with open(pkl_path+'data1.pkl','wb') as f:\n",
    "    pickle.dump(data1, f)"
   ]
  }
 ],
 "metadata": {
  "colab": {
   "collapsed_sections": [],
   "name": "航博十分钟风速图.ipynb",
   "provenance": [],
   "version": "0.3.2"
  },
  "hide_input": false,
  "kernelspec": {
   "display_name": "Python [conda env:HB]",
   "language": "python",
   "name": "conda-env-HB-py"
  },
  "language_info": {
   "codemirror_mode": {
    "name": "ipython",
    "version": 3
   },
   "file_extension": ".py",
   "mimetype": "text/x-python",
   "name": "python",
   "nbconvert_exporter": "python",
   "pygments_lexer": "ipython3",
   "version": "3.7.3"
  },
  "toc": {
   "base_numbering": 1,
   "nav_menu": {
    "height": "343px",
    "width": "360px"
   },
   "number_sections": true,
   "sideBar": true,
   "skip_h1_title": false,
   "title_cell": "Table of Contents",
   "title_sidebar": "Contents",
   "toc_cell": false,
   "toc_position": {
    "height": "670.313px",
    "left": "416px",
    "top": "183px",
    "width": "172.766px"
   },
   "toc_section_display": true,
   "toc_window_display": true
  },
  "varInspector": {
   "cols": {
    "lenName": 16,
    "lenType": 16,
    "lenVar": 40
   },
   "kernels_config": {
    "python": {
     "delete_cmd_postfix": "",
     "delete_cmd_prefix": "del ",
     "library": "var_list.py",
     "varRefreshCmd": "print(var_dic_list())"
    },
    "r": {
     "delete_cmd_postfix": ") ",
     "delete_cmd_prefix": "rm(",
     "library": "var_list.r",
     "varRefreshCmd": "cat(var_dic_list()) "
    }
   },
   "types_to_exclude": [
    "module",
    "function",
    "builtin_function_or_method",
    "instance",
    "_Feature"
   ],
   "window_display": false
  }
 },
 "nbformat": 4,
 "nbformat_minor": 2
}
