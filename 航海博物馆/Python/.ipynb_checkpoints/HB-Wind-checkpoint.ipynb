{
 "cells": [
  {
   "cell_type": "markdown",
   "metadata": {},
   "source": [
    "# 参数设定"
   ]
  },
  {
   "cell_type": "code",
   "execution_count": null,
   "metadata": {},
   "outputs": [],
   "source": [
    "import os\n",
    "import pickle\n",
    "import subprocess\n",
    "import numpy as np\n",
    "import pandas as pd\n",
    "import altair as alt\n",
    "alt.data_transformers.enable('default', max_rows = None) # 避免警告数据量超过5000\n",
    "alt.renderers.enable('notebook')\n",
    "\n",
    "# 基本参数\n",
    "interval = 10 # 分钟\n",
    "method = 2  # 1：10分钟平均风 2：AMD时变平均风\n",
    "start_time = pd.Timestamp('2011-08-06 13:00'); end_time = pd.Timestamp('2011-08-07 05:00')\n",
    "\n",
    "# 数据文件位置\n",
    "if method == 2:\n",
    "    pkl_path = 'E:/【论文】/【小论文】/航博/航博数据/Wind/Wind(East)(AMD)/' # pkl保存位置\n",
    "if method == 1:\n",
    "    pkl_path = 'E:/【论文】/【小论文】/航博/航博数据/Wind/平均风速法(East)(AMD)/' # pkl保存位置\n",
    "\n",
    "# 图片保存位\n",
    "if method == 2:\n",
    "    picture_path0 = 'E:/【论文】/【小论文】/航博/Pictures/Wind(East)(AMD)/'\n",
    "if method == 1:\n",
    "    picture_path0 = 'E:/【论文】/【小论文】/航博/Pictures/平均风速法(East)(AMD)/'\n",
    "if not os.path.exists(picture_path0): os.makedirs(picture_path0)\n",
    "\n",
    "# 用inkscape来转换格式\n",
    "def convertPNGtoEPS(figname): \n",
    "    figname_1 = figname.replace('.png', '.eps')\n",
    "    cmd = 'inkscape -z %s -M %s' % (figname, figname_1)\n",
    "    result = [] # 储存cmd中结果\n",
    "    process = subprocess.Popen(cmd, shell=True, stdout=subprocess.PIPE, stderr=subprocess.PIPE)\n",
    "    for line in process.stdout:\n",
    "        result.append(line)\n",
    "    errcode = process.returncode \n",
    "    for line in result:\n",
    "        print(line)\n",
    "    if errcode is not None:\n",
    "        raise Exception('cmd %s failed, see above for details', cmd)\n",
    "\n",
    "# Function-判断变量是否已经加载\n",
    "def if_var_exists(var):\n",
    "    var_exists = var in locals() or var in globals()\n",
    "    return var_exists"
   ]
  },
  {
   "cell_type": "markdown",
   "metadata": {},
   "source": [
    "# 加载数据并启动Matlab"
   ]
  },
  {
   "cell_type": "code",
   "execution_count": null,
   "metadata": {},
   "outputs": [],
   "source": [
    "if not if_var_exists('data0'):\n",
    "    with open(pkl_path+'data0.pkl','rb') as f:\n",
    "        data0 = pickle.load(f)\n",
    "if not if_var_exists('data1'):\n",
    "    with open(pkl_path+'data1.pkl','rb') as f:\n",
    "        data1 = pickle.load(f)\n",
    "\n",
    "# 如果已经存在matlab会话，就不必新开一个\n",
    "import matlab.engine\n",
    "engine_list = matlab.engine.find_matlab()\n",
    "if len(engine_list):\n",
    "    try:\n",
    "        engine = matlab.engine.connect_matlab(engine_list[-1])\n",
    "    except:\n",
    "        engine = matlab.engine.start_matlab()\n",
    "else:\n",
    "    engine = matlab.engine.start_matlab()"
   ]
  },
  {
   "cell_type": "markdown",
   "metadata": {},
   "source": [
    "# Natural wind"
   ]
  },
  {
   "cell_type": "code",
   "execution_count": null,
   "metadata": {
    "run_control": {
     "marked": true
    },
    "scrolled": false
   },
   "outputs": [],
   "source": [
    "## 选定数据\n",
    "natrual_wind = data0[['uxy','uxy_mean']]\n",
    "natrual_wind1 = natrual_wind.resample('500ms').first()[start_time:end_time].reset_index()\n",
    "natrual_wind2 = natrual_wind.resample('3T').mean()[start_time:end_time].reset_index()\n",
    "## 绘制水平平均风速图\n",
    "title_name = 'Natural Wind Speed'\n",
    "natrual_wind1['name'] = 'Horizontal wind speed'\n",
    "natrual_wind2['name'] = 'Horizontal time-varying mean wind speed'\n",
    "chart1 = (alt.Chart(natrual_wind1, title='')\n",
    "          .mark_line(strokeWidth=1, strokeOpacity=0.9)\n",
    "          .encode(alt.X('index:T', title=None, axis=alt.Axis(format='%0H:%0M')),\n",
    "                  alt.Y('uxy:Q', title='Wind Speed (m/s)'), alt.Color('name'))\n",
    "        )\n",
    "chart2 = (alt.Chart(natrual_wind2)\n",
    "          .mark_line(strokeWidth=2.7)\n",
    "          .encode(alt.X('index:T', title=None, axis=alt.Axis(format='%0H:%0M')),\n",
    "                  alt.Y('uxy_mean:Q', scale=alt.Scale(domain=(-5,35))),\n",
    "                  alt.Color('name', scale=alt.Scale(range=('red','#4c77a8'))))\n",
    "         )\n",
    "chart = ((chart1 + chart2)\n",
    "         .configure_axis(titleFontSize=28, labelFontSize=22, labelFont='Times New Roman', titleFont='Times New Roman', domainColor='#000', tickColor='#000')\n",
    "         .configure_title(font='Times New Roman', fontSize=30)\n",
    "         .configure_legend(title=None, labelFont='Times New Roman',labelFontSize=22, labelFontWeight='bold',\n",
    "                           orient='top-left', symbolStrokeWidth=3, symbolSize=300,\n",
    "                           rowPadding=20, labelLimit=1000)\n",
    "         .properties(width=1300)\n",
    "          #.interactive(bind_x = False) # 交互性设置)\n",
    "        )\n",
    "chart.display()\n",
    "# picture_path1 = picture_path0 + title_name + '.png'\n",
    "# chart.save(picture_path1, scale_factor=10)"
   ]
  },
  {
   "cell_type": "markdown",
   "metadata": {
    "colab_type": "text",
    "id": "sfB6bMUEu76f"
   },
   "source": [
    "# Mean wind"
   ]
  },
  {
   "cell_type": "markdown",
   "metadata": {},
   "source": [
    "## Speed"
   ]
  },
  {
   "cell_type": "code",
   "execution_count": null,
   "metadata": {
    "ExecuteTime": {
     "start_time": "2019-05-11T17:40:41.484Z"
    },
    "colab": {},
    "colab_type": "code",
    "id": "MS-qF5_lzFhj"
   },
   "outputs": [],
   "source": [
    "## 选定数据\n",
    "interval = 10\n",
    "average_wind = data0[['uxy_mean','Angle']].resample('%fT'%interval).mean()[start_time:end_time]\n",
    "## 绘制水平平均风速图\n",
    "title_name = '%d-Minute Average Wind Speed' % interval\n",
    "chart = (alt.Chart(average_wind.reset_index(), title=title_name)\n",
    "         .mark_line(strokeWidth=2)\n",
    "         .encode(alt.X('index:T', title=None, axis=alt.Axis(format='%0H:%0M')),\n",
    "                 alt.Y('uxy_mean:Q', title='Wind Speed (m/s)', scale=alt.Scale(domain=(4,16))))\n",
    "         .configure_axis(titleFontSize=24, labelFontSize=18, labelFont='Times New Roman', titleFont='Times New Roman')\n",
    "         .configure_title(font='Times New Roman', fontSize=30)\n",
    "         .properties(width=1300)\n",
    "         #.interactive(bind_x = False) # 交互性设置\n",
    "        )\n",
    "chart.display()\n",
    "# picture_path1 = picture_path0 + title_name + '.png'\n",
    "# chart.save(picture_path1, scale_factor=10)"
   ]
  },
  {
   "cell_type": "markdown",
   "metadata": {},
   "source": [
    "## Direction"
   ]
  },
  {
   "cell_type": "code",
   "execution_count": null,
   "metadata": {
    "ExecuteTime": {
     "start_time": "2019-05-11T17:40:41.484Z"
    },
    "colab": {},
    "colab_type": "code",
    "id": "MS-qF5_lzFhj"
   },
   "outputs": [],
   "source": [
    "## 选定数据\n",
    "average_wind = data0[['uxy_mean','Angle']].resample('%fT'%interval).mean()\n",
    "## 绘制水平平均风向角\n",
    "title_name = '%d-Minute Average Wind Direction' % interval\n",
    "chart = (alt.Chart(average_wind.reset_index(), title=title_name)\n",
    "         .mark_line(strokeWidth=2, clip=True)\n",
    "         .encode(alt.X('index:T', title=None, axis=alt.Axis(format='%0H:%0M')),\n",
    "                 alt.Y('Angle:Q', title='Wind Direction', scale=alt.Scale(domain=(0,360))))\n",
    "         .configure_axis(titleFontSize=24, labelFontSize=18, labelFont='Times New Roman', titleFont='Times New Roman')\n",
    "         .configure_title(font='Times New Roman', fontSize=30)\n",
    "         .properties(width=1300)\n",
    "         #.interactive(bind_x = False) # 交互性设置\n",
    "        )\n",
    "chart.display()\n",
    "# picture_path1 = picture_path0 + title_name + '.png'\n",
    "# chart.save(picture_path1, scale_factor=10)"
   ]
  },
  {
   "cell_type": "markdown",
   "metadata": {},
   "source": [
    "## 玫瑰图"
   ]
  },
  {
   "cell_type": "markdown",
   "metadata": {},
   "source": [
    "### Matlab"
   ]
  },
  {
   "cell_type": "code",
   "execution_count": null,
   "metadata": {},
   "outputs": [],
   "source": [
    "## 选定数据\n",
    "title_name = 'Wind Rose of Average Wind'\n",
    "average_wind = data0[['uxy_mean','Angle']].resample('10T').first()[start_time:end_time]\n",
    "\n",
    "# 计算参数\n",
    "name_U = 'U (m/s)'\n",
    "name_Z = 'Time (10min)'\n",
    "scatter_colormap = 'mycolormap' # 选择颜色图 mycolormap、parula(200)、jet(200)、hsv(200)、gray(200)、lines(5)\n",
    "scatter_size = float(60)  # 点大小\n",
    "scatter_LineWidth = float(1) # 点轮廓粗细\n",
    "scatter_MarkerFaceAlpha = float(0.5) # 面透明度\n",
    "scatter_MarkerEdgeAlpha = float(1) # 线透明度\n",
    "picture_path = picture_path0 + title_name # 若为空，则不保存图片，否则保存成emf文件，注意，picture_path不必给出后缀\n",
    "picture_path = ''\n",
    "\n",
    "# matlab计算 传入多列数据\n",
    "engine.cd(r'E:\\【论文】\\【小论文】\\模态识别\\Matlab脚本\\Method_Functions\\Wind')\n",
    "engine.plot_ScatterWindRose_py(matlab.double(np.array(average_wind['Angle'].T).tolist()),\n",
    "       matlab.double(np.array(average_wind['uxy_mean'].T).tolist()),\n",
    "       matlab.double(list(range(len(average_wind)))),\n",
    "       name_U,name_Z,scatter_colormap,scatter_size,scatter_LineWidth,scatter_MarkerFaceAlpha,scatter_MarkerEdgeAlpha,picture_path,nargout=0)"
   ]
  },
  {
   "cell_type": "markdown",
   "metadata": {},
   "source": [
    "### Plotly"
   ]
  },
  {
   "cell_type": "code",
   "execution_count": null,
   "metadata": {
    "scrolled": false
   },
   "outputs": [],
   "source": [
    "import plotly.express as px\n",
    "labels = ['N','NNE','NE','ENE','E','ESE','SE','SSE','S','SSW','SW','WSW','W','WNW','NW','NNW','NN']\n",
    "wind = data0[['uxy_mean','Angle']].resample('10T').first()[start_time:end_time]\n",
    "wind['Angle_Range'] = pd.cut(wind['Angle'],\n",
    "            np.array(range(0,int((361+22.5)*20),int(22.5*20)))/20-22.5/2, labels=labels)\n",
    "wind['Wind Speed'] = pd.cut(wind['uxy_mean'],list(range(0,18,2)))\n",
    "wind = wind.groupby(['Angle_Range','Wind Speed']).count()\n",
    "wind.columns=['frequency','0']; wind = wind.drop('0', axis=1).fillna(0)\n",
    "for i in wind.loc['N'].index: wind.loc['N',i] += wind.loc['NN',i]\n",
    "wind = wind.drop('NN').reset_index()\n",
    "wind['Wind Speed'] = wind['Wind Speed'].map(lambda x:'%d~%d m/s'%(x.left,x.right))\n",
    "wind['frequency'] = wind['frequency']/wind['frequency'].sum()\n",
    "fig = px.bar_polar(wind, r=\"frequency\", theta=\"Angle_Range\",\n",
    "                   color=\"Wind Speed\", template=\"presentation\", labels={'Wind Speed':'Speed'},\n",
    "                   color_discrete_sequence= px.colors.qualitative.Bold[1:5])\n",
    "fig.update_layout(polar={'radialaxis': {'range':[0,0.5], 'dtick':0.1, 'tickformat':'%',\n",
    "                                        'angle':22.5, 'side':'clockwise', 'tickangle':0},\n",
    "                         'sector':[0,180-45],\n",
    "                        },\n",
    "                  font={'family':'Times New Roman', 'size':24},\n",
    "                  legend={'font':{'size':28}, 'x':1.1, 'y':0.5, 'tracegroupgap':16}\n",
    "                 )"
   ]
  },
  {
   "cell_type": "code",
   "execution_count": null,
   "metadata": {
    "scrolled": true
   },
   "outputs": [],
   "source": [
    "# 保存图片\n",
    "from IPython.display import Image\n",
    "img_bytes = fig.to_image(format=\"png\", scale=1)\n",
    "Image(img_bytes)"
   ]
  },
  {
   "cell_type": "code",
   "execution_count": null,
   "metadata": {},
   "outputs": [],
   "source": [
    "# 试验\n",
    "import plotly.express as px\n",
    "wind = px.data.wind()\n",
    "fig = px.scatter_polar(wind, r=\"frequency\", theta=\"direction\",template=\"presentation\")\n",
    "fig.show()"
   ]
  },
  {
   "cell_type": "markdown",
   "metadata": {
    "colab_type": "text",
    "id": "sfB6bMUEu76f"
   },
   "source": [
    "# Fluctuating wind"
   ]
  },
  {
   "cell_type": "markdown",
   "metadata": {
    "ExecuteTime": {
     "start_time": "2019-05-11T17:40:41.497Z"
    },
    "colab": {},
    "colab_type": "code",
    "id": "MS-qF5_lzFhj",
    "run_control": {
     "marked": true
    }
   },
   "source": [
    "## 时程"
   ]
  },
  {
   "cell_type": "code",
   "execution_count": null,
   "metadata": {
    "ExecuteTime": {
     "start_time": "2019-05-11T17:40:41.497Z"
    },
    "colab": {},
    "colab_type": "code",
    "id": "MS-qF5_lzFhj",
    "run_control": {
     "marked": true
    }
   },
   "outputs": [],
   "source": [
    "## 选定数据\n",
    "fluctuating_wind = data0[['u','v','w']].resample('0.5T').mean()[start_time:end_time]\n",
    "## 绘制纵向、横向、竖向脉动风速图\n",
    "for wind_type in ['u','v','w']:\n",
    "    if wind_type == 'u' : title_name = 'Longitudinal Fluctuating Wind Speed'\n",
    "    elif wind_type == 'v' : title_name = 'Lateral Fluctuating Wind Speed'\n",
    "    elif wind_type == 'w' : title_name = 'Vertical Fluctuating Wind Speed'\n",
    "    chart = (alt.Chart(fluctuating_wind.reset_index(), title=title_name)\n",
    "             .mark_line(strokeWidth=1, clip=True)\n",
    "             .encode(alt.X('index:T', title=None, axis=alt.Axis(format='%0H:%0M')),\n",
    "                     alt.Y('%s:Q'%wind_type, title='Wind Speed (m/s)'))\n",
    "             .configure_axis(titleFontSize=24, labelFontSize=18, labelFont='Times New Roman', titleFont='Times New Roman')\n",
    "             .configure_title(font='Times New Roman', fontSize=30)\n",
    "             .properties(width=1300)\n",
    "             #.interactive(bind_x = False) # 交互性设置\n",
    "            )\n",
    "    chart.display()\n",
    "    # picture_path1 = picture_path0 + title_name + '.png'\n",
    "    # chart.save(picture_path1, scale_factor=10)"
   ]
  },
  {
   "cell_type": "markdown",
   "metadata": {},
   "source": [
    "## Triple-M Diagram (mean,max,min)"
   ]
  },
  {
   "cell_type": "code",
   "execution_count": null,
   "metadata": {
    "run_control": {
     "marked": true
    },
    "scrolled": false
   },
   "outputs": [],
   "source": [
    "# 选定数据\n",
    "fluctuating_wind = data0[['u','v','w']]\n",
    "for wind_type in ['u','v','w']:\n",
    "    title_name = 'Fluctuating Wind Speed (%s)'%wind_type\n",
    "    # 计算\n",
    "    interval = 1\n",
    "    Original = pd.DataFrame([])\n",
    "    Original['mean'] = fluctuating_wind[wind_type].resample('%fT'%interval).mean()\n",
    "    Original['max'] = fluctuating_wind[wind_type].resample('%fT'%interval).max()\n",
    "    Original['min'] = fluctuating_wind[wind_type].resample('%fT'%interval).min()\n",
    "    Original = Original[start_time:end_time].reset_index().melt('index', var_name=' wind-%s'%wind_type, value_name='Original')\n",
    "    # 作图\n",
    "    chart = (alt.Chart(Original, title='')\n",
    "             .mark_line(strokeWidth=1.5, clip=True)\n",
    "             .encode(alt.X('index:T', title=None, axis=alt.Axis(format=('%0H:%0M'))),\n",
    "                     alt.Y('Original:Q',title='Wind Speed (m/s)'),\n",
    "                     alt.Color(' wind-%s:N'%wind_type,\n",
    "                               legend=alt.Legend(\n",
    "                                   title=None, orient='top-left', rowPadding=7, titlePadding=10, \n",
    "                                   direction='horizontal', symbolSize=150, symbolStrokeWidth=3,\n",
    "                                   labelFont='Times New Roman',labelFontSize=25, labelFontWeight='bold')))\n",
    "             .configure_axis(titleFontSize=25, labelFontSize=23, labelFont='Times New Roman', titleFont='Times New Roman')\n",
    "             .properties(width=1000)\n",
    "             #.interactive(bind_x = False) # 交互性设置\n",
    "            )\n",
    "    chart.display()\n",
    "    # picture_path1 = picture_path0 + title_name + '.png'\n",
    "    # chart.save(picture_path1, scale_factor=10)"
   ]
  },
  {
   "cell_type": "markdown",
   "metadata": {},
   "source": [
    "## Histogram"
   ]
  },
  {
   "cell_type": "code",
   "execution_count": null,
   "metadata": {},
   "outputs": [],
   "source": [
    "# 选定数据\n",
    "binWidth_dict = {'u':0.8, 'v':0.7, 'w':0.5}\n",
    "for wind_type in ['u','v','w']:\n",
    "    title_name = 'Fluctuating Wind Histogram(%s)'%wind_type\n",
    "    fluctuating_wind = data0[wind_type][start_time:end_time]\n",
    "    binWidth = binWidth_dict.get(wind_type) # 条形图宽度\n",
    "    if_sigma = float(0) # 是否剔除异常数据\n",
    "    if_log = float(0) # 是否对绝对值取对数\n",
    "    if_draw = float(0) # 是否出图\n",
    "    engine.cd(r'E:\\【论文】\\【小论文】\\模态识别\\Matlab脚本\\Method_Functions')\n",
    "    [center,frequency,sigma,x1,y1] = engine.GaussFit_functin_py(\n",
    "        matlab.double(fluctuating_wind.tolist()),binWidth,if_sigma,if_log,if_draw,nargout=5)\n",
    "\n",
    "    Histogram = pd.DataFrame([]); GaussianFit = pd.DataFrame([])\n",
    "    Histogram['center'] = list(center[0])\n",
    "    Histogram['frequency'] = list(frequency[0])\n",
    "    Histogram['name'] = 'Frequency Distribution'\n",
    "    GaussianFit['x1'] = list(x1[0])\n",
    "    GaussianFit['y1'] = list(y1[0])\n",
    "    GaussianFit['name'] = 'Gaussian Distribution'\n",
    "\n",
    "    chart1 = (alt\n",
    "              .Chart(Histogram)\n",
    "              .mark_bar(fill='#4c78a8', fillOpacity=0.9, stroke='#7f7f7f', binSpacing=2, clip=True)\n",
    "              .encode(alt.X('center:Q', title='Fluctuating Wind Speed (%s) (m/s)'%wind_type, bin=alt.Bin(step=binWidth), axis=alt.Axis(format='.1f'),\n",
    "                            scale=alt.Scale(domain=(-4*sigma,3*sigma))),\n",
    "                      alt.Y('frequency:Q', title='Frequency', axis=alt.Axis(orient='left')),\n",
    "                      alt.Color('name', legend=alt.Legend(title=None), scale=alt.Scale(range=('#4c77a8','red'))))\n",
    "             )\n",
    "    chart2 = (alt\n",
    "              .Chart(GaussianFit)\n",
    "              .mark_line(strokeWidth=2.5, clip=True)\n",
    "              .encode(alt.X('x1:Q', scale=alt.Scale(domain=(-4*sigma,3*sigma))),\n",
    "                      alt.Y('y1:Q', title='Gaussian Probability Density', axis=alt.Axis(orient='right')),\n",
    "                      alt.Color('name', legend=alt.Legend(title=None)))\n",
    "             )\n",
    "    chart = ((chart1 + chart2)\n",
    "             .configure_axis(titleFontSize=28, labelFontSize=28, labelFont='Times New Roman', titleFont='Times New Roman')\n",
    "             .properties(width=600,height=350)\n",
    "             .configure_legend(orient='top-left', rowPadding=15, labelFont='Times New Roman',labelFontSize=24, labelFontWeight='bold', labelLimit=400)\n",
    "             .configure_view(stroke='#000', strokeWidth=0.3) # 黑色外边框，需设置grid=False才能看到\n",
    "             #.interactive(bind_x = False) # 交互性设置\n",
    "            )\n",
    "    chart.display()\n",
    "    # picture_path1 = picture_path0 + title_name + '.png'\n",
    "    # chart.save(picture_path1, scale_factor=10)"
   ]
  },
  {
   "cell_type": "markdown",
   "metadata": {},
   "source": [
    "## Triple-M Diagram + Histogram"
   ]
  },
  {
   "cell_type": "code",
   "execution_count": null,
   "metadata": {
    "scrolled": false
   },
   "outputs": [],
   "source": [
    "# 选定数据\n",
    "fluctuating_wind = data0[['u','v','w']]\n",
    "binWidth_dict = {'u':0.8, 'v':0.7, 'w':0.5}\n",
    "\n",
    "for wind_type in ['u','v','w']:\n",
    "    ## Triple-M Diagram\n",
    "    title_name = 'Triple-M Diagram + Histogram (%s)'%wind_type\n",
    "    # 计算\n",
    "    interval = 1\n",
    "    Original = pd.DataFrame([])\n",
    "    Original['Mean'] = fluctuating_wind[wind_type].resample('%fT'%interval).mean()\n",
    "    Original['Max'] = fluctuating_wind[wind_type].resample('%fT'%interval).max()\n",
    "    Original['Min'] = fluctuating_wind[wind_type].resample('%fT'%interval).min()\n",
    "    Original = Original[start_time:end_time].reset_index().melt('index', var_name=' wind-%s'%wind_type, value_name='Original')\n",
    "    # 作图\n",
    "    triple_M = (alt.Chart(Original, title='')\n",
    "                .mark_line(strokeWidth=2, clip=True)\n",
    "                .encode(alt.X('index:T', title=None, axis=alt.Axis(format=('%0H:%0M'))),\n",
    "                        alt.Y('Original:Q',title='Wind Speed (m/s)'),\n",
    "                        alt.Color(' wind-%s:N'%wind_type,\n",
    "                                  legend=alt.Legend(\n",
    "                                      values=['Max','Mean','Min'],\n",
    "                                      direction='horizontal', symbolStrokeWidth=4, symbolSize=300)))\n",
    "                .properties(width=1200,height=380)\n",
    "               )\n",
    "    \n",
    "    ## Histogram\n",
    "    binWidth = binWidth_dict.get(wind_type) # 条形图宽度\n",
    "    if_sigma = float(0) # 是否剔除异常数据\n",
    "    if_log = float(0) # 是否对绝对值取对数\n",
    "    if_draw = float(0) # 是否出图\n",
    "    engine.cd(r'E:\\【论文】\\【小论文】\\模态识别\\Matlab脚本\\Method_Functions')\n",
    "    [center,frequency,sigma,x1,y1] = engine.GaussFit_functin_py(\n",
    "        matlab.double(fluctuating_wind[wind_type][start_time:end_time].tolist()),binWidth,if_sigma,if_log,if_draw,nargout=5)\n",
    "\n",
    "    Histogram = pd.DataFrame([]); GaussianFit = pd.DataFrame([])\n",
    "    Histogram['center'] = list(center[0])\n",
    "    Histogram['frequency'] = list(frequency[0])\n",
    "    Histogram['name'] = 'Frequency Distribution'\n",
    "    GaussianFit['x1'] = list(x1[0])\n",
    "    GaussianFit['y1'] = list(y1[0])\n",
    "    GaussianFit['name'] = 'Gaussian Distribution'\n",
    "\n",
    "    chart1 = (alt\n",
    "              .Chart(Histogram)\n",
    "              .mark_bar(fill='#4c78a8', fillOpacity=0.9, stroke='#7f7f7f', binSpacing=2, clip=True)\n",
    "              .encode(alt.X('center:Q', title='Fluctuating Wind Speed (%s) (m/s)'%wind_type, bin=alt.Bin(step=binWidth), axis=alt.Axis(format='.1f'),\n",
    "                            scale=alt.Scale(domain=(-3.8*sigma,3*sigma))),\n",
    "                      alt.Y('frequency:Q', title='Frequency', axis=alt.Axis(orient='left')),\n",
    "                      alt.Color('name', legend=alt.Legend(title=None)))\n",
    "             )\n",
    "    chart2 = (alt\n",
    "              .Chart(GaussianFit)\n",
    "              .mark_line(strokeWidth=2.5, clip=True)\n",
    "              .encode(alt.X('x1:Q', scale=alt.Scale(domain=(-3.8*sigma,3*sigma))),\n",
    "                      alt.Y('y1:Q', title='Gaussian Probability Density', axis=alt.Axis(orient='right')),\n",
    "                      alt.Color('name', \n",
    "                                scale=alt.Scale(range=('#4c77a8','red','#4c77a8','#ff7823','#e45756')),\n",
    "                                legend=alt.Legend(\n",
    "                                    values=['Frequency Distribution','Gaussian Distribution'],\n",
    "                                    rowPadding=15, labelLimit=400, direction='vertical', symbolSize=180)))\n",
    "             )\n",
    "    histogram = (chart1 + chart2).properties(width=600,height=380)\n",
    "    \n",
    "    chart = ((triple_M | histogram)\n",
    "             .configure_axis(titleFontSize=30, labelFontSize=30, labelFont='Times New Roman', titleFont='Times New Roman', domainColor='#000', tickColor='#000')\n",
    "             .configure_view(stroke='#000', strokeWidth=0.3) # 黑色外边框，需设置grid=False才能看到\n",
    "             .configure_legend(title=None,orient='top-left',labelFont='Times New Roman',labelFontSize=25, labelFontWeight='bold')\n",
    "             .resolve_scale(color='independent', shape='independent')\n",
    "             #.interactive(bind_x = False) # 交互性设置\n",
    "            )\n",
    "    chart.display()\n",
    "    # picture_path1 = picture_path0 + title_name + '.png'\n",
    "    # chart.save(picture_path1, scale_factor=10)"
   ]
  },
  {
   "cell_type": "markdown",
   "metadata": {},
   "source": [
    "## RMS"
   ]
  },
  {
   "cell_type": "code",
   "execution_count": null,
   "metadata": {
    "scrolled": false
   },
   "outputs": [],
   "source": [
    "# 选定数据\n",
    "fluctuating_wind = data0[['u','v','w']]\n",
    "wind_type = 'type'\n",
    "title_name = 'Fluctuating Wind Speed (RMS)'\n",
    "# 计算\n",
    "if not if_var_exists('interval'): interval=1\n",
    "RMS = fluctuating_wind.resample('%fT'%interval).std()\n",
    "RMS.columns = ['Wind_u','Wind_v','Wind_w']\n",
    "# RMS = RMS['Position%d'%position]\n",
    "RMS = RMS[start_time:end_time].reset_index().melt('index', var_name='wind_type', value_name='RMS')\n",
    "# 作图\n",
    "chart = (alt.Chart(RMS,title='')\n",
    "         .mark_line(strokeWidth=1.5, clip=True)\n",
    "         .encode(alt.X('index:T', title=None, axis=alt.Axis(format=('%0H:%0M'))),\n",
    "                 alt.Y('RMS:Q', title='Wind Speed (m/s)', scale=alt.Scale(domain=(0,6.2))),\n",
    "                 alt.Color('wind_type:N',\n",
    "                           legend=alt.Legend(\n",
    "                               title=None, orient='top-left', rowPadding=6.5, titlePadding=10,\n",
    "                               labelFont='Times New Roman',labelFontSize=18, labelLimit=400)))\n",
    "         .configure_axis(titleFontSize=24, labelFontSize=18, labelFont='Times New Roman', titleFont='Times New Roman')\n",
    "         .configure_title(font='Times New Roman', fontSize=30)\n",
    "         .properties(width=1300)\n",
    "         #.interactive(bind_x = False) # 交互性设置\n",
    "        )\n",
    "chart.display()\n",
    "# picture_path1 = picture_path0 + title_name + '.png'\n",
    "# chart.save(picture_path1, scale_factor=10)"
   ]
  },
  {
   "cell_type": "markdown",
   "metadata": {},
   "source": [
    "## RMS / Mean"
   ]
  },
  {
   "cell_type": "code",
   "execution_count": null,
   "metadata": {},
   "outputs": [],
   "source": [
    "# 选定数据\n",
    "fluctuating_wind = data0[['u','v','w']]\n",
    "wind_type = 'type'\n",
    "title_name = 'RMS VS Mean'\n",
    "# 计算\n",
    "if not if_var_exists('interval'): interval=1\n",
    "RMS = fluctuating_wind.resample('%fT'%interval).std()\n",
    "RMS.columns = ['u','v','w']\n",
    "# RMS = RMS['Position%d'%position]\n",
    "average_wind = data0[['uxy_mean','Angle']].resample('%fT'%interval).mean()\n",
    "RMS_Mean = pd.DataFrame(np.array(RMS)/np.array(average_wind[['uxy_mean']]))\n",
    "RMS_Mean.columns = RMS.columns; RMS_Mean.index = RMS.index\n",
    "RMS_Mean = RMS_Mean[start_time:end_time].reset_index().melt('index', var_name='wind-%s'%wind_type, value_name='RMS/Mean')\n",
    "# 作图\n",
    "chart = (alt.Chart(RMS_Mean, title='')\n",
    "         .mark_point(strokeWidth=2, clip=True)\n",
    "         .encode(alt.X('index:T', title=None, axis=alt.Axis(format=('%0H:%0M'))),\n",
    "                 alt.Y('RMS/Mean:Q',title='RMS / Mean'),\n",
    "                 alt.Color('wind-%s:N'%wind_type,\n",
    "                           legend=alt.Legend(\n",
    "                               orient='top-left', rowPadding=7, titlePadding=10,\n",
    "                               labelFont='Times New Roman',labelFontSize=18, labelLimit=400,\n",
    "                               titleFont='Times New Roman', titleFontSize = 16)))\n",
    "         .configure_axis(titleFontSize=24, labelFontSize=18, labelFont='Times New Roman', titleFont='Times New Roman')\n",
    "         .configure_title(font='Times New Roman', fontSize=30)\n",
    "         .properties(width=1300)\n",
    "         #.interactive(bind_x = False) # 交互性设置\n",
    "        )\n",
    "chart.display()\n",
    "# picture_path1 = picture_path0 + title_name + '.png'\n",
    "# chart.save(picture_path1, scale_factor=10)"
   ]
  },
  {
   "cell_type": "markdown",
   "metadata": {
    "colab_type": "text",
    "id": "sfB6bMUEu76f"
   },
   "source": [
    "## Skewness（偏度系数）"
   ]
  },
  {
   "cell_type": "code",
   "execution_count": null,
   "metadata": {
    "colab": {},
    "colab_type": "code",
    "id": "MS-qF5_lzFhj",
    "run_control": {
     "marked": true
    },
    "scrolled": false
   },
   "outputs": [],
   "source": [
    "# 选定数据\n",
    "Skewness = data1['Skewness']\n",
    "title_name = 'Variation of Skewness with Time'\n",
    "# 计算\n",
    "Skewness.columns = ['S_u', 'S_v', 'S_w']\n",
    "Skewness = Skewness.reset_index().melt('index', var_name='Skewness', value_name='skewness')\n",
    "# 绘制3个偏度系数 时程\n",
    "chart1 = (alt.Chart()\n",
    "         .mark_point(strokeWidth=5, size=10, clip=True)\n",
    "         .encode(alt.X('index:T', title=None, axis=alt.Axis(format='%0H:%0M')),\n",
    "                 alt.Y('skewness:Q', title='Skewness', scale=alt.Scale(domain=(-1,1.5))),\n",
    "                 alt.Color('Skewness:N', legend=alt.Legend(\n",
    "                     title=None, orient='top-left', rowPadding=7, titlePadding=10,\n",
    "                     labelFont='Times New Roman',labelFontSize=18, labelLimit=400)),\n",
    "                 alt.Shape('Skewness:N', legend=alt.Legend(title=None)))\n",
    "        )\n",
    "hline = alt.Chart().mark_rule(strokeDash=[12,5], strokeWidth=2).encode(y='a:Q').transform_calculate(a=\"0\")\n",
    "chart = (alt\n",
    "         .layer(hline, chart1, data=Skewness, title='')\n",
    "         .configure_axis(titleFontSize=24, labelFontSize=18, labelFont='Times New Roman', titleFont='Times New Roman')\n",
    "         .configure_title(font='Times New Roman', fontSize=30)\n",
    "         .properties(width=1300)\n",
    "         #.interactive(bind_x = False) # 交互性设置\n",
    "        )\n",
    "chart.display()\n",
    "# picture_path1 = picture_path0 + title_name + '.png'\n",
    "# chart.save(picture_path1, scale_factor=10)"
   ]
  },
  {
   "cell_type": "markdown",
   "metadata": {
    "colab_type": "text",
    "id": "sfB6bMUEu76f"
   },
   "source": [
    "## Kurtosis（峰度系数）"
   ]
  },
  {
   "cell_type": "code",
   "execution_count": null,
   "metadata": {
    "colab": {},
    "colab_type": "code",
    "id": "MS-qF5_lzFhj",
    "run_control": {
     "marked": true
    },
    "scrolled": false
   },
   "outputs": [],
   "source": [
    "# 选定数据\n",
    "Kurtosis = data1['Kurtosis']\n",
    "title_name = 'Variation of Kurtosis with Time'\n",
    "# 计算\n",
    "Kurtosis.columns = ['S_u', 'S_v', 'S_w']\n",
    "Kurtosis = Kurtosis.reset_index().melt('index', var_name='Kurtosis', value_name='kurtosis')\n",
    "# 绘制3个偏度系数 时程\n",
    "chart1 = (alt.Chart()\n",
    "         .mark_point(strokeWidth=5, size=10, clip=True)\n",
    "         .encode(alt.X('index:T', title=None, axis=alt.Axis(format='%0H:%0M')),\n",
    "                 alt.Y('kurtosis:Q', title='Kurtosis', scale=alt.Scale(zero=False, domain=(1,6))),\n",
    "                 alt.Color('Kurtosis:N', legend=alt.Legend(\n",
    "                     title=None, orient='top-left', rowPadding=7, titlePadding=10,\n",
    "                     labelFont='Times New Roman',labelFontSize=18, labelLimit=400)),\n",
    "                 alt.Shape('Kurtosis:N', legend=alt.Legend(title=None)))\n",
    "        )\n",
    "hline = alt.Chart().mark_rule(strokeDash=[12,5], strokeWidth=2).encode(y='a:Q').transform_calculate(a=\"3\")\n",
    "chart = (alt\n",
    "         .layer(hline, chart1, data=Kurtosis, title='')\n",
    "         .configure_axis(titleFontSize=24, labelFontSize=18, labelFont='Times New Roman', titleFont='Times New Roman')\n",
    "         .configure_title(font='Times New Roman', fontSize=30)\n",
    "         .properties(width=1300)\n",
    "         #.interactive(bind_x = False) # 交互性设置\n",
    "        )\n",
    "chart.display()\n",
    "# picture_path1 = picture_path0 + title_name + '.png'\n",
    "# chart.save(picture_path1, scale_factor=10)"
   ]
  },
  {
   "cell_type": "markdown",
   "metadata": {
    "colab_type": "text",
    "id": "sfB6bMUEu76f"
   },
   "source": [
    "# Turbulence intensity"
   ]
  },
  {
   "cell_type": "markdown",
   "metadata": {},
   "source": [
    "## 时程"
   ]
  },
  {
   "cell_type": "code",
   "execution_count": null,
   "metadata": {
    "colab": {},
    "colab_type": "code",
    "id": "MS-qF5_lzFhj",
    "run_control": {
     "marked": true
    }
   },
   "outputs": [],
   "source": [
    "# 选定数据\n",
    "turbulence_intensity = data1['turbulence_intensity']\n",
    "title_name = 'Variation of Turbulence Intensity with Time'\n",
    "# 计算\n",
    "turbulence_intensity.columns = ['I_u', 'I_v', 'I_w']\n",
    "turbulence_intensity = turbulence_intensity.reset_index().melt('index', var_name='Turbulence intensity', value_name='turbulence intensity')\n",
    "# 绘制3个湍流度 时程\n",
    "chart = (alt.Chart(turbulence_intensity,title='')\n",
    "         .mark_point(strokeWidth=6, size=30, clip=True)\n",
    "         .encode(alt.X('index:T', title=None, axis=alt.Axis(format=('%0H:%0M'))),\n",
    "                 alt.Y('turbulence intensity:Q', title='Turbulence Intensity'),\n",
    "                 alt.Color('Turbulence intensity:N', legend=alt.Legend(direction='horizontal')),\n",
    "                 alt.Shape('Turbulence intensity:N'))\n",
    "         .configure_axis(titleFontSize=28, labelFontSize=22, labelFont='Times New Roman', titleFont='Times New Roman', domainColor='#000', tickColor='#000')\n",
    "         .configure_legend(title=None, labelFont='Times New Roman',labelFontSize=24, labelFontWeight='bold',\n",
    "                           orient='top-left', symbolStrokeWidth=6, symbolSize=30,\n",
    "                           rowPadding=15, labelLimit=400, symbolOffset=15)\n",
    "         .properties(width=1300, height=370)\n",
    "         #.interactive(bind_x = False) # 交互性设置\n",
    "        )\n",
    "chart.display()\n",
    "# picture_path1 = picture_path0 + title_name + '.png'\n",
    "# chart.save(picture_path1, scale_factor=10)"
   ]
  },
  {
   "cell_type": "markdown",
   "metadata": {},
   "source": [
    "## 玫瑰图"
   ]
  },
  {
   "cell_type": "code",
   "execution_count": null,
   "metadata": {},
   "outputs": [],
   "source": [
    "## 选定数据\n",
    "wind_type = 'u'\n",
    "title_name = 'Wind Rose of Turbulence intensity (%s)' % wind_type\n",
    "average_wind = data0[['uxy_mean','Angle']].resample('10T').first()[start_time:end_time]\n",
    "turbulence_intensity = data1['turbulence_intensity'][['turbulence_intensity_'+wind_type]][start_time:end_time]\n",
    "\n",
    "# 计算参数\n",
    "name_U = 'U (m/s)'\n",
    "name_Z = 'Turbulence intensity (%s)' % wind_type\n",
    "scatter_colormap = 'mycolormap' # 选择颜色图 mycolormap、parula(200)、jet(200)、hsv(200)、gray(200)、lines(5)\n",
    "scatter_size = float(60)  # 点大小\n",
    "scatter_LineWidth = float(1) # 点轮廓粗细\n",
    "scatter_MarkerFaceAlpha = float(0.5) # 面透明度\n",
    "scatter_MarkerEdgeAlpha = float(1) # 线透明度\n",
    "picture_path = picture_path0 + title_name # 若为空，则不保存图片，否则保存成emf文件，注意，picture_path不必给出后缀\n",
    "\n",
    "# matlab计算 传入多列数据\n",
    "engine.cd(r'E:\\【论文】\\【小论文】\\模态识别\\Matlab脚本\\Method_Functions\\Wind')\n",
    "\n",
    "# matlab计算 传入多列数据\n",
    "engine.cd(r'E:\\【论文】\\【小论文】\\模态识别\\Matlab脚本\\Method_Functions\\Wind')\n",
    "engine.plot_ScatterWindRose_py(matlab.double(np.array(average_wind['Angle'].T).tolist()),\n",
    "       matlab.double(np.array(average_wind['uxy_mean'].T).tolist()),\n",
    "       matlab.double(np.array(turbulence_intensity.T).tolist()),\n",
    "       name_U,name_Z,scatter_colormap,scatter_size,scatter_LineWidth,scatter_MarkerFaceAlpha,scatter_MarkerEdgeAlpha,picture_path,nargout=0)"
   ]
  },
  {
   "cell_type": "markdown",
   "metadata": {},
   "source": [
    "## I_u : I_v : I_w + max, min, mean"
   ]
  },
  {
   "cell_type": "code",
   "execution_count": null,
   "metadata": {},
   "outputs": [],
   "source": [
    "# 选定数据\n",
    "turbulence_intensity = data1['turbulence_intensity']\n",
    "# 计算\n",
    "turbulence_intensity.columns = ['I_u', 'I_v', 'I_w']\n",
    "print('I_v/I_u: %f'%(turbulence_intensity['I_v']/turbulence_intensity['I_u']).mean())\n",
    "print('I_w/I_u: %f'%(turbulence_intensity['I_w']/turbulence_intensity['I_u']).mean())\n",
    "print('\\nmin:\\n%s'%turbulence_intensity.min())\n",
    "print('\\nmax:\\n%s'%turbulence_intensity.max())\n",
    "print('\\nmean:\\n%s'%turbulence_intensity.mean())"
   ]
  },
  {
   "cell_type": "markdown",
   "metadata": {},
   "source": [
    "## 随平均风变化（线性拟合）"
   ]
  },
  {
   "cell_type": "code",
   "execution_count": null,
   "metadata": {},
   "outputs": [],
   "source": [
    "## 选定数据\n",
    "average_wind = data0[['uxy_mean','Angle']].resample('10T').mean()[start_time:end_time]\n",
    "turbulence_intensity = data1['turbulence_intensity']\n",
    "title_name = 'Variation of Turbulence Intensity with Average Wind Speed'\n",
    "\n",
    "## 线性拟合 3个湍流度随平均风变化\n",
    "# 生成点数据\n",
    "turbulence_intensity.columns = ['I_u', 'I_v', 'I_w']\n",
    "turbulence_intensity.index = average_wind['uxy_mean']\n",
    "point_data = turbulence_intensity\n",
    "\n",
    "# 生成拟合数据\n",
    "poly_data = pd.DataFrame({'uxy_mean': np.linspace(point_data.index.min(), point_data.index.max(), 10)})\n",
    "for ii in ['I_u', 'I_v', 'I_w']:\n",
    "    poly_data[ii] = np.poly1d(np.polyfit(point_data.index, point_data[ii], 1))(poly_data['uxy_mean'])\n",
    "\n",
    "# 画点图\n",
    "point_data = point_data.reset_index().melt('uxy_mean', var_name='Turbulence intensity', value_name='turbulence intensity')\n",
    "point_chart = (alt\n",
    "               .Chart(point_data, title='')\n",
    "               .mark_point(strokeWidth=2, size=40, clip=True)\n",
    "               .encode(alt.X('uxy_mean:Q', title='Average Wind Speed (m/s)', scale=alt.Scale(zero=False)),\n",
    "                       alt.Y('turbulence intensity:Q', title='Turbulence Intensity'),\n",
    "                       alt.Color('Turbulence intensity:N', legend=None),\n",
    "                       alt.Shape('Turbulence intensity:N', legend=alt.Legend(\n",
    "                           title=None, orient='top-right', rowPadding=7, titlePadding=10,\n",
    "                           labelFont='Times New Roman',labelFontSize=18, labelLimit=400)))\n",
    "              )\n",
    "# 画拟合图\n",
    "poly_data = poly_data.melt('uxy_mean', var_name='Turbulence intensity', value_name='turbulence intensity')\n",
    "poly_chart = (alt\n",
    "              .Chart(poly_data)\n",
    "              .mark_line(strokeWidth=2.5)\n",
    "              .encode(alt.X('uxy_mean:Q', scale=alt.Scale(zero=False)),\n",
    "                      alt.Y('turbulence intensity:Q'),\n",
    "                      alt.Color('Turbulence intensity:N', legend=alt.Legend(\n",
    "                          title=None, orient='top-right', rowPadding=7, titlePadding=10,\n",
    "                          labelFont='Times New Roman',labelFontSize=18, labelLimit=400)))\n",
    "             )\n",
    "# 把点图和拟合线图放在一起\n",
    "chart = ((point_chart + poly_chart)\n",
    "         .configure_axis(titleFontSize=24, labelFontSize=18, labelFont='Times New Roman', titleFont='Times New Roman')\n",
    "         .configure_title(font='Times New Roman', fontSize=30)\n",
    "         .properties(width=1300)\n",
    "         .resolve_scale(color='independent', shape='independent')\n",
    "         #.interactive(bind_x = False) # 交互性设置\n",
    "        )\n",
    "chart.display()\n",
    "# picture_path1 = picture_path0 + title_name + '.png'\n",
    "# chart.save(picture_path1, scale_factor=10)"
   ]
  },
  {
   "cell_type": "markdown",
   "metadata": {
    "colab_type": "text",
    "id": "sfB6bMUEu76f"
   },
   "source": [
    "# Gust factor"
   ]
  },
  {
   "cell_type": "markdown",
   "metadata": {
    "colab_type": "text",
    "id": "x1Pd0ZOak-Qe"
   },
   "source": [
    "## 时程"
   ]
  },
  {
   "cell_type": "code",
   "execution_count": null,
   "metadata": {
    "scrolled": false
   },
   "outputs": [],
   "source": [
    "# 选定数据\n",
    "gust_factor = data1['gust_factor']\n",
    "gust_factor.columns = ['G_u', 'G_v', 'G_w']\n",
    "gust_factor = gust_factor.reset_index().melt('index', var_name='Gust factor', value_name='gust factor')\n",
    "# 作图\n",
    "title_name = 'Variation of Gust Factor with Time'\n",
    "chart = (alt\n",
    "         .Chart(gust_factor.reset_index(), title='')\n",
    "         .mark_point(strokeWidth=6, size=30, clip=True)\n",
    "         .encode(alt.X('index:T', title=None, axis=alt.Axis(format='%0H:%0M')),\n",
    "                 alt.Y('gust factor:Q', title='Gust Factor'),\n",
    "                 alt.Color('Gust factor:N'),\n",
    "                 alt.Shape('Gust factor:N', legend=alt.Legend(direction='horizontal')))\n",
    "         .configure_axis(titleFontSize=28, labelFontSize=22, labelFont='Times New Roman', titleFont='Times New Roman', domainColor='#000', tickColor='#000')\n",
    "         .configure_legend(title=None, labelFont='Times New Roman',labelFontSize=24, labelFontWeight='bold',\n",
    "                           orient='top-left', symbolStrokeWidth=6, symbolSize=30,\n",
    "                           rowPadding=15, labelLimit=400, symbolOffset=15)\n",
    "         .properties(width=1300, height=370)\n",
    "         #.interactive(bind_x = False) # 交互性设置\n",
    "        )\n",
    "chart.display()\n",
    "# picture_path1 = picture_path0 + title_name + '.png'\n",
    "# chart.save(picture_path1, scale_factor=10)"
   ]
  },
  {
   "cell_type": "markdown",
   "metadata": {},
   "source": [
    "## 玫瑰图"
   ]
  },
  {
   "cell_type": "code",
   "execution_count": null,
   "metadata": {},
   "outputs": [],
   "source": [
    "## 选定数据\n",
    "wind_type = 'u'\n",
    "title_name = 'Wind Rose of Gust factor (%s)' % wind_type\n",
    "average_wind = data0[['uxy_mean','Angle']].resample('10T').first()[start_time:end_time]\n",
    "gust_factor = data1['gust_factor'][['gust_factor_'+wind_type]][start_time:end_time]\n",
    "\n",
    "# 计算参数\n",
    "name_U = 'U (m/s)'\n",
    "name_Z = 'Gust factor (%s)' % wind_type\n",
    "scatter_colormap = 'mycolormap' # 选择颜色图 mycolormap、parula(200)、jet(200)、hsv(200)、gray(200)、lines(5)\n",
    "scatter_size = float(60)  # 点大小\n",
    "scatter_LineWidth = float(1) # 点轮廓粗细\n",
    "scatter_MarkerFaceAlpha = float(0.5) # 面透明度\n",
    "scatter_MarkerEdgeAlpha = float(1) # 线透明度\n",
    "picture_path = picture_path0 + title_name # 若为空，则不保存图片，否则保存成emf文件，注意，picture_path不必给出后缀\n",
    "\n",
    "# matlab计算 传入多列数据\n",
    "engine.cd(r'E:\\【论文】\\【小论文】\\模态识别\\Matlab脚本\\Method_Functions\\Wind')\n",
    "\n",
    "# matlab计算 传入多列数据\n",
    "engine.cd(r'E:\\【论文】\\【小论文】\\模态识别\\Matlab脚本\\Method_Functions\\Wind')\n",
    "engine.plot_ScatterWindRose_py(matlab.double(np.array(average_wind['Angle'].T).tolist()),\n",
    "       matlab.double(np.array(average_wind['uxy_mean'].T).tolist()),\n",
    "       matlab.double(np.array(gust_factor.T).tolist()),\n",
    "       name_U,name_Z,scatter_colormap,scatter_size,scatter_LineWidth,scatter_MarkerFaceAlpha,scatter_MarkerEdgeAlpha,picture_path,nargout=0)"
   ]
  },
  {
   "cell_type": "markdown",
   "metadata": {
    "colab_type": "text",
    "id": "x1Pd0ZOak-Qe"
   },
   "source": [
    "## G_v / G_u 时程"
   ]
  },
  {
   "cell_type": "code",
   "execution_count": null,
   "metadata": {
    "scrolled": false
   },
   "outputs": [],
   "source": [
    "# 选定数据\n",
    "gust_factor = data1['gust_factor']\n",
    "gust_factor.columns = ['G_u', 'G_v', 'G_v/G_u']\n",
    "gust_factor['G_v/G_u'] = gust_factor['G_v']/gust_factor['G_u']\n",
    "# 作图\n",
    "title_name = 'Comparison of Lateral and Longitudinal Gust Factor'\n",
    "chart1 = (alt\n",
    "          .Chart()\n",
    "          .mark_line(strokeWidth=1.5, point=True)\n",
    "          .encode(alt.X('index:T', title=None, axis=alt.Axis(format='%0H:%0M')),\n",
    "                  alt.Y('G_v/G_u:Q', title='Gust Factor Ratio'))\n",
    "         )\n",
    "hline = alt.Chart().mark_rule(strokeDash=[12,5], strokeWidth=2, color='#666666').encode(y='a:Q').transform_calculate(a='%f'%gust_factor['G_v/G_u'].mean())\n",
    "chart = (alt\n",
    "         .layer(hline, chart1, data=gust_factor.reset_index(), title='')\n",
    "         .configure_axis(titleFontSize=24, labelFontSize=18, labelFont='Times New Roman', titleFont='Times New Roman')\n",
    "         .configure_title(font='Times New Roman', fontSize=30)\n",
    "         .properties(width=1300)\n",
    "         #.interactive(bind_x = False) # 交互性设置\n",
    "        )\n",
    "chart.display()\n",
    "# picture_path1 = picture_path0 + title_name + '.png'\n",
    "# chart.save(picture_path1, scale_factor=10)"
   ]
  },
  {
   "cell_type": "markdown",
   "metadata": {},
   "source": [
    "## max, min, mean"
   ]
  },
  {
   "cell_type": "code",
   "execution_count": null,
   "metadata": {},
   "outputs": [],
   "source": [
    "# 选定数据\n",
    "gust_factor = data1['gust_factor']\n",
    "# 计算\n",
    "gust_factor.columns = ['G_u', 'G_v', 'G_w']\n",
    "print('min:\\n%s'%gust_factor.min())\n",
    "print('\\nmax:\\n%s'%gust_factor.max())\n",
    "print('\\nmean:\\n%s'%gust_factor.mean())"
   ]
  },
  {
   "cell_type": "markdown",
   "metadata": {},
   "source": [
    "## 随平均风变化（线性拟合）"
   ]
  },
  {
   "cell_type": "code",
   "execution_count": null,
   "metadata": {},
   "outputs": [],
   "source": [
    "## 选定数据\n",
    "average_wind = data0[['uxy_mean','Angle']].resample('10T').mean()[start_time:end_time]\n",
    "gust_factor = data1['gust_factor']\n",
    "title_name = 'Variation of Gust Factor with Average Wind Speed'\n",
    "\n",
    "## 线性拟合 3个湍流度随平均风变化\n",
    "# 生成点数据\n",
    "gust_factor.columns = ['G_u', 'G_v', 'G_w']\n",
    "gust_factor.index = average_wind['uxy_mean']\n",
    "point_data = gust_factor\n",
    "\n",
    "# 生成拟合数据\n",
    "poly_data = pd.DataFrame({'uxy_mean': np.linspace(point_data.index.min(), point_data.index.max(), 10)})\n",
    "for ii in ['G_u', 'G_v', 'G_w']:\n",
    "    poly_data[ii] = np.poly1d(np.polyfit(point_data.index, point_data[ii], 1))(poly_data['uxy_mean'])\n",
    "\n",
    "# 画点图\n",
    "point_data = point_data.reset_index().melt('uxy_mean', var_name='Gust factor', value_name='gust factor')\n",
    "point_chart = (alt\n",
    "               .Chart(point_data, title='')\n",
    "               .mark_point(strokeWidth=6, size=30, clip=True)\n",
    "               .encode(alt.X('uxy_mean:Q', title='10 min Mean Wind Speed (m/s)', scale=alt.Scale(zero=False)),\n",
    "                       alt.Y('gust factor:Q', title='Gust Factor'),\n",
    "                       alt.Color('Gust factor:N', legend=None),\n",
    "                       alt.Shape('Gust factor:N', legend=alt.Legend(symbolStrokeWidth=6, symbolSize=30, direction='horizontal')))\n",
    "              )\n",
    "# 画拟合图\n",
    "poly_data = poly_data.melt('uxy_mean', var_name='Gust factor', value_name='gust factor')\n",
    "poly_chart = (alt\n",
    "              .Chart(poly_data)\n",
    "              .mark_line(strokeWidth=3)\n",
    "              .encode(alt.X('uxy_mean:Q', scale=alt.Scale(zero=False)),\n",
    "                      alt.Y('gust factor:Q', scale=alt.Scale(domain=(0,3))),\n",
    "                      alt.Color('Gust factor:N', legend=alt.Legend(symbolStrokeWidth=4, symbolSize=300, direction='horizontal')))\n",
    "             )\n",
    "# 把点图和拟合线图放在一起\n",
    "chart = ((point_chart + poly_chart)\n",
    "         .configure_axis(titleFontSize=28, labelFontSize=22, labelFont='Times New Roman', titleFont='Times New Roman', domainColor='#000', tickColor='#000')\n",
    "         .configure_legend(title=None, labelFont='Times New Roman',labelFontSize=24, labelFontWeight='bold',\n",
    "                            orient='top-left', rowPadding=15, labelLimit=400, symbolOffset=15)\n",
    "         .properties(width=1300)\n",
    "         .resolve_scale(color='independent', shape='independent')\n",
    "         #.interactive(bind_x = False) # 交互性设置\n",
    "        )\n",
    "chart.display()\n",
    "# picture_path1 = picture_path0 + title_name + '.png'\n",
    "# chart.save(picture_path1, scale_factor=10)"
   ]
  },
  {
   "cell_type": "markdown",
   "metadata": {
    "colab_type": "text",
    "id": "sfB6bMUEu76f"
   },
   "source": [
    "# Turbulence integral scale"
   ]
  },
  {
   "cell_type": "markdown",
   "metadata": {},
   "source": [
    "## 时程"
   ]
  },
  {
   "cell_type": "code",
   "execution_count": null,
   "metadata": {
    "colab": {},
    "colab_type": "code",
    "id": "MS-qF5_lzFhj",
    "run_control": {
     "marked": true
    }
   },
   "outputs": [],
   "source": [
    "# 选定数据\n",
    "turbulence_integral_scale = data1['turbulence_integral_scale']\n",
    "title_name = 'Variation of Turbulence Integral Scale with Time'\n",
    "# 计算\n",
    "turbulence_integral_scale.columns = ['L_u', 'L_v', 'L_w']\n",
    "turbulence_integral_scale = turbulence_integral_scale.reset_index().melt('index', var_name='Turbulence integral scale', value_name='turbulence integral scale')\n",
    "# 绘制3个湍流度 时程\n",
    "chart = (alt.Chart(turbulence_integral_scale,title='')\n",
    "         .mark_point(strokeWidth=5, size=10, clip=True)\n",
    "         .encode(alt.X('index:T', title=None, axis=alt.Axis(format=('%0H:%0M'))),\n",
    "                 alt.Y('turbulence integral scale:Q', title='Turbulence Integral Scale (m)'),\n",
    "                 alt.Color('Turbulence integral scale:N', legend=alt.Legend(\n",
    "                     title=None, orient='top-left', rowPadding=7, titlePadding=10,\n",
    "                     labelFont='Times New Roman',labelFontSize=18, labelLimit=400)),\n",
    "                 alt.Shape('Turbulence integral scale:N', legend=alt.Legend(\n",
    "                     title=None, orient='top-left', rowPadding=7, titlePadding=10,\n",
    "                     labelFont='Times New Roman',labelFontSize=18, labelLimit=400)))\n",
    "         .configure_axis(titleFontSize=24, labelFontSize=18, labelFont='Times New Roman', titleFont='Times New Roman')\n",
    "         .configure_title(font='Times New Roman', fontSize=30)\n",
    "         .properties(width=1300)\n",
    "         #.interactive(bind_x = False) # 交互性设置\n",
    "        )\n",
    "chart.display()\n",
    "# picture_path1 = picture_path0 + title_name + '.png'\n",
    "# chart.save(picture_path1, scale_factor=10)"
   ]
  },
  {
   "cell_type": "markdown",
   "metadata": {},
   "source": [
    "## 玫瑰图"
   ]
  },
  {
   "cell_type": "code",
   "execution_count": null,
   "metadata": {},
   "outputs": [],
   "source": [
    "## 选定数据\n",
    "wind_type = 'w'\n",
    "title_name = 'Wind Rose of Turbulence integral scale (%s)' % wind_type\n",
    "average_wind = data0[['uxy_mean','Angle']].resample('10T').first()[start_time:end_time]\n",
    "turbulence_integral_scale = data1['turbulence_integral_scale'][['turbulence_integral_scale_'+wind_type]][start_time:end_time]\n",
    "\n",
    "# 计算参数\n",
    "name_U = 'U (m/s)'\n",
    "name_Z = 'Turbulence integral scale (%s)' % wind_type\n",
    "scatter_colormap = 'mycolormap' # 选择颜色图 mycolormap、parula(200)、jet(200)、hsv(200)、gray(200)、lines(5)\n",
    "scatter_size = float(60)  # 点大小\n",
    "scatter_LineWidth = float(1) # 点轮廓粗细\n",
    "scatter_MarkerFaceAlpha = float(0.5) # 面透明度\n",
    "scatter_MarkerEdgeAlpha = float(1) # 线透明度\n",
    "picture_path = picture_path0 + title_name # 若为空，则不保存图片，否则保存成emf文件，注意，picture_path不必给出后缀\n",
    "\n",
    "# matlab计算 传入多列数据\n",
    "engine.cd(r'E:\\【论文】\\【小论文】\\模态识别\\Matlab脚本\\Method_Functions\\Wind')\n",
    "\n",
    "# matlab计算 传入多列数据\n",
    "engine.cd(r'E:\\【论文】\\【小论文】\\模态识别\\Matlab脚本\\Method_Functions\\Wind')\n",
    "engine.plot_ScatterWindRose_py(matlab.double(np.array(average_wind['Angle'].T).tolist()),\n",
    "       matlab.double(np.array(average_wind['uxy_mean'].T).tolist()),\n",
    "       matlab.double(np.array(turbulence_integral_scale.T).tolist()),\n",
    "       name_U,name_Z,scatter_colormap,scatter_size,scatter_LineWidth,scatter_MarkerFaceAlpha,scatter_MarkerEdgeAlpha,picture_path,nargout=0)"
   ]
  },
  {
   "cell_type": "markdown",
   "metadata": {},
   "source": [
    "# Von Karman Spectrum"
   ]
  },
  {
   "cell_type": "code",
   "execution_count": null,
   "metadata": {
    "scrolled": false
   },
   "outputs": [],
   "source": [
    "average_wind = data0[['uxy_mean']].resample('10T').mean()[start_time:end_time]\n",
    "names = locals()\n",
    "for ii in ['u','v','w']:\n",
    "    # 选定数据\n",
    "    wind_type = ii\n",
    "    fluctuating_wind = data0[[wind_type]]\n",
    "#     time_stamp = pd.Timestamp('2011-08-07 01:30:00') # 选择时间点 风速最大点 12.821526\n",
    "#     time_stamp = pd.Timestamp('2011-08-07 04:50:00') # 选择时间点 风速最小点 6.669404\n",
    "    time_stamp = pd.Timestamp('2011-08-06 19:40:00') # 选择时间点 风速均值点 10.11002\n",
    "\n",
    "    U = average_wind['uxy_mean'][time_stamp]\n",
    "    L = data1['turbulence_integral_scale']['turbulence_integral_scale_'+wind_type][time_stamp]\n",
    "\n",
    "    # 计算参数\n",
    "    long = 10 # 按分钟计，用于计算的数据长度，注意，这里前后都要取long\n",
    "    Fs = 10 # 采样频率\n",
    "    PSDfangfa = 2 # 1为周期图法，2为多个周期图平均法\n",
    "    m = 2 # 平均周期图法的平分数\n",
    "    if_log = 0 # 是否对结果取对数\n",
    "    draw = 0 # 是否用matlab作图\n",
    "\n",
    "    # matlab计算 传入多列数据\n",
    "    long=pd.Timedelta('%fT'%long);Fs=float(Fs);PSDfangfa=float(PSDfangfa);m=float(m);if_log=float(if_log);draw=float(draw)\n",
    "    engine.cd(r'E:\\【论文】\\【小论文】\\模态识别\\Matlab脚本\\Method_Functions\\Wind')\n",
    "    [Frequency,S0] = engine.ANPSD_function_for_wind(matlab.double(np.array(fluctuating_wind[time_stamp:time_stamp+long].T).tolist()),Fs,PSDfangfa,m,if_log,draw,nargout=2)\n",
    "    S1 = engine.VonKarmanSpectrum_py(Frequency,float(U),float(L),wind_type)\n",
    "\n",
    "    # 作图预处理\n",
    "    S_F = pd.DataFrame([]); Peak = pd.DataFrame([])\n",
    "    S_F['Frequency'] = list(Frequency[0]*L/U) # 注意，此Frequency不是频率了，只是懒得换标识了\n",
    "    S_F['The Measured Spectrum'] = list(S0[0])\n",
    "    S_F['Von Karman Spectrum'] = list(S1[0])\n",
    "    S_F = S_F.replace([np.inf, -np.inf, 0], np.nan).dropna()\n",
    "    S_F = S_F.melt('Frequency', var_name='S', value_name='S0_S1')\n",
    "\n",
    "    # 作图\n",
    "    time_stamp_str = time_stamp.strftime('%Y-%m-%d %H:%M')\n",
    "    title_name = 'Von Karman Spectrum (%s) (U=%.2f m/s)' % (wind_type,U)\n",
    "    chart1 = (alt\n",
    "              .Chart(S_F[S_F['S']=='The Measured Spectrum'], title=title_name)\n",
    "              .mark_line(strokeWidth=1, clip=True)\n",
    "              .encode(alt.X('Frequency:Q', title='f L / U', scale=alt.Scale(type='log'),\n",
    "                            axis=alt.Axis(format='e', domainColor='#000', tickColor='#000')),\n",
    "                      alt.Y('S0_S1:Q', title='f S / σ²', scale=alt.Scale(zero=False,type='log'),\n",
    "                            axis=alt.Axis(format='e', domainColor='#000', tickColor='#000')),\n",
    "                      alt.Color('S:N'))\n",
    "             )\n",
    "    chart2 = (alt\n",
    "              .Chart(S_F[S_F['S']=='Von Karman Spectrum'], title=title_name)\n",
    "              .mark_line(strokeWidth=2, clip=True)\n",
    "              .encode(alt.X('Frequency:Q'), alt.Y('S0_S1:Q'),\n",
    "                      alt.Color('S:N', scale=alt.Scale(range=('#4c77a8','red'))))\n",
    "             )\n",
    "    text = (alt\n",
    "            .Chart(pd.DataFrame({'x':[S_F['Frequency'][10], S_F['Frequency'][10]],\n",
    "                                 'y':[1e-2, 1e-2],\n",
    "                                 'name':['U=%.3f m/s'%U, 'L=%.3f m'%L]}))\n",
    "            .mark_text(clip=True)\n",
    "            .encode(alt.X('x:Q'), alt.Y('y:Q'),alt.Text('name'))\n",
    "           )\n",
    "    names['chart_'+ii] = (chart1 + chart2 + text).properties(width=450,height=350).interactive()\n",
    "    \n",
    "chart = ((chart_u | chart_v | chart_w)\n",
    "         .configure_axis(titleFontSize=28, labelFontSize=25, labelFont='Times New Roman', titleFont='Times New Roman', titleFontStyle='italic')\n",
    "         .configure_legend(title=None, labelFont='Times New Roman',labelFontSize=20, labelFontWeight='bold',\n",
    "                           rowPadding=15, labelLimit=400, orient='top-left',\n",
    "                           symbolStrokeWidth=4, symbolSize=300, symbolOffset=15)\n",
    "         .configure_title(font='Times New Roman', fontSize=28)\n",
    "         .configure_text(font='Times New Roman', fontSize=24, align='left')\n",
    "        )\n",
    "chart.display()\n",
    "\n",
    "# 存图\n",
    "title_name = 'Von Karman Spectrum (U=%.2f)' % U\n",
    "# picture_path1 = picture_path0 + title_name + '.png'\n",
    "# chart.save(picture_path1, scale_factor=10)"
   ]
  },
  {
   "cell_type": "code",
   "execution_count": null,
   "metadata": {},
   "outputs": [],
   "source": [
    "average_wind = data0[['uxy_mean']].resample('10T').mean()[start_time:end_time]\n",
    "average_wind.max()"
   ]
  },
  {
   "cell_type": "markdown",
   "metadata": {},
   "source": [
    "# 其他拟合"
   ]
  },
  {
   "cell_type": "markdown",
   "metadata": {},
   "source": [
    "## 阵风因子随湍流度变化（线性拟合）"
   ]
  },
  {
   "cell_type": "code",
   "execution_count": null,
   "metadata": {},
   "outputs": [],
   "source": [
    "## 选定数据\n",
    "turbulence_intensity = data1['turbulence_intensity']\n",
    "gust_factor = data1['gust_factor']\n",
    "title_name = 'Variation of Gust Factor with Turbulence Intensity'\n",
    "\n",
    "## 线性拟合 3个阵风因子随湍流度变化\n",
    "# 生成点数据\n",
    "gust_factor.columns = ['Wind_u', 'Wind_v', 'Wind_w']\n",
    "turbulence_intensity.columns = ['Wind_u', 'Wind_v', 'Wind_w']\n",
    "gust_factor = gust_factor.reset_index().melt('index', var_name='Wind type', value_name='gust factor').drop('index',axis=1)\n",
    "turbulence_intensity = turbulence_intensity.reset_index().melt('index', var_name='Wind type', value_name='turbulence intensity').drop('index',axis=1)\n",
    "point_gust_turbulence = pd.concat([gust_factor, turbulence_intensity['turbulence intensity']], axis=1).set_index('Wind type')\n",
    "point_gust_turbulence = point_gust_turbulence[:-1] # 最后一个值有点太偏了，就这里手动删除了\n",
    "\n",
    "# 生成拟合数据\n",
    "poly_data = pd.DataFrame({'turbulence intensity': np.linspace(point_gust_turbulence['turbulence intensity'].min(), point_gust_turbulence['turbulence intensity'].max(), 10)})\n",
    "for ii in ['Wind_u', 'Wind_v', 'Wind_w']:\n",
    "    poly_data[ii] = np.poly1d(np.polyfit(point_gust_turbulence.loc[ii,'turbulence intensity'], point_gust_turbulence.loc[ii,'gust factor'], 1))(poly_data['turbulence intensity'])\n",
    "poly_data = poly_data.melt('turbulence intensity', var_name='Wind type', value_name='gust factor')\n",
    "\n",
    "# 给出拟合公式和误差\n",
    "for ii in ['u', 'v', 'w']:\n",
    "    slope = np.polyfit(point_gust_turbulence.loc['Wind_%s'%ii,'turbulence intensity'], point_gust_turbulence.loc['Wind_%s'%ii,'gust factor'], 1)\n",
    "    拟合 = np.poly1d(slope)(point_gust_turbulence.loc['Wind_%s'%ii,'turbulence intensity'])\n",
    "    均方误差 =  ((拟合-point_gust_turbulence.loc['Wind_%s'%ii,'gust factor'])**2).mean()\n",
    "    print('G_%s = %.3f I_%s + %.3f     均方误差为 %.5f'%(ii,slope[0],ii,slope[1],均方误差))\n",
    "\n",
    "# 画点图\n",
    "point_chart = (alt\n",
    "               .Chart(point_gust_turbulence.reset_index(), title='')\n",
    "               .mark_point(strokeWidth=5, size=25, clip=True)\n",
    "               .encode(alt.X('turbulence intensity:Q', title='Turbulence Intensity', scale=alt.Scale(zero=False)),\n",
    "                       alt.Y('gust factor:Q', title='Gust Factor'),\n",
    "                       alt.Color('Wind type:N'),\n",
    "                       alt.Shape('Wind type:N', legend=alt.Legend(symbolStrokeWidth=6, symbolSize=30, direction='horizontal')))\n",
    "              )\n",
    "# 画拟合图\n",
    "poly_chart = (alt\n",
    "              .Chart(poly_data)\n",
    "              .mark_line(strokeWidth=3).\n",
    "              encode(alt.X('turbulence intensity:Q', scale=alt.Scale(zero=False)),\n",
    "                     alt.Y('gust factor:Q'),\n",
    "                     alt.Color('Wind type:N', legend=alt.Legend(symbolStrokeWidth=4, symbolSize=300, direction='horizontal')))\n",
    "             )\n",
    "# 把点图和拟合线图放在一起\n",
    "chart = ((point_chart + poly_chart)\n",
    "         .configure_axis(titleFontSize=28, labelFontSize=22, labelFont='Times New Roman', titleFont='Times New Roman', domainColor='#000', tickColor='#000')\n",
    "         .configure_legend(title=None, labelFont='Times New Roman',labelFontSize=24, labelFontWeight='bold',\n",
    "                           orient='top-left', rowPadding=15, labelLimit=400, symbolOffset=15)\n",
    "         .properties(width=1300, height=370)\n",
    "         .resolve_scale(color='independent', shape='independent')\n",
    "         #.interactive(bind_x = False) # 交互性设置\n",
    "        )\n",
    "chart.display()\n",
    "# picture_path1 = picture_path0 + title_name + '.png'\n",
    "# chart.save(picture_path1, scale_factor=10)"
   ]
  },
  {
   "cell_type": "code",
   "execution_count": null,
   "metadata": {},
   "outputs": [],
   "source": [
    "from scipy.optimize import curve_fit\n",
    "## 选定数据\n",
    "turbulence_intensity = data1['turbulence_intensity']\n",
    "gust_factor = data1['gust_factor']\n",
    "title_name = 'Variation of Gust Factor with Turbulence Intensity'\n",
    "\n",
    "## 线性拟合 3个阵风因子随湍流度变化\n",
    "# 生成点数据\n",
    "gust_factor.columns = ['Wind_u', 'Wind_v', 'Wind_w']\n",
    "turbulence_intensity.columns = ['Wind_u', 'Wind_v', 'Wind_w']\n",
    "gust_factor = gust_factor.reset_index().melt('index', var_name='Wind type', value_name='gust factor').drop('index',axis=1)\n",
    "turbulence_intensity = turbulence_intensity.reset_index().melt('index', var_name='Wind type', value_name='turbulence intensity').drop('index',axis=1)\n",
    "point_gust_turbulence = pd.concat([gust_factor, turbulence_intensity['turbulence intensity']], axis=1).set_index('Wind type')\n",
    "point_gust_turbulence = point_gust_turbulence[:-1] # 最后一个值有点太偏了，就这里手动删除了\n",
    "\n",
    "# 生成拟合数据\n",
    "poly_data = pd.DataFrame({'turbulence intensity': np.linspace(point_gust_turbulence['turbulence intensity'].min(), point_gust_turbulence['turbulence intensity'].max(), 10)})\n",
    "for ii in ['Wind_u', 'Wind_v', 'Wind_w']:\n",
    "    # 拟合给定公式的参数\n",
    "    if ii == 'Wind_u':\n",
    "        def func(x,a,b):\n",
    "            return 1 + a*x**b*np.log(10*60/3)\n",
    "    else:\n",
    "        def func(x,a,b):\n",
    "            return a*x**b*np.log(10*60/3)\n",
    "    [a,b], pcov = curve_fit(func, point_gust_turbulence.loc[ii,'turbulence intensity'], point_gust_turbulence.loc[ii,'gust factor'])#训练函数\n",
    "    poly_data[ii] = func(poly_data['turbulence intensity'],a,b)\n",
    "poly_data = poly_data.melt('turbulence intensity', var_name='Wind type', value_name='gust factor')\n",
    "\n",
    "# 给出拟合公式\n",
    "for ii in ['u', 'v', 'w']:\n",
    "    # 拟合给定公式的参数\n",
    "    if ii == 'u':\n",
    "        def func(x,a,b):\n",
    "            return 1 + a*x**b*np.log(10*60/3)\n",
    "        [a,b], pcov = curve_fit(func, point_gust_turbulence.loc['Wind_%s'%ii,'turbulence intensity'], point_gust_turbulence.loc['Wind_%s'%ii,'gust factor'])#训练函数\n",
    "        拟合 = func(point_gust_turbulence.loc['Wind_%s'%ii,'turbulence intensity'],a,b)\n",
    "        均方误差 =  ((拟合-point_gust_turbulence.loc['Wind_%s'%ii,'gust factor'])**2).mean()\n",
    "        print('G_%s = 1 + %.3f I_%s^%.3f * ln(10*60/3)     均方误差为 %.5f'%(ii,a,ii,b,均方误差))\n",
    "    else:\n",
    "        def func(x,a,b):\n",
    "            return a*x**b*np.log(10*60/3)\n",
    "        [a,b], pcov = curve_fit(func, point_gust_turbulence.loc['Wind_%s'%ii,'turbulence intensity'], point_gust_turbulence.loc['Wind_%s'%ii,'gust factor'])#训练函数\n",
    "        拟合 = func(point_gust_turbulence.loc['Wind_%s'%ii,'turbulence intensity'],a,b)\n",
    "        均方误差 =  ((拟合-point_gust_turbulence.loc['Wind_%s'%ii,'gust factor'])**2).mean()\n",
    "        print('G_%s = %.3f I_%s^%.3f * ln(10*60/3)     均方误差为 %.5f'%(ii,a,ii,b,均方误差))\n",
    "\n",
    "# 画点图\n",
    "point_chart = (alt\n",
    "               .Chart(point_gust_turbulence.reset_index(), title='')\n",
    "               .mark_point(strokeWidth=5, size=25, clip=True)\n",
    "               .encode(alt.X('turbulence intensity:Q', title='Turbulence Intensity', scale=alt.Scale(zero=False)),\n",
    "                       alt.Y('gust factor:Q', title='Gust Factor'),\n",
    "                       alt.Color('Wind type:N'),\n",
    "                       alt.Shape('Wind type:N', legend=alt.Legend(symbolStrokeWidth=6, symbolSize=30, direction='horizontal')))\n",
    "              )\n",
    "# 画拟合图\n",
    "poly_chart = (alt\n",
    "              .Chart(poly_data)\n",
    "              .mark_line(strokeWidth=3).\n",
    "              encode(alt.X('turbulence intensity:Q', scale=alt.Scale(zero=False)),\n",
    "                     alt.Y('gust factor:Q'),\n",
    "                     alt.Color('Wind type:N', legend=alt.Legend(symbolStrokeWidth=4, symbolSize=300, direction='horizontal')))\n",
    "             )\n",
    "# 把点图和拟合线图放在一起\n",
    "chart = ((point_chart + poly_chart)\n",
    "         .configure_axis(titleFontSize=28, labelFontSize=22, labelFont='Times New Roman', titleFont='Times New Roman', domainColor='#000', tickColor='#000')\n",
    "         .configure_legend(title=None, labelFont='Times New Roman',labelFontSize=24, labelFontWeight='bold',\n",
    "                           orient='top-left', rowPadding=15, labelLimit=400, symbolOffset=15)\n",
    "         .properties(width=1300)\n",
    "         .resolve_scale(color='independent', shape='independent')\n",
    "         #.interactive(bind_x = False) # 交互性设置\n",
    "        )\n",
    "chart.display()\n",
    "# picture_path1 = picture_path0 + title_name + '.png'\n",
    "# chart.save(picture_path1, scale_factor=10)"
   ]
  },
  {
   "cell_type": "code",
   "execution_count": null,
   "metadata": {},
   "outputs": [],
   "source": [
    "%matplotlib inline\n",
    "import matplotlib.pyplot as plt\n",
    "from scipy.optimize import curve_fit\n",
    "import numpy as np\n",
    "x = np.arange(1, 17, 1)\n",
    "y = np.array([4.00, 6.40, 8.00, 8.80, 9.22, 9.50, 9.70, 9.86, 10.00, 10.20, 10.32, 10.42, 10.50, 10.55, 10.58, 10.60])\n",
    "'''\n",
    "指定的公式\n",
    "'''\n",
    "def func(x,a,b):\n",
    "    return 1 + a*x**b*np.log(10*60/3)\n",
    "[a,b], pcov = curve_fit(func, x, y)#训练函数\n",
    "yvals=func(x,a,b)\n",
    "plot1=plt.plot(x, y, '*',label='original values')\n",
    "plot2=plt.plot(x, yvals, 'r',label='curve_fit values')\n",
    "plt.xlabel('x axis')\n",
    "plt.ylabel('y axis')\n",
    "plt.legend(loc=4)\n",
    "plt.title('curve_fit')\n"
   ]
  }
 ],
 "metadata": {
  "colab": {
   "collapsed_sections": [],
   "name": "航博十分钟风速图.ipynb",
   "provenance": [],
   "version": "0.3.2"
  },
  "hide_input": false,
  "kernelspec": {
   "display_name": "Python [conda env:HB]",
   "language": "python",
   "name": "conda-env-HB-py"
  },
  "language_info": {
   "codemirror_mode": {
    "name": "ipython",
    "version": 3
   },
   "file_extension": ".py",
   "mimetype": "text/x-python",
   "name": "python",
   "nbconvert_exporter": "python",
   "pygments_lexer": "ipython3",
   "version": "3.7.3"
  },
  "toc": {
   "base_numbering": 1,
   "nav_menu": {
    "height": "343px",
    "width": "360px"
   },
   "number_sections": true,
   "sideBar": true,
   "skip_h1_title": false,
   "title_cell": "Table of Contents",
   "title_sidebar": "Contents",
   "toc_cell": false,
   "toc_position": {
    "height": "46.5px",
    "left": "1054.23px",
    "top": "125px",
    "width": "212px"
   },
   "toc_section_display": true,
   "toc_window_display": true
  },
  "varInspector": {
   "cols": {
    "lenName": 16,
    "lenType": 16,
    "lenVar": 40
   },
   "kernels_config": {
    "python": {
     "delete_cmd_postfix": "",
     "delete_cmd_prefix": "del ",
     "library": "var_list.py",
     "varRefreshCmd": "print(var_dic_list())"
    },
    "r": {
     "delete_cmd_postfix": ") ",
     "delete_cmd_prefix": "rm(",
     "library": "var_list.r",
     "varRefreshCmd": "cat(var_dic_list()) "
    }
   },
   "position": {
    "height": "280.5px",
    "left": "792px",
    "right": "20px",
    "top": "263px",
    "width": "350px"
   },
   "types_to_exclude": [
    "module",
    "function",
    "builtin_function_or_method",
    "instance",
    "_Feature"
   ],
   "window_display": false
  }
 },
 "nbformat": 4,
 "nbformat_minor": 2
}
