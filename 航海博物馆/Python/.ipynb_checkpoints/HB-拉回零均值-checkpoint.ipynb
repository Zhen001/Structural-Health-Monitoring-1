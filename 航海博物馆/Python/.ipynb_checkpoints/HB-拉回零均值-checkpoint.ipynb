{
 "cells": [
  {
   "cell_type": "markdown",
   "metadata": {},
   "source": [
    "# 参数设置"
   ]
  },
  {
   "cell_type": "code",
   "execution_count": null,
   "metadata": {},
   "outputs": [],
   "source": [
    "import os\n",
    "import pickle\n",
    "import subprocess\n",
    "import numpy as np\n",
    "import pandas as pd\n",
    "import scipy.io as scio\n",
    "\n",
    "# 选择数据\n",
    "direction = 'North' # North、South\n",
    "with open(r'E:/【论文】/【小论文】/航博/航博数据/accelerate/%s/原始数据/第二步提取：python/acc.pkl'%direction,'rb') as f:\n",
    "    acc = pickle.load(f)\n",
    "\n",
    "# 框定时间范围\n",
    "start_time = pd.Timestamp('2011-08-06 13:00'); end_time = pd.Timestamp('2011-08-07 05:10')  # 数据过饱和十分钟，画图时只用到5:00\n",
    "acc = acc[start_time:end_time]\n",
    "time_index = acc.index\n",
    "acc = acc.reset_index(drop = True)\n",
    "\n",
    "# 基本参数\n",
    "Fs = 204.8\n",
    "interval_0 = 0.5 # 分钟\n",
    "interval = int(interval_0*60*204.8)"
   ]
  },
  {
   "cell_type": "markdown",
   "metadata": {},
   "source": [
    "# 拉回零均值"
   ]
  },
  {
   "cell_type": "code",
   "execution_count": null,
   "metadata": {
    "scrolled": true
   },
   "outputs": [],
   "source": [
    "acc_zero = pd.DataFrame([])\n",
    "for i in range(5):\n",
    "    accelerate = []; mean_list = []; n = 0\n",
    "    for ii in range(0,len(acc),int(interval)):\n",
    "        n += 1\n",
    "        accelerate_list = acc.iloc[ii:ii+interval,i]\n",
    "        mean = accelerate_list.mean()\n",
    "        if n == 1: # 第一个直接拉回零均值，不能对空列表求均值，只好这样\n",
    "            accelerate_list = [x - mean for x in accelerate_list]\n",
    "            mean_list.append(mean)\n",
    "        else: # 如果第n次均值和前面的均值偏离太大，就先用多项式拟合消除趋势项，再拉回零均值\n",
    "            if abs(mean-np.mean(mean_list)) > np.std(mean_list) and n > 5:\n",
    "                # 用n次多项式拟合\n",
    "                p = np.polyfit(accelerate_list.index, accelerate_list.values, 3)\n",
    "                yvals = np.polyval(p,accelerate_list.index)\n",
    "                accelerate_list = list(map(lambda x: x[0]-x[1], zip(accelerate_list.values, yvals))) # 消除趋势项\n",
    "                mean_list = [x + (mean - np.mean(mean_list)) for x in mean_list] # 把前面的均值人为地升降\n",
    "                mean_list.append(mean)\n",
    "            else: # 对于前m次以及偏差不大的，直接拉回零均值\n",
    "                accelerate_list = [x - mean for x in accelerate_list]\n",
    "                mean_list.append(mean)\n",
    "        accelerate += accelerate_list\n",
    "    acc_zero[i] = accelerate\n",
    "acc_zero.index = time_index"
   ]
  },
  {
   "cell_type": "markdown",
   "metadata": {},
   "source": [
    "# 去除野点"
   ]
  },
  {
   "cell_type": "code",
   "execution_count": null,
   "metadata": {},
   "outputs": [],
   "source": [
    "# 定义部分排序算法（效率很高）(前k个最小值)\n",
    "def partition_arg_topK(matrix, K, reserve=0, axis=0):\n",
    "    \"\"\"\n",
    "    perform topK based on np.argpartition\n",
    "    :param matrix: to be sorted\n",
    "    :param K: select and sort the top K items\n",
    "    :param reserve: 是否从大到小排序\n",
    "    :param axis: 0 or 1. dimension to be sorted.\n",
    "    :return:\n",
    "    \"\"\"\n",
    "    if reserve: matrix = -matrix\n",
    "    a_part = np.argpartition(matrix, K, axis=axis)\n",
    "    if axis == 0:\n",
    "        row_index = np.arange(matrix.shape[1 - axis])\n",
    "        a_sec_argsort_K = np.argsort(matrix[a_part[0:K, :], row_index], axis=axis)\n",
    "        return a_part[0:K, :][a_sec_argsort_K, row_index]\n",
    "    else:\n",
    "        column_index = np.arange(matrix.shape[1 - axis])[:, None]\n",
    "        a_sec_argsort_K = np.argsort(matrix[column_index, a_part[:, 0:K]], axis=axis)\n",
    "        return a_part[:, 0:K][column_index, a_sec_argsort_K]"
   ]
  },
  {
   "cell_type": "code",
   "execution_count": null,
   "metadata": {},
   "outputs": [],
   "source": [
    "# 找出野点索引\n",
    "k = 15000\n",
    "start = pd.Timestamp('2011-08-06 19:00'); end = pd.Timestamp('2011-08-06 21:00')\n",
    "start_number = len(acc_zero[start_time:start])-1\n",
    "outliers_max = partition_arg_topK(acc_zero[start:end].values, k, reserve=1) + start_number\n",
    "outliers_min = partition_arg_topK(acc_zero[start:end].values, k, reserve=0) + start_number"
   ]
  },
  {
   "cell_type": "code",
   "execution_count": null,
   "metadata": {},
   "outputs": [],
   "source": [
    "# 作图观察野点\n",
    "y = acc_zero.index[outliers_max[:,0]]\n",
    "import matplotlib.pyplot as plt\n",
    "plt.plot(y,'.')\n",
    "plt.show()"
   ]
  },
  {
   "cell_type": "code",
   "execution_count": null,
   "metadata": {
    "scrolled": false
   },
   "outputs": [],
   "source": [
    "# 把野点索引从小到大排序，而不是按对应值的大小排序\n",
    "outliers_max.T.sort(); outliers_min.T.sort()\n",
    "# 从野点之前1000个点(的前500个点)里找替代值\n",
    "for i in range(outliers_max.shape[0]):\n",
    "    for j in range(outliers_max.shape[1]):\n",
    "        acc_zero.iloc[outliers_max[i,j],j] = acc_zero.iloc[outliers_max[i,j]-int(204.8*60*3),j]\n",
    "for i in range(outliers_min.shape[0]):\n",
    "    for j in range(outliers_min.shape[1]):\n",
    "        acc_zero.iloc[outliers_min[i,j],j] = acc_zero.iloc[outliers_min[i,j]-int(204.8*60*3),j]"
   ]
  },
  {
   "cell_type": "markdown",
   "metadata": {},
   "source": [
    "# 修复无信号值"
   ]
  },
  {
   "cell_type": "code",
   "execution_count": null,
   "metadata": {},
   "outputs": [],
   "source": [
    "# 要被修复段 South\n",
    "stamp1 = pd.Timestamp('2011-08-06 18:30')\n",
    "stamp2 = pd.Timestamp('2011-08-06 18:57')\n",
    "# 作为替换的段 South\n",
    "substitution_start = pd.Timestamp('2011-08-06 20:30')\n",
    "substitution_end = substitution_start + (stamp2-stamp1)\n",
    "# 开始修复\n",
    "a = acc_zero[start_time:stamp1].iloc[:-1]\n",
    "c = acc_zero[stamp2:end_time].iloc[1:]\n",
    "b = acc_zero[substitution_start:substitution_end]\n",
    "b.index = stamp1 + (b.index - substitution_start)\n",
    "acc_zero = pd.concat([a,b,c])\n",
    "del a,b,c"
   ]
  },
  {
   "cell_type": "code",
   "execution_count": null,
   "metadata": {},
   "outputs": [],
   "source": [
    "# 要被修复段 South\n",
    "stamp1 = pd.Timestamp('2011-08-07 00:26')\n",
    "stamp2 = pd.Timestamp('2011-08-07 00:34')\n",
    "# 作为替换的段 South\n",
    "substitution_start = pd.Timestamp('2011-08-07 00:15')\n",
    "substitution_end = substitution_start + (stamp2-stamp1)\n",
    "# 开始修复\n",
    "a = acc_zero[start_time:stamp1].iloc[:-1]\n",
    "c = acc_zero[stamp2:end_time].iloc[1:]\n",
    "b = acc_zero[substitution_start:substitution_end]\n",
    "b.index = stamp1 + (b.index - substitution_start)\n",
    "acc_zero = pd.concat([a,b,c])\n",
    "del a,b,c"
   ]
  },
  {
   "cell_type": "code",
   "execution_count": null,
   "metadata": {},
   "outputs": [],
   "source": [
    "# 要被修复段 North\n",
    "stamp1 = pd.Timestamp('2011-08-07 03:45')\n",
    "stamp2 = pd.Timestamp('2011-08-07 03:49')\n",
    "# 作为替换的段 South\n",
    "substitution_start = pd.Timestamp('2011-08-07 03:00')\n",
    "substitution_end = substitution_start + (stamp2-stamp1)\n",
    "# 开始修复\n",
    "a = acc_zero[start_time:stamp1].iloc[:-1]\n",
    "c = acc_zero[stamp2:end_time].iloc[1:]\n",
    "b = acc_zero[substitution_start:substitution_end]\n",
    "b.index = stamp1 + (b.index - substitution_start)\n",
    "acc_zero = pd.concat([a,b,c])\n",
    "del a,b,c"
   ]
  },
  {
   "cell_type": "markdown",
   "metadata": {},
   "source": [
    "# 拉回零均值"
   ]
  },
  {
   "cell_type": "code",
   "execution_count": null,
   "metadata": {},
   "outputs": [],
   "source": [
    "time_index_2 = acc_zero.index\n",
    "acc = acc_zero.copy().reset_index(drop = True)\n",
    "acc_zero = pd.DataFrame([])\n",
    "for i in range(5):\n",
    "    accelerate = []; mean_list = []; n = 0\n",
    "    for ii in range(0,len(acc),int(interval)):\n",
    "        n += 1\n",
    "        accelerate_list = acc.iloc[ii:ii+interval,i]\n",
    "        mean = accelerate_list.mean()\n",
    "        if n == 1: # 第一个直接拉回零均值，不能对空列表求均值，只好这样\n",
    "            accelerate_list = [x - mean for x in accelerate_list]\n",
    "            mean_list.append(mean)\n",
    "        else: # 如果第n次均值和前面的均值偏离太大，就先用多项式拟合消除趋势项，再拉回零均值\n",
    "            if abs(mean-np.mean(mean_list)) > np.std(mean_list) and n > 5:\n",
    "                # 用n次多项式拟合\n",
    "                p = np.polyfit(accelerate_list.index, accelerate_list.values, 3)\n",
    "                yvals = np.polyval(p,accelerate_list.index)\n",
    "                accelerate_list = list(map(lambda x: x[0]-x[1], zip(accelerate_list.values, yvals))) # 消除趋势项\n",
    "                mean_list = [x + (mean - np.mean(mean_list)) for x in mean_list] # 把前面的均值人为地升降\n",
    "                mean_list.append(mean)\n",
    "            else: # 对于前m次以及偏差不大的，直接拉回零均值\n",
    "                accelerate_list = [x - mean for x in accelerate_list]\n",
    "                mean_list.append(mean)\n",
    "        accelerate += accelerate_list\n",
    "    acc_zero[i] = accelerate\n",
    "acc_zero.index = time_index_2"
   ]
  },
  {
   "cell_type": "markdown",
   "metadata": {},
   "source": [
    "# 保存"
   ]
  },
  {
   "cell_type": "code",
   "execution_count": null,
   "metadata": {
    "run_control": {
     "marked": true
    }
   },
   "outputs": [],
   "source": [
    "import pickle\n",
    "with open(r'E:/【论文】/【小论文】/航博/航博数据/accelerate/%s/acc_zero.pkl'%direction, 'wb') as f:\n",
    "    pickle.dump(acc_zero, f)"
   ]
  },
  {
   "cell_type": "code",
   "execution_count": null,
   "metadata": {},
   "outputs": [],
   "source": [
    "# # 保存的不对，不知道怎么弄\n",
    "# dataNew = r'E:/【论文】/【小论文】/航博/航博数据/accelerate/South/acc_zero.mat'\n",
    "# scio.savemat(dataNew, {'acc':new_acc})"
   ]
  },
  {
   "cell_type": "code",
   "execution_count": null,
   "metadata": {},
   "outputs": [],
   "source": [
    "# # 文件变成1.21G\n",
    "# dataNew = r'E:/【论文】/【小论文】/航博/航博数据/accelerate/South/acc_zero.txt'\n",
    "# new_acc.to_csv(dataNew ,sep=' ', header=None, index=None)"
   ]
  }
 ],
 "metadata": {
  "hide_input": false,
  "kernelspec": {
   "display_name": "Python [conda env:HB]",
   "language": "python",
   "name": "conda-env-HB-py"
  },
  "language_info": {
   "codemirror_mode": {
    "name": "ipython",
    "version": 3
   },
   "file_extension": ".py",
   "mimetype": "text/x-python",
   "name": "python",
   "nbconvert_exporter": "python",
   "pygments_lexer": "ipython3",
   "version": "3.7.3"
  },
  "toc": {
   "base_numbering": 1,
   "nav_menu": {},
   "number_sections": true,
   "sideBar": true,
   "skip_h1_title": false,
   "title_cell": "Table of Contents",
   "title_sidebar": "Contents",
   "toc_cell": false,
   "toc_position": {
    "height": "calc(100% - 180px)",
    "left": "10px",
    "top": "150px",
    "width": "187.594px"
   },
   "toc_section_display": true,
   "toc_window_display": true
  },
  "varInspector": {
   "cols": {
    "lenName": 16,
    "lenType": 16,
    "lenVar": 40
   },
   "kernels_config": {
    "python": {
     "delete_cmd_postfix": "",
     "delete_cmd_prefix": "del ",
     "library": "var_list.py",
     "varRefreshCmd": "print(var_dic_list())"
    },
    "r": {
     "delete_cmd_postfix": ") ",
     "delete_cmd_prefix": "rm(",
     "library": "var_list.r",
     "varRefreshCmd": "cat(var_dic_list()) "
    }
   },
   "oldHeight": 516.5,
   "position": {
    "height": "537.406px",
    "left": "874.969px",
    "right": "20px",
    "top": "97.9815px",
    "width": "387.063px"
   },
   "types_to_exclude": [
    "module",
    "function",
    "builtin_function_or_method",
    "instance",
    "_Feature"
   ],
   "varInspector_section_display": "block",
   "window_display": false
  }
 },
 "nbformat": 4,
 "nbformat_minor": 2
}
